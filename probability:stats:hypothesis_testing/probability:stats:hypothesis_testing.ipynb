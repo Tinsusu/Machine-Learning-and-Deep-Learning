{
 "cells": [
  {
   "cell_type": "code",
   "execution_count": null,
   "id": "f6076ccd",
   "metadata": {},
   "outputs": [],
   "source": [
    "import sys\n",
    "print(sys.executable)\n",
    "print(sys.version)\n",
    "print(sys.version_info)"
   ]
  },
  {
   "cell_type": "code",
   "execution_count": 109,
   "id": "ced8f45f",
   "metadata": {
    "scrolled": true
   },
   "outputs": [
    {
     "name": "stdout",
     "output_type": "stream",
     "text": [
      "matplotlib version:3.6.0\n",
      "numpy version:1.24.0\n",
      "pandas version:1.5.0\n",
      "scipy version:1.10.0\n",
      "seaborn version:0.12.0\n"
     ]
    }
   ],
   "source": [
    "import seaborn as sns\n",
    "import pandas as pd\n",
    "import numpy as np\n",
    "import scipy as sci\n",
    "import matplotlib  as plt\n",
    "import matplotlib.pyplot as pt\n",
    "from scipy import stats\n",
    "print(f\"matplotlib version:{plt.__version__}\")\n",
    "print(f\"numpy version:{np.__version__}\")\n",
    "print(f\"pandas version:{pd.__version__}\")\n",
    "print(f\"scipy version:{sci.__version__}\")\n",
    "print(f\"seaborn version:{sns.__version__}\")"
   ]
  },
  {
   "cell_type": "markdown",
   "id": "f43c76b9",
   "metadata": {},
   "source": [
    "#### Exercise 1 (Reading and processing data).\n",
    "a) Read the data from the file smoking.csv, and divide the dataset into two groups con- sisting of smokers and non-smokers. Write a script which computes the average lung function, measured in FEV1, among the smokers and among the non-smokers."
   ]
  },
  {
   "cell_type": "code",
   "execution_count": 110,
   "id": "32957d8a",
   "metadata": {},
   "outputs": [],
   "source": [
    "df  = pd.read_csv('smoking.csv',sep=\"\\t\",header=None,names=['age', 'FEV1','height','gender','smoking_status','weight'])"
   ]
  },
  {
   "cell_type": "code",
   "execution_count": 111,
   "id": "447916de",
   "metadata": {},
   "outputs": [],
   "source": [
    "names=['age', 'FEV1','height','gender','smoking_status','weight']"
   ]
  },
  {
   "cell_type": "code",
   "execution_count": 112,
   "id": "4f31fd38",
   "metadata": {},
   "outputs": [
    {
     "data": {
      "text/html": [
       "<div>\n",
       "<style scoped>\n",
       "    .dataframe tbody tr th:only-of-type {\n",
       "        vertical-align: middle;\n",
       "    }\n",
       "\n",
       "    .dataframe tbody tr th {\n",
       "        vertical-align: top;\n",
       "    }\n",
       "\n",
       "    .dataframe thead th {\n",
       "        text-align: right;\n",
       "    }\n",
       "</style>\n",
       "<table border=\"1\" class=\"dataframe\">\n",
       "  <thead>\n",
       "    <tr style=\"text-align: right;\">\n",
       "      <th></th>\n",
       "      <th>age</th>\n",
       "      <th>FEV1</th>\n",
       "      <th>height</th>\n",
       "      <th>gender</th>\n",
       "      <th>smoking_status</th>\n",
       "      <th>weight</th>\n",
       "    </tr>\n",
       "  </thead>\n",
       "  <tbody>\n",
       "    <tr>\n",
       "      <th>0</th>\n",
       "      <td>9</td>\n",
       "      <td>1.708</td>\n",
       "      <td>57.0</td>\n",
       "      <td>0</td>\n",
       "      <td>0</td>\n",
       "      <td>9.540109</td>\n",
       "    </tr>\n",
       "    <tr>\n",
       "      <th>1</th>\n",
       "      <td>8</td>\n",
       "      <td>1.724</td>\n",
       "      <td>67.5</td>\n",
       "      <td>0</td>\n",
       "      <td>0</td>\n",
       "      <td>11.110110</td>\n",
       "    </tr>\n",
       "    <tr>\n",
       "      <th>2</th>\n",
       "      <td>7</td>\n",
       "      <td>1.720</td>\n",
       "      <td>54.5</td>\n",
       "      <td>0</td>\n",
       "      <td>0</td>\n",
       "      <td>9.513850</td>\n",
       "    </tr>\n",
       "    <tr>\n",
       "      <th>3</th>\n",
       "      <td>9</td>\n",
       "      <td>1.558</td>\n",
       "      <td>53.0</td>\n",
       "      <td>1</td>\n",
       "      <td>0</td>\n",
       "      <td>11.455923</td>\n",
       "    </tr>\n",
       "    <tr>\n",
       "      <th>4</th>\n",
       "      <td>9</td>\n",
       "      <td>1.895</td>\n",
       "      <td>57.0</td>\n",
       "      <td>1</td>\n",
       "      <td>0</td>\n",
       "      <td>10.297130</td>\n",
       "    </tr>\n",
       "    <tr>\n",
       "      <th>...</th>\n",
       "      <td>...</td>\n",
       "      <td>...</td>\n",
       "      <td>...</td>\n",
       "      <td>...</td>\n",
       "      <td>...</td>\n",
       "      <td>...</td>\n",
       "    </tr>\n",
       "    <tr>\n",
       "      <th>649</th>\n",
       "      <td>16</td>\n",
       "      <td>4.270</td>\n",
       "      <td>67.0</td>\n",
       "      <td>1</td>\n",
       "      <td>1</td>\n",
       "      <td>9.595947</td>\n",
       "    </tr>\n",
       "    <tr>\n",
       "      <th>650</th>\n",
       "      <td>15</td>\n",
       "      <td>3.727</td>\n",
       "      <td>68.0</td>\n",
       "      <td>1</td>\n",
       "      <td>1</td>\n",
       "      <td>8.530756</td>\n",
       "    </tr>\n",
       "    <tr>\n",
       "      <th>651</th>\n",
       "      <td>18</td>\n",
       "      <td>2.853</td>\n",
       "      <td>60.0</td>\n",
       "      <td>0</td>\n",
       "      <td>0</td>\n",
       "      <td>11.251590</td>\n",
       "    </tr>\n",
       "    <tr>\n",
       "      <th>652</th>\n",
       "      <td>16</td>\n",
       "      <td>2.795</td>\n",
       "      <td>63.0</td>\n",
       "      <td>0</td>\n",
       "      <td>1</td>\n",
       "      <td>9.037336</td>\n",
       "    </tr>\n",
       "    <tr>\n",
       "      <th>653</th>\n",
       "      <td>15</td>\n",
       "      <td>3.211</td>\n",
       "      <td>66.5</td>\n",
       "      <td>0</td>\n",
       "      <td>0</td>\n",
       "      <td>10.113565</td>\n",
       "    </tr>\n",
       "  </tbody>\n",
       "</table>\n",
       "<p>654 rows × 6 columns</p>\n",
       "</div>"
      ],
      "text/plain": [
       "     age   FEV1  height  gender  smoking_status     weight\n",
       "0      9  1.708    57.0       0               0   9.540109\n",
       "1      8  1.724    67.5       0               0  11.110110\n",
       "2      7  1.720    54.5       0               0   9.513850\n",
       "3      9  1.558    53.0       1               0  11.455923\n",
       "4      9  1.895    57.0       1               0  10.297130\n",
       "..   ...    ...     ...     ...             ...        ...\n",
       "649   16  4.270    67.0       1               1   9.595947\n",
       "650   15  3.727    68.0       1               1   8.530756\n",
       "651   18  2.853    60.0       0               0  11.251590\n",
       "652   16  2.795    63.0       0               1   9.037336\n",
       "653   15  3.211    66.5       0               0  10.113565\n",
       "\n",
       "[654 rows x 6 columns]"
      ]
     },
     "execution_count": 112,
     "metadata": {},
     "output_type": "execute_result"
    }
   ],
   "source": [
    "df"
   ]
  },
  {
   "cell_type": "markdown",
   "id": "73514c09",
   "metadata": {},
   "source": [
    "b) Report your computed average FEV1 scores. Are you surprised?"
   ]
  },
  {
   "cell_type": "markdown",
   "id": "90fa3a95",
   "metadata": {},
   "source": [
    "Forced expiratory volume in one second (FEV1) comparison between nonsmokers and smokers\n",
    "Overall, the average FEV1 indicates that the smokeing group has larger lung capacity than the non-smoking group. \n",
    "At the beginning, I thought that people who smoked probably had a smaller lung capacity because smoking can damage airways and small airsacs in lungs. However, from the comparative data it was found that smokers had higher lung capacity than non-smokers. "
   ]
  },
  {
   "cell_type": "code",
   "execution_count": 113,
   "id": "e74a825b",
   "metadata": {},
   "outputs": [
    {
     "data": {
      "text/html": [
       "<div>\n",
       "<style scoped>\n",
       "    .dataframe tbody tr th:only-of-type {\n",
       "        vertical-align: middle;\n",
       "    }\n",
       "\n",
       "    .dataframe tbody tr th {\n",
       "        vertical-align: top;\n",
       "    }\n",
       "\n",
       "    .dataframe thead tr th {\n",
       "        text-align: left;\n",
       "    }\n",
       "\n",
       "    .dataframe thead tr:last-of-type th {\n",
       "        text-align: right;\n",
       "    }\n",
       "</style>\n",
       "<table border=\"1\" class=\"dataframe\">\n",
       "  <thead>\n",
       "    <tr>\n",
       "      <th></th>\n",
       "      <th colspan=\"6\" halign=\"left\">FEV1</th>\n",
       "    </tr>\n",
       "    <tr>\n",
       "      <th></th>\n",
       "      <th>mean</th>\n",
       "      <th>median</th>\n",
       "      <th>min</th>\n",
       "      <th>max</th>\n",
       "      <th>std</th>\n",
       "      <th>count</th>\n",
       "    </tr>\n",
       "    <tr>\n",
       "      <th>smoking_status</th>\n",
       "      <th></th>\n",
       "      <th></th>\n",
       "      <th></th>\n",
       "      <th></th>\n",
       "      <th></th>\n",
       "      <th></th>\n",
       "    </tr>\n",
       "  </thead>\n",
       "  <tbody>\n",
       "    <tr>\n",
       "      <th>0</th>\n",
       "      <td>2.566</td>\n",
       "      <td>2.465</td>\n",
       "      <td>0.791</td>\n",
       "      <td>5.793</td>\n",
       "      <td>0.851</td>\n",
       "      <td>589</td>\n",
       "    </tr>\n",
       "    <tr>\n",
       "      <th>1</th>\n",
       "      <td>3.277</td>\n",
       "      <td>3.169</td>\n",
       "      <td>1.694</td>\n",
       "      <td>4.872</td>\n",
       "      <td>0.750</td>\n",
       "      <td>65</td>\n",
       "    </tr>\n",
       "  </tbody>\n",
       "</table>\n",
       "</div>"
      ],
      "text/plain": [
       "                 FEV1                                  \n",
       "                 mean median    min    max    std count\n",
       "smoking_status                                         \n",
       "0               2.566  2.465  0.791  5.793  0.851   589\n",
       "1               3.277  3.169  1.694  4.872  0.750    65"
      ]
     },
     "execution_count": 113,
     "metadata": {},
     "output_type": "execute_result"
    }
   ],
   "source": [
    "agg_func_math = {'FEV1':[ 'mean', 'median', 'min', 'max', 'std','count']}\n",
    "df.groupby(['smoking_status']).agg(agg_func_math).round(3)"
   ]
  },
  {
   "cell_type": "code",
   "execution_count": 114,
   "id": "d5deecc2",
   "metadata": {},
   "outputs": [
    {
     "data": {
      "text/html": [
       "<div>\n",
       "<style scoped>\n",
       "    .dataframe tbody tr th:only-of-type {\n",
       "        vertical-align: middle;\n",
       "    }\n",
       "\n",
       "    .dataframe tbody tr th {\n",
       "        vertical-align: top;\n",
       "    }\n",
       "\n",
       "    .dataframe thead tr th {\n",
       "        text-align: left;\n",
       "    }\n",
       "\n",
       "    .dataframe thead tr:last-of-type th {\n",
       "        text-align: right;\n",
       "    }\n",
       "</style>\n",
       "<table border=\"1\" class=\"dataframe\">\n",
       "  <thead>\n",
       "    <tr>\n",
       "      <th></th>\n",
       "      <th colspan=\"6\" halign=\"left\">age</th>\n",
       "    </tr>\n",
       "    <tr>\n",
       "      <th></th>\n",
       "      <th>mean</th>\n",
       "      <th>median</th>\n",
       "      <th>min</th>\n",
       "      <th>max</th>\n",
       "      <th>std</th>\n",
       "      <th>count</th>\n",
       "    </tr>\n",
       "    <tr>\n",
       "      <th>smoking_status</th>\n",
       "      <th></th>\n",
       "      <th></th>\n",
       "      <th></th>\n",
       "      <th></th>\n",
       "      <th></th>\n",
       "      <th></th>\n",
       "    </tr>\n",
       "  </thead>\n",
       "  <tbody>\n",
       "    <tr>\n",
       "      <th>0</th>\n",
       "      <td>9.535</td>\n",
       "      <td>9.0</td>\n",
       "      <td>3</td>\n",
       "      <td>19</td>\n",
       "      <td>2.741</td>\n",
       "      <td>589</td>\n",
       "    </tr>\n",
       "    <tr>\n",
       "      <th>1</th>\n",
       "      <td>13.523</td>\n",
       "      <td>13.0</td>\n",
       "      <td>9</td>\n",
       "      <td>19</td>\n",
       "      <td>2.339</td>\n",
       "      <td>65</td>\n",
       "    </tr>\n",
       "  </tbody>\n",
       "</table>\n",
       "</div>"
      ],
      "text/plain": [
       "                   age                            \n",
       "                  mean median min max    std count\n",
       "smoking_status                                    \n",
       "0                9.535    9.0   3  19  2.741   589\n",
       "1               13.523   13.0   9  19  2.339    65"
      ]
     },
     "execution_count": 114,
     "metadata": {},
     "output_type": "execute_result"
    }
   ],
   "source": [
    "agg_func_math = {'age':[ 'mean', 'median', 'min', 'max', 'std','count']}\n",
    "df.groupby(['smoking_status']).agg(agg_func_math).round(3)"
   ]
  },
  {
   "cell_type": "markdown",
   "id": "4940c268",
   "metadata": {},
   "source": [
    "#### Exercise 2 (Boxplots). \n",
    "Make a box plot of the FEV1 in the two groups. What do you see? Are you surprised?"
   ]
  },
  {
   "cell_type": "code",
   "execution_count": 115,
   "id": "e66357ce",
   "metadata": {
    "scrolled": false
   },
   "outputs": [
    {
     "data": {
      "image/png": "[encoded data removed]",
      "text/plain": [
       "<Figure size 640x480 with 1 Axes>"
      ]
     },
     "metadata": {},
     "output_type": "display_data"
    }
   ],
   "source": [
    "sns.boxplot(data=df, x=\"smoking_status\", y=\"FEV1\").set(title='Box plot of the FEV1 breakdown by smokeing status')\n",
    "labels=[\"Non-smoker\",\"Smoker\"]\n",
    "pt.xticks([0,1],[\"Non-smoker\", \"Smoker\"])\n",
    "pt.show()"
   ]
  },
  {
   "cell_type": "markdown",
   "id": "84dca887",
   "metadata": {},
   "source": [
    "The boxplot above illustrates a comparison of forced expiratory volume in one second (FEV1) between none-smoker and smoker. This FEV1 measure will be used as an indicator of lung function in this assignment. Surprisingly, the smoker group was reported larger average value of FEV1 than the non-smoking group. When examining deatils of the chart, non-smoking group has higher spreading of FEV1 than the smoking group. There are some outlier at the top end. I think we need ferther analysis before drawing a conclusion. "
   ]
  },
  {
   "cell_type": "markdown",
   "id": "812c6fee",
   "metadata": {},
   "source": [
    "#### Exercise 3 (Hypothesis testing). \n",
    "Next, we will perform a hypothesis test to investigate the\n",
    "difference between the FEV1 level in the two populations smokers and non-smokers.\n",
    "a) Write a script that performs a two-sided t-test whose null hypothesis is that the two populations have the same mean. Use a significance level of α = 0.05, and return a binary response indicating acceptance or rejection of the null hypothesis. You should try do implement it by yourself – though not the CDF of the t-distribution, use scipy’s stats.t.cdf. If you can’t, you may use scipy’s stats.ttest ind.\n",
    "b) Report your result and discuss it. Are you surprised?"
   ]
  },
  {
   "cell_type": "markdown",
   "id": "5e41fcf1",
   "metadata": {},
   "source": [
    "**T-test**. The main idea of comparing means is to take the difference in the means and see how many standard errors of the difference in means ($SE_{(\\bar{Y_1}-\\bar{Y_2})}$) this difference is away from zero.\n",
    "\n",
    "$H_0^*$ : There is  no difference on FEV1 level between smoker and non-smoker. \\\n",
    "$H_A^*$ : There is some effect on FEV1 level. \n"
   ]
  },
  {
   "cell_type": "markdown",
   "id": "10ed8a5a",
   "metadata": {},
   "source": [
    "The formula for the **t-statistic** is:\n",
    "$$t_s = \\dfrac{(\\bar{y_1}-\\bar{y_2})-0}{SE_{(\\bar{Y_1}-\\bar{Y_2})}}$$"
   ]
  },
  {
   "cell_type": "code",
   "execution_count": 116,
   "id": "e6193aa3",
   "metadata": {
    "scrolled": true
   },
   "outputs": [
    {
     "data": {
      "text/plain": [
       "0    589\n",
       "1     65\n",
       "Name: smoking_status, dtype: int64"
      ]
     },
     "execution_count": 116,
     "metadata": {},
     "output_type": "execute_result"
    }
   ],
   "source": [
    "df[\"smoking_status\"].value_counts()"
   ]
  },
  {
   "cell_type": "code",
   "execution_count": 117,
   "id": "347e63f3",
   "metadata": {},
   "outputs": [],
   "source": [
    "df0 = df[df['smoking_status'] == 0]\n",
    "df1 = df[df['smoking_status'] == 1]"
   ]
  },
  {
   "cell_type": "code",
   "execution_count": 118,
   "id": "1739ce3a",
   "metadata": {},
   "outputs": [
    {
     "data": {
      "text/plain": [
       "0.7499863098109498"
      ]
     },
     "execution_count": 118,
     "metadata": {},
     "output_type": "execute_result"
    }
   ],
   "source": [
    "df1['FEV1'].std()"
   ]
  },
  {
   "cell_type": "code",
   "execution_count": 119,
   "id": "61f22c36",
   "metadata": {},
   "outputs": [
    {
     "data": {
      "text/plain": [
       "0.7499863098109498"
      ]
     },
     "execution_count": 119,
     "metadata": {},
     "output_type": "execute_result"
    }
   ],
   "source": [
    "df1['FEV1'].std()"
   ]
  },
  {
   "cell_type": "code",
   "execution_count": 120,
   "id": "47573f13",
   "metadata": {},
   "outputs": [
    {
     "name": "stdout",
     "output_type": "stream",
     "text": [
      "The SE of the differene is:  0.09940669628138687  and the t statistic is:  -7.149608129503808\n"
     ]
    }
   ],
   "source": [
    "n1 = df0['FEV1'].count() #number of FEV1 in group 1\n",
    "n2 = df1['FEV1'].count() #number of FEV1 in group 2\n",
    "y_bar1 = df0['FEV1'].mean()  #mean of group 1\n",
    "y_bar2 = df1['FEV1'].mean() #mean of group 2\n",
    "s1 = df0['FEV1'].std() #standard deviation of group 1\n",
    "s2 = df1['FEV1'].std() #standard deviation of group 2\n",
    "SE_1 = s1/np.sqrt(n1) #standard error of the mean for group 1\n",
    "SE_2 = s2/np.sqrt(n2) #standard error of the mean for group 2\n",
    "#question: what was the formula for the standard error of the mean again?\n",
    "\n",
    "#calculate the t statistic\n",
    "diff_y = y_bar1-y_bar2\n",
    "SE_diff = np.sqrt((s1**2)/n1 + (s2**2)/n2)\n",
    "#or\n",
    "SE_diff2 = np.sqrt(SE_1**2 + SE_2**2) \n",
    "t_s = (diff_y-0)/SE_diff\n",
    "\n",
    "print(\"The SE of the differene is: \", str(SE_diff), \" and the t statistic is: \", str(t_s))"
   ]
  },
  {
   "cell_type": "code",
   "execution_count": 121,
   "id": "d61ed9d7",
   "metadata": {},
   "outputs": [
    {
     "data": {
      "text/plain": [
       "83.27311025102057"
      ]
     },
     "execution_count": 121,
     "metadata": {},
     "output_type": "execute_result"
    }
   ],
   "source": [
    "#Given our t-statistic, Find the p-value. \n",
    "SE1 = s1/np.sqrt(n1)\n",
    "SE2 = s2/np.sqrt(n2)\n",
    "degree_of_freedom = (SE1**2 + SE2**2)**2/(SE1**4/(n1-1)+SE2**4/(n2-1))\n",
    "degree_of_freedom"
   ]
  },
  {
   "cell_type": "code",
   "execution_count": 126,
   "id": "d3b104d2",
   "metadata": {},
   "outputs": [
    {
     "name": "stdout",
     "output_type": "stream",
     "text": [
      "P-value is at 0.00000000030738127449\n"
     ]
    }
   ],
   "source": [
    "#The t-statistic together with the df can be used to find a p-value\n",
    "p = stats.t.sf(np.abs(t_s), degree_of_freedom)\n",
    "p = p*2\n",
    "print(f\"P-value is at {p:.20f}\")"
   ]
  },
  {
   "cell_type": "markdown",
   "id": "8ced2182",
   "metadata": {},
   "source": [
    "### Alpha ($\\alpha$)\n",
    "We have now calculated a p-value. The significant level is set before we do the study and is called $\\alpha$.  we use an $\\alpha$ value of 5%. This means that if our p-value is below this 5% value, we conclude there is enough evidence to reject null hypothesis. \n",
    "### Confidence intervals\n",
    "We have calculated a p-value and we have concluded that based on an $\\alpha$  of 5%, there is enough evidence to reject the null hypothesis. We can also calculate a confidence interval for the difference in means. \n",
    "\n",
    "A 95% confidence interval for the difference in means that does not contain zero, is the same as a t test that reject $H_0$ with an alpha of 5%.\n"
   ]
  },
  {
   "cell_type": "code",
   "execution_count": 139,
   "id": "e00598dc",
   "metadata": {},
   "outputs": [
    {
     "name": "stdout",
     "output_type": "stream",
     "text": [
      "The 95% confidence interval is ( -0.9084252552458381 ,  -0.5130125924752011 )\n"
     ]
    }
   ],
   "source": [
    "#With the previous information, we can calculate a 95% confidence interval\n",
    "#find the critical t\n",
    "alpha = 0.05 #we set our confidence interval.\n",
    "t_025 = abs(stats.t.ppf(alpha/2, degree_of_freedom)) \n",
    "diff_y_lower = diff_y - t_025*SE_diff\n",
    "diff_y_upper = diff_y + t_025*SE_diff\n",
    "print(\"The 95% confidence interval is (\", str(diff_y_lower), \", \", str(diff_y_upper), \")\")"
   ]
  },
  {
   "cell_type": "markdown",
   "id": "a3373150",
   "metadata": {},
   "source": [
    "We have calculated a p-value 0.0000 and we have concluded that based on alpha of 0.05, there is suffient evidence to reject the null hypothesis and accept the alternative hypothesis. This means there is a difference in the level of FEV1 between smoker and non-smoker"
   ]
  },
  {
   "cell_type": "markdown",
   "id": "91bffd4f",
   "metadata": {},
   "source": [
    "#### Exercise 4 (Correlation).\n",
    "a) Compute the correlation between age and FEV1. Make a scatter plot of age versus\n",
    "FEV1 where non-smokers appear in one color and smokers appear in another.\n",
    "\n"
   ]
  },
  {
   "cell_type": "markdown",
   "id": "c75b2837",
   "metadata": {},
   "source": [
    "With an attemp to answer the question, how is the age correlated to FEV1, I will apply linear regression model to explain a relationship between the age and FEV1"
   ]
  },
  {
   "cell_type": "markdown",
   "id": "4a3f704b",
   "metadata": {},
   "source": [
    "The linear regression model can be stated as:\n",
    "$$Y = \\beta_0+\\beta_1 X+\\varepsilon\\mbox{, where }\\varepsilon\\sim\\mathcal{N}(0,\\sigma_\\varepsilon)$$\n",
    "\n",
    "- $b_0$ is an estimate of $\\beta_0$\n",
    "- $b_1$ is an estimate of $\\beta_1$\n",
    "- $s_e$ is an estimate of $\\sigma_\\varepsilon$\n",
    "\n",
    "Thus we describe our observations as:\n",
    "$$y_i = b_0+b_1x_i+e_i,$$\n",
    "where the residuals $e_i$ should have the same (normal) distribution along $X$."
   ]
  },
  {
   "cell_type": "markdown",
   "id": "542b13ed",
   "metadata": {},
   "source": [
    "To find  relationship between age and FEV1 \n",
    "start by computing the correlation coefficient $r$ step by step.\n",
    "First thing to do is to \"normalize\" each of the variables as\n",
    "$$z_x=\\dfrac{x-\\overline{x}}{s_x},\\,z_y=\\dfrac{y-\\overline{y}}{s_y}$$\n",
    "These scores indicate how many standard deviations away from the mean each measurement is:\n"
   ]
  },
  {
   "cell_type": "code",
   "execution_count": 129,
   "id": "c9636404",
   "metadata": {},
   "outputs": [],
   "source": [
    "df['z_age'] = (df.age-np.mean(df.age))/np.std(df.age,ddof=1)\n",
    "df['z_FEV1'] = (df.FEV1-np.mean(df.FEV1))/np.std(df.FEV1,ddof=1)"
   ]
  },
  {
   "cell_type": "code",
   "execution_count": 130,
   "id": "186b915d",
   "metadata": {},
   "outputs": [
    {
     "data": {
      "text/html": [
       "<div>\n",
       "<style scoped>\n",
       "    .dataframe tbody tr th:only-of-type {\n",
       "        vertical-align: middle;\n",
       "    }\n",
       "\n",
       "    .dataframe tbody tr th {\n",
       "        vertical-align: top;\n",
       "    }\n",
       "\n",
       "    .dataframe thead th {\n",
       "        text-align: right;\n",
       "    }\n",
       "</style>\n",
       "<table border=\"1\" class=\"dataframe\">\n",
       "  <thead>\n",
       "    <tr style=\"text-align: right;\">\n",
       "      <th></th>\n",
       "      <th>age</th>\n",
       "      <th>FEV1</th>\n",
       "      <th>height</th>\n",
       "      <th>gender</th>\n",
       "      <th>smoking_status</th>\n",
       "      <th>weight</th>\n",
       "      <th>z_age</th>\n",
       "      <th>z_FEV1</th>\n",
       "      <th>z_prod</th>\n",
       "    </tr>\n",
       "  </thead>\n",
       "  <tbody>\n",
       "    <tr>\n",
       "      <th>0</th>\n",
       "      <td>9</td>\n",
       "      <td>1.708</td>\n",
       "      <td>57.0</td>\n",
       "      <td>0</td>\n",
       "      <td>0</td>\n",
       "      <td>9.540109</td>\n",
       "      <td>-0.315238</td>\n",
       "      <td>-1.071184</td>\n",
       "      <td>0.337678</td>\n",
       "    </tr>\n",
       "    <tr>\n",
       "      <th>1</th>\n",
       "      <td>8</td>\n",
       "      <td>1.724</td>\n",
       "      <td>67.5</td>\n",
       "      <td>0</td>\n",
       "      <td>0</td>\n",
       "      <td>11.110110</td>\n",
       "      <td>-0.653769</td>\n",
       "      <td>-1.052731</td>\n",
       "      <td>0.688243</td>\n",
       "    </tr>\n",
       "    <tr>\n",
       "      <th>2</th>\n",
       "      <td>7</td>\n",
       "      <td>1.720</td>\n",
       "      <td>54.5</td>\n",
       "      <td>0</td>\n",
       "      <td>0</td>\n",
       "      <td>9.513850</td>\n",
       "      <td>-0.992301</td>\n",
       "      <td>-1.057344</td>\n",
       "      <td>1.049204</td>\n",
       "    </tr>\n",
       "    <tr>\n",
       "      <th>3</th>\n",
       "      <td>9</td>\n",
       "      <td>1.558</td>\n",
       "      <td>53.0</td>\n",
       "      <td>1</td>\n",
       "      <td>0</td>\n",
       "      <td>11.455923</td>\n",
       "      <td>-0.315238</td>\n",
       "      <td>-1.244183</td>\n",
       "      <td>0.392214</td>\n",
       "    </tr>\n",
       "    <tr>\n",
       "      <th>4</th>\n",
       "      <td>9</td>\n",
       "      <td>1.895</td>\n",
       "      <td>57.0</td>\n",
       "      <td>1</td>\n",
       "      <td>0</td>\n",
       "      <td>10.297130</td>\n",
       "      <td>-0.315238</td>\n",
       "      <td>-0.855512</td>\n",
       "      <td>0.269690</td>\n",
       "    </tr>\n",
       "    <tr>\n",
       "      <th>...</th>\n",
       "      <td>...</td>\n",
       "      <td>...</td>\n",
       "      <td>...</td>\n",
       "      <td>...</td>\n",
       "      <td>...</td>\n",
       "      <td>...</td>\n",
       "      <td>...</td>\n",
       "      <td>...</td>\n",
       "      <td>...</td>\n",
       "    </tr>\n",
       "    <tr>\n",
       "      <th>649</th>\n",
       "      <td>16</td>\n",
       "      <td>4.270</td>\n",
       "      <td>67.0</td>\n",
       "      <td>1</td>\n",
       "      <td>1</td>\n",
       "      <td>9.595947</td>\n",
       "      <td>2.054482</td>\n",
       "      <td>1.883632</td>\n",
       "      <td>3.869888</td>\n",
       "    </tr>\n",
       "    <tr>\n",
       "      <th>650</th>\n",
       "      <td>15</td>\n",
       "      <td>3.727</td>\n",
       "      <td>68.0</td>\n",
       "      <td>1</td>\n",
       "      <td>1</td>\n",
       "      <td>8.530756</td>\n",
       "      <td>1.715951</td>\n",
       "      <td>1.257377</td>\n",
       "      <td>2.157597</td>\n",
       "    </tr>\n",
       "    <tr>\n",
       "      <th>651</th>\n",
       "      <td>18</td>\n",
       "      <td>2.853</td>\n",
       "      <td>60.0</td>\n",
       "      <td>0</td>\n",
       "      <td>0</td>\n",
       "      <td>11.251590</td>\n",
       "      <td>2.731545</td>\n",
       "      <td>0.249372</td>\n",
       "      <td>0.681171</td>\n",
       "    </tr>\n",
       "    <tr>\n",
       "      <th>652</th>\n",
       "      <td>16</td>\n",
       "      <td>2.795</td>\n",
       "      <td>63.0</td>\n",
       "      <td>0</td>\n",
       "      <td>1</td>\n",
       "      <td>9.037336</td>\n",
       "      <td>2.054482</td>\n",
       "      <td>0.182479</td>\n",
       "      <td>0.374900</td>\n",
       "    </tr>\n",
       "    <tr>\n",
       "      <th>653</th>\n",
       "      <td>15</td>\n",
       "      <td>3.211</td>\n",
       "      <td>66.5</td>\n",
       "      <td>0</td>\n",
       "      <td>0</td>\n",
       "      <td>10.113565</td>\n",
       "      <td>1.715951</td>\n",
       "      <td>0.662262</td>\n",
       "      <td>1.136409</td>\n",
       "    </tr>\n",
       "  </tbody>\n",
       "</table>\n",
       "<p>654 rows × 9 columns</p>\n",
       "</div>"
      ],
      "text/plain": [
       "     age   FEV1  height  gender  smoking_status     weight     z_age  \\\n",
       "0      9  1.708    57.0       0               0   9.540109 -0.315238   \n",
       "1      8  1.724    67.5       0               0  11.110110 -0.653769   \n",
       "2      7  1.720    54.5       0               0   9.513850 -0.992301   \n",
       "3      9  1.558    53.0       1               0  11.455923 -0.315238   \n",
       "4      9  1.895    57.0       1               0  10.297130 -0.315238   \n",
       "..   ...    ...     ...     ...             ...        ...       ...   \n",
       "649   16  4.270    67.0       1               1   9.595947  2.054482   \n",
       "650   15  3.727    68.0       1               1   8.530756  1.715951   \n",
       "651   18  2.853    60.0       0               0  11.251590  2.731545   \n",
       "652   16  2.795    63.0       0               1   9.037336  2.054482   \n",
       "653   15  3.211    66.5       0               0  10.113565  1.715951   \n",
       "\n",
       "       z_FEV1    z_prod  \n",
       "0   -1.071184  0.337678  \n",
       "1   -1.052731  0.688243  \n",
       "2   -1.057344  1.049204  \n",
       "3   -1.244183  0.392214  \n",
       "4   -0.855512  0.269690  \n",
       "..        ...       ...  \n",
       "649  1.883632  3.869888  \n",
       "650  1.257377  2.157597  \n",
       "651  0.249372  0.681171  \n",
       "652  0.182479  0.374900  \n",
       "653  0.662262  1.136409  \n",
       "\n",
       "[654 rows x 9 columns]"
      ]
     },
     "execution_count": 130,
     "metadata": {},
     "output_type": "execute_result"
    }
   ],
   "source": [
    "df['z_prod']   = df.z_age*df.z_FEV1\n",
    "df"
   ]
  },
  {
   "cell_type": "markdown",
   "id": "0058f10e",
   "metadata": {},
   "source": [
    "The correlation coefficient (r) is found as an \"average\" of these scores, through the formula:\n",
    "$$r=\\dfrac{\\sum_{i=1}^{n}{(z_{x_i}\\times z_{y_i})}}{n-1}=\\dfrac{1}{n-1}\\sum_{i=1}^{n}{\\left(\\frac{x_i-\\overline{x}}{s_x}\\right)\\times\\left(\\frac{y_i-\\overline{y}}{s_y}\\right)}$$"
   ]
  },
  {
   "cell_type": "code",
   "execution_count": 131,
   "id": "d44ba41d",
   "metadata": {},
   "outputs": [
    {
     "data": {
      "text/plain": [
       "0.7564589899895998"
      ]
     },
     "execution_count": 131,
     "metadata": {},
     "output_type": "execute_result"
    }
   ],
   "source": [
    "r  = np.sum(df.z_prod)/(len(df.z_prod)-1)\n",
    "r"
   ]
  },
  {
   "cell_type": "markdown",
   "id": "75a032e8",
   "metadata": {},
   "source": [
    "The correlation coefficient between the age and the FEV1 is at  𝑟 = 0.756, which indicates strong positive correlation between these variables."
   ]
  },
  {
   "cell_type": "markdown",
   "id": "0c9825b4",
   "metadata": {},
   "source": [
    "#### Test for correlation significance\n",
    "$r$ is an estimate for $\\rho$, the population correlation coefficient. We can make a $t$ test for the null hypothesis $H_0:\\rho=0$, with $t_s=r\\sqrt{\\dfrac{n-2}{1-r^2}}$ and $df=n-2$.\n",
    "\n",
    "\n",
    "$H_0:$ The age and FEV1 are not correlated in the population ($\\rho=0$).\n",
    "\n",
    "$H_A:$ There is a correlation ($\\rho\\neq0$) in the age and FEV1 measurement.\n",
    "\n",
    "In this test, alpha or the significant level is at 0.05"
   ]
  },
  {
   "cell_type": "markdown",
   "id": "4091b105",
   "metadata": {},
   "source": [
    "1.) The correlation coefficient  $r = 0.756$ and $n = 654$:"
   ]
  },
  {
   "cell_type": "code",
   "execution_count": 132,
   "id": "4468e669",
   "metadata": {},
   "outputs": [
    {
     "data": {
      "text/plain": [
       "(29.5327662402651, 652)"
      ]
     },
     "execution_count": 132,
     "metadata": {},
     "output_type": "execute_result"
    }
   ],
   "source": [
    "n = 654\n",
    "t_s  = r*np.sqrt((n - 2)/(1 - r**2))\n",
    "dof  = n - 2 # We are already using df for the data frame\n",
    "t_s, dof"
   ]
  },
  {
   "cell_type": "code",
   "execution_count": 133,
   "id": "6e608627",
   "metadata": {},
   "outputs": [
    {
     "name": "stdout",
     "output_type": "stream",
     "text": [
      "P_value = 0.000000000000\n"
     ]
    }
   ],
   "source": [
    "P = 2*(stats.t.sf(t_s,dof))\n",
    "print(f\"P_value = {P:.12f}\")"
   ]
  },
  {
   "cell_type": "markdown",
   "id": "579af7fc",
   "metadata": {},
   "source": [
    "The p-value 0.000 and based on alpha of 0.05, there is suffient evidence to reject  𝐻0:\n",
    "  ( 𝜌=0\n",
    " ), which means there is a correlation between the age and FEV1."
   ]
  },
  {
   "cell_type": "markdown",
   "id": "710ea8d6",
   "metadata": {},
   "source": [
    "To compute the slope ($b_1$) and intercept ($b_0$) of the fitted regression line, as:\n",
    "$$b_1=r\\times\\dfrac{s_y}{s_x}$$ $$\\,b_0=\\overline{y}-b_1\\overline{x}$$"
   ]
  },
  {
   "cell_type": "code",
   "execution_count": 134,
   "id": "78616275",
   "metadata": {},
   "outputs": [
    {
     "data": {
      "text/plain": [
       "(0.4316481057333976, 0.22204097595848468)"
      ]
     },
     "execution_count": 134,
     "metadata": {},
     "output_type": "execute_result"
    }
   ],
   "source": [
    "b1 = r*np.std(df.FEV1,ddof=1)/np.std(df.age,ddof=1)\n",
    "b0 = np.mean(df.FEV1) - b1*np.mean(df.age)\n",
    "b0, b1"
   ]
  },
  {
   "cell_type": "code",
   "execution_count": 135,
   "id": "ebe1bdaf",
   "metadata": {},
   "outputs": [
    {
     "data": {
      "image/png": "[encoded data removed]",
      "text/plain": [
       "<Figure size 600x400 with 1 Axes>"
      ]
     },
     "metadata": {},
     "output_type": "display_data"
    }
   ],
   "source": [
    "fig, ax = pt.subplots(figsize=(6,4))\n",
    "ax.plot(df.age,df.FEV1,'o',label='Data points $(x_i,y_i)$') # Data points\n",
    "ax.plot(df.age,b0+b1*df.age,'-',label='Regression line ($\\hat{y}=0.432 + 0.22x$)') # Regression line\n",
    "ax.set_title('The FEV1 according to age')\n",
    "ax.set_xlabel('Age')\n",
    "ax.set_ylabel('FEV1')\n",
    "ax.legend()\n",
    "pt.show()"
   ]
  },
  {
   "cell_type": "code",
   "execution_count": 136,
   "id": "8aef60f0",
   "metadata": {},
   "outputs": [
    {
     "data": {
      "text/plain": [
       "Text(0, 0.5, 'FEV1')"
      ]
     },
     "execution_count": 136,
     "metadata": {},
     "output_type": "execute_result"
    },
    {
     "data": {
      "image/png": "[encoded data removed]",
      "text/plain": [
       "<Figure size 600x400 with 1 Axes>"
      ]
     },
     "metadata": {},
     "output_type": "display_data"
    }
   ],
   "source": [
    "fig, ax = pt.subplots(figsize=(6,4))\n",
    "sns.scatterplot(data=df, x=\"age\", y=\"FEV1\", hue=\"smoking_status\",marker='^',s=80)\n",
    "ax.set_title(' scatter plot of FEV1 according to  age')\n",
    "ax.plot(df.age,b0+b1*df.age,'-',label='Regression line ($\\hat{y}=b_0+b_1x$)') # Regression line\n",
    "ax.set_xlabel('Age')\n",
    "ax.set_ylabel('FEV1')"
   ]
  },
  {
   "cell_type": "markdown",
   "id": "98228c43",
   "metadata": {},
   "source": [
    "b) What do you see? Comment your results.\n",
    "The scatter plot above represents a strong positive relationship between FEV1 and age, which means that the older we get, the more FEV1 measurements we have. So we should include age as one of the parameters in this study. The plot is divided between nonsmokers (smoking status = 0) in blue markers and smokers (smoking status = 1) in orange markers. The younger age group, ranging from 3 to 9 years for nonsmokers, contributed to the lower end of FEV1, whereas the smoking group was older than 9 years. To make it more comparable, we should compare fully grown lung groups or exclude the younger group from this comparison."
   ]
  },
  {
   "cell_type": "markdown",
   "id": "c5457c12",
   "metadata": {},
   "source": [
    "#### Exercise 5 (Histograms).\n",
    "a) Create a histogram over the age of subjects in each of the two groups, smokers and non-smokers."
   ]
  },
  {
   "cell_type": "code",
   "execution_count": 137,
   "id": "70cc5bd4",
   "metadata": {},
   "outputs": [
    {
     "data": {
      "text/plain": [
       "Text(0.5, 1.0, 'Frequency distribution of age by smoking status')"
      ]
     },
     "execution_count": 137,
     "metadata": {},
     "output_type": "execute_result"
    },
    {
     "data": {
      "image/png": "[encoded data removed]",
      "text/plain": [
       "<Figure size 600x400 with 1 Axes>"
      ]
     },
     "metadata": {},
     "output_type": "display_data"
    }
   ],
   "source": [
    "fig, ax = pt.subplots(figsize=(6,4))\n",
    "sns.histplot(data=df, x=\"age\",hue='smoking_status',kde=True,bins=15)\n",
    "ax.set_title('Frequency distribution of age by smoking status')"
   ]
  },
  {
   "cell_type": "markdown",
   "id": "af39a7c9",
   "metadata": {},
   "source": [
    "b) What do you see? Does this explain your results on lung function in the two groups?\n",
    "Deliverables. The two histograms, and a couple of lines of discussion."
   ]
  },
  {
   "cell_type": "markdown",
   "id": "66409789",
   "metadata": {},
   "source": [
    "The histogram above shows the frequency distribution of two datasets: nonsmokers (in blue) and smokers (in orange) in each interval. The majority of data is collected between the ages of eight and nine. The nonsmoking group has a wider age range, whereas the smoking group has no younger age range (from 3 to 9). According to the frequency counts by age, we can see that the nonsmoking group has very high counts for younger ages; the younger age group has lower FEV1 measurements, resulting in a lower average FEV1 than the other group on the first comparison. I believe that a young age group should be excluded from this study. "
   ]
  },
  {
   "cell_type": "code",
   "execution_count": 138,
   "id": "62d431f2",
   "metadata": {},
   "outputs": [],
   "source": [
    "from scipy.stats import t\n",
    "p=2*t.cdf(-7.149608129503808,83.27311025102057)"
   ]
  },
  {
   "cell_type": "code",
   "execution_count": null,
   "id": "ae0d56fc",
   "metadata": {},
   "outputs": [],
   "source": [
    "### hide here\n",
    "k= [1, 3, 5, 7, 9, 11]\n",
    "score_k = []    \n",
    "cv = KFold(n_splits=5)\n",
    "\n",
    "for train, test in cv.split(XTrain):\n",
    "    XTrainCV,XTestCV,YTrainCV,YTestCV = XTrain[train],XTrain[test],YTrain[train],YTrain[test]\n",
    "     #training\n",
    "for i in k:\n",
    "    knn = KNeighborsClassifier(n_neighbors = i)\n",
    "    knn.fit(XTrainCV,YTrainCV)\n",
    "    total_score= 0\n",
    "    \n",
    "    ac = accuracy_score(YTestCV, knn.predict(XTestCV)) #calculate accuracy score\n",
    "    #print(ac)\n",
    "    total_score = 1-ac  #0-1 loss (classification error)\n",
    "    #average = total_score/5\n",
    "    #print(average)\n",
    "    score_k.append((i,total_score))       \n",
    "    \n",
    "    \n",
    "    score_k"
   ]
  }
 ],
 "metadata": {
  "kernelspec": {
   "display_name": "IDS-A1",
   "language": "python",
   "name": "ids-a1"
  },
  "language_info": {
   "codemirror_mode": {
    "name": "ipython",
    "version": 3
   },
   "file_extension": ".py",
   "mimetype": "text/x-python",
   "name": "python",
   "nbconvert_exporter": "python",
   "pygments_lexer": "ipython3",
   "version": "3.10.9"
  }
 },
 "nbformat": 4,
 "nbformat_minor": 5
}
