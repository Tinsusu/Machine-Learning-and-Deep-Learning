{
 "cells": [
  {
   "cell_type": "code",
   "execution_count": null,
   "id": "9a16e6b5",
   "metadata": {},
   "outputs": [],
   "source": [
    "import sys\n",
    "print(sys.executable)\n",
    "print(sys.version)\n",
    "print(sys.version_info)\n",
    "import warnings\n",
    "warnings.filterwarnings('ignore')"
   ]
  },
  {
   "cell_type": "code",
   "execution_count": 453,
   "id": "8eb776cf",
   "metadata": {},
   "outputs": [
    {
     "name": "stdout",
     "output_type": "stream",
     "text": [
      "matplotlib version:3.6.0\n",
      "numpy version:1.24.0\n",
      "pandas version:1.5.0\n",
      "scipy version:1.10.0\n",
      "seaborn version:0.12.0\n",
      "sklearn version:1.0.2\n"
     ]
    }
   ],
   "source": [
    "import seaborn as sns\n",
    "import pandas as pd\n",
    "import numpy as np\n",
    "import scipy as sci\n",
    "import matplotlib  as plt\n",
    "import matplotlib.pyplot as pt\n",
    "from scipy import stats\n",
    "import sklearn\n",
    "print(f\"matplotlib version:{plt.__version__}\")\n",
    "print(f\"numpy version:{np.__version__}\")\n",
    "print(f\"pandas version:{pd.__version__}\")\n",
    "print(f\"scipy version:{sci.__version__}\")\n",
    "print(f\"seaborn version:{sns.__version__}\")\n",
    "print(f\"sklearn version:{sklearn.__version__}\")"
   ]
  },
  {
   "cell_type": "code",
   "execution_count": 454,
   "id": "d5c8b491",
   "metadata": {},
   "outputs": [],
   "source": [
    "#import DATA\n",
    "dataTrain = pd.read_csv(\"OccupancyTrain.csv\",header=None,names=['Temperature_C', 'Relative_humidity%','Light_lux','CO2_ppm','Humidity_ratio','Ocupency'])\n",
    "dataTest = pd.read_csv(\"OccupancyTest.csv\",header=None,names=['Temperature_C', 'Relative_humidity%','Light_lux','CO2_ppm','Humidity_ratio','Ocupency'])"
   ]
  },
  {
   "cell_type": "code",
   "execution_count": 455,
   "id": "b0aaace3",
   "metadata": {},
   "outputs": [
    {
     "data": {
      "text/plain": [
       "0.0    300\n",
       "1.0    300\n",
       "Name: Ocupency, dtype: int64"
      ]
     },
     "execution_count": 455,
     "metadata": {},
     "output_type": "execute_result"
    }
   ],
   "source": [
    "dataTrain.Ocupency.value_counts()"
   ]
  },
  {
   "cell_type": "code",
   "execution_count": 456,
   "id": "16426d87",
   "metadata": {},
   "outputs": [
    {
     "data": {
      "text/plain": [
       "1.0    200\n",
       "0.0    200\n",
       "Name: Ocupency, dtype: int64"
      ]
     },
     "execution_count": 456,
     "metadata": {},
     "output_type": "execute_result"
    }
   ],
   "source": [
    "dataTest.Ocupency.value_counts()"
   ]
  },
  {
   "cell_type": "code",
   "execution_count": 457,
   "id": "289119cc",
   "metadata": {
    "scrolled": false
   },
   "outputs": [
    {
     "data": {
      "text/html": [
       "<div>\n",
       "<style scoped>\n",
       "    .dataframe tbody tr th:only-of-type {\n",
       "        vertical-align: middle;\n",
       "    }\n",
       "\n",
       "    .dataframe tbody tr th {\n",
       "        vertical-align: top;\n",
       "    }\n",
       "\n",
       "    .dataframe thead th {\n",
       "        text-align: right;\n",
       "    }\n",
       "</style>\n",
       "<table border=\"1\" class=\"dataframe\">\n",
       "  <thead>\n",
       "    <tr style=\"text-align: right;\">\n",
       "      <th></th>\n",
       "      <th>Temperature_C</th>\n",
       "      <th>Relative_humidity%</th>\n",
       "      <th>Light_lux</th>\n",
       "      <th>CO2_ppm</th>\n",
       "      <th>Humidity_ratio</th>\n",
       "      <th>Ocupency</th>\n",
       "    </tr>\n",
       "  </thead>\n",
       "  <tbody>\n",
       "    <tr>\n",
       "      <th>0</th>\n",
       "      <td>21.290000</td>\n",
       "      <td>21.100000</td>\n",
       "      <td>0.00</td>\n",
       "      <td>592.500000</td>\n",
       "      <td>0.003297</td>\n",
       "      <td>0.0</td>\n",
       "    </tr>\n",
       "    <tr>\n",
       "      <th>1</th>\n",
       "      <td>22.100000</td>\n",
       "      <td>26.600000</td>\n",
       "      <td>464.00</td>\n",
       "      <td>1073.250000</td>\n",
       "      <td>0.004375</td>\n",
       "      <td>1.0</td>\n",
       "    </tr>\n",
       "    <tr>\n",
       "      <th>2</th>\n",
       "      <td>19.390000</td>\n",
       "      <td>27.200000</td>\n",
       "      <td>0.00</td>\n",
       "      <td>463.000000</td>\n",
       "      <td>0.003783</td>\n",
       "      <td>0.0</td>\n",
       "    </tr>\n",
       "    <tr>\n",
       "      <th>3</th>\n",
       "      <td>20.600000</td>\n",
       "      <td>19.500000</td>\n",
       "      <td>0.00</td>\n",
       "      <td>435.000000</td>\n",
       "      <td>0.002919</td>\n",
       "      <td>0.0</td>\n",
       "    </tr>\n",
       "    <tr>\n",
       "      <th>4</th>\n",
       "      <td>21.500000</td>\n",
       "      <td>33.500000</td>\n",
       "      <td>475.25</td>\n",
       "      <td>1281.500000</td>\n",
       "      <td>0.005320</td>\n",
       "      <td>1.0</td>\n",
       "    </tr>\n",
       "    <tr>\n",
       "      <th>...</th>\n",
       "      <td>...</td>\n",
       "      <td>...</td>\n",
       "      <td>...</td>\n",
       "      <td>...</td>\n",
       "      <td>...</td>\n",
       "      <td>...</td>\n",
       "    </tr>\n",
       "    <tr>\n",
       "      <th>595</th>\n",
       "      <td>20.633333</td>\n",
       "      <td>20.633333</td>\n",
       "      <td>0.00</td>\n",
       "      <td>460.000000</td>\n",
       "      <td>0.003096</td>\n",
       "      <td>0.0</td>\n",
       "    </tr>\n",
       "    <tr>\n",
       "      <th>596</th>\n",
       "      <td>19.525000</td>\n",
       "      <td>29.675000</td>\n",
       "      <td>0.00</td>\n",
       "      <td>437.250000</td>\n",
       "      <td>0.004164</td>\n",
       "      <td>0.0</td>\n",
       "    </tr>\n",
       "    <tr>\n",
       "      <th>597</th>\n",
       "      <td>20.463333</td>\n",
       "      <td>26.230000</td>\n",
       "      <td>69.00</td>\n",
       "      <td>421.666667</td>\n",
       "      <td>0.003899</td>\n",
       "      <td>0.0</td>\n",
       "    </tr>\n",
       "    <tr>\n",
       "      <th>598</th>\n",
       "      <td>19.790000</td>\n",
       "      <td>19.290000</td>\n",
       "      <td>0.00</td>\n",
       "      <td>437.000000</td>\n",
       "      <td>0.002746</td>\n",
       "      <td>0.0</td>\n",
       "    </tr>\n",
       "    <tr>\n",
       "      <th>599</th>\n",
       "      <td>21.700000</td>\n",
       "      <td>20.390000</td>\n",
       "      <td>462.75</td>\n",
       "      <td>787.000000</td>\n",
       "      <td>0.003267</td>\n",
       "      <td>1.0</td>\n",
       "    </tr>\n",
       "  </tbody>\n",
       "</table>\n",
       "<p>600 rows × 6 columns</p>\n",
       "</div>"
      ],
      "text/plain": [
       "     Temperature_C  Relative_humidity%  Light_lux      CO2_ppm  \\\n",
       "0        21.290000           21.100000       0.00   592.500000   \n",
       "1        22.100000           26.600000     464.00  1073.250000   \n",
       "2        19.390000           27.200000       0.00   463.000000   \n",
       "3        20.600000           19.500000       0.00   435.000000   \n",
       "4        21.500000           33.500000     475.25  1281.500000   \n",
       "..             ...                 ...        ...          ...   \n",
       "595      20.633333           20.633333       0.00   460.000000   \n",
       "596      19.525000           29.675000       0.00   437.250000   \n",
       "597      20.463333           26.230000      69.00   421.666667   \n",
       "598      19.790000           19.290000       0.00   437.000000   \n",
       "599      21.700000           20.390000     462.75   787.000000   \n",
       "\n",
       "     Humidity_ratio  Ocupency  \n",
       "0          0.003297       0.0  \n",
       "1          0.004375       1.0  \n",
       "2          0.003783       0.0  \n",
       "3          0.002919       0.0  \n",
       "4          0.005320       1.0  \n",
       "..              ...       ...  \n",
       "595        0.003096       0.0  \n",
       "596        0.004164       0.0  \n",
       "597        0.003899       0.0  \n",
       "598        0.002746       0.0  \n",
       "599        0.003267       1.0  \n",
       "\n",
       "[600 rows x 6 columns]"
      ]
     },
     "execution_count": 457,
     "metadata": {},
     "output_type": "execute_result"
    }
   ],
   "source": [
    "dataTrain"
   ]
  },
  {
   "cell_type": "code",
   "execution_count": 458,
   "id": "efbd5232",
   "metadata": {},
   "outputs": [],
   "source": [
    "XTrain = dataTrain.iloc[:,:-1].values\n",
    "YTrain = dataTrain.iloc[:, -1].values"
   ]
  },
  {
   "cell_type": "code",
   "execution_count": 459,
   "id": "43660677",
   "metadata": {},
   "outputs": [],
   "source": [
    "XTest = dataTest.iloc[:,:-1].values\n",
    "YTest = dataTest.iloc[:, -1].values"
   ]
  },
  {
   "cell_type": "markdown",
   "id": "cc68c10e",
   "metadata": {},
   "source": [
    "#### Exercise 1"
   ]
  },
  {
   "cell_type": "markdown",
   "id": "cd04f41a",
   "metadata": {},
   "source": [
    "Exercise 1 (Neartest neighbor classification). Apply a nearest neighbor classifier (1-NN) to the data. You are encouraged to implement it on your own. However, you can also use scikit-learn:\n",
    "from sklearn . neighbors import KNeighborsClassifier\n",
    "After training the model, you are supposed to determine the classification accuracy of your model on\n",
    "the training and test data. One way to do this in Python is the following:\n",
    "\n",
    "from sklearn . metrics import accuracy score\n",
    "##### given classifier called knn, compute the accuracy on the test set\n",
    "accTest = accuracy score(YTest, knn.predict(XTest))\n",
    "Deliverables. Training and test results of your 1-NN classifier; discussion of the results."
   ]
  },
  {
   "cell_type": "code",
   "execution_count": 460,
   "id": "93f342d0",
   "metadata": {},
   "outputs": [],
   "source": [
    "from sklearn.neighbors import KNeighborsClassifier\n",
    "from sklearn.metrics import accuracy_score"
   ]
  },
  {
   "cell_type": "code",
   "execution_count": 461,
   "id": "e5b59472",
   "metadata": {},
   "outputs": [
    {
     "data": {
      "text/plain": [
       "KNeighborsClassifier(n_neighbors=1)"
      ]
     },
     "execution_count": 461,
     "metadata": {},
     "output_type": "execute_result"
    }
   ],
   "source": [
    "knn = KNeighborsClassifier(n_neighbors = 1)\n",
    "knn.fit(XTrain,YTrain) #fit the training data"
   ]
  },
  {
   "cell_type": "code",
   "execution_count": 462,
   "id": "c11bc5ed",
   "metadata": {
    "collapsed": true
   },
   "outputs": [
    {
     "data": {
      "text/plain": [
       "array([1., 0., 0., 1., 1., 0., 1., 0., 1., 0., 1., 0., 1., 0., 0., 1., 0.,\n",
       "       1., 0., 1., 1., 1., 1., 1., 0., 1., 1., 1., 0., 0., 1., 1., 0., 1.,\n",
       "       0., 1., 0., 0., 1., 0., 0., 0., 1., 1., 0., 0., 0., 1., 1., 0., 1.,\n",
       "       0., 1., 0., 1., 0., 1., 1., 1., 1., 1., 1., 1., 1., 1., 1., 1., 1.,\n",
       "       1., 0., 0., 1., 0., 0., 1., 1., 1., 0., 1., 1., 1., 0., 1., 0., 1.,\n",
       "       1., 1., 1., 0., 1., 1., 1., 0., 0., 0., 1., 0., 1., 1., 0., 0., 0.,\n",
       "       0., 1., 0., 0., 0., 0., 1., 1., 1., 0., 1., 1., 0., 0., 1., 1., 1.,\n",
       "       1., 0., 1., 1., 1., 0., 0., 0., 1., 1., 0., 1., 0., 0., 0., 0., 1.,\n",
       "       1., 1., 1., 0., 1., 0., 1., 1., 1., 1., 1., 0., 1., 1., 1., 0., 0.,\n",
       "       0., 0., 0., 0., 1., 0., 0., 0., 1., 1., 0., 1., 0., 1., 1., 1., 1.,\n",
       "       0., 0., 0., 0., 0., 0., 1., 1., 0., 1., 0., 1., 0., 1., 0., 1., 1.,\n",
       "       1., 0., 0., 0., 1., 1., 0., 1., 0., 0., 0., 1., 0., 1., 0., 1., 1.,\n",
       "       1., 0., 1., 1., 0., 1., 0., 1., 0., 0., 0., 0., 1., 0., 0., 0., 0.,\n",
       "       0., 1., 0., 0., 0., 1., 0., 0., 1., 1., 1., 1., 0., 1., 1., 0., 1.,\n",
       "       0., 0., 0., 0., 0., 0., 1., 1., 1., 1., 1., 0., 1., 0., 0., 0., 1.,\n",
       "       1., 0., 0., 0., 1., 0., 1., 0., 1., 0., 0., 1., 0., 1., 1., 1., 1.,\n",
       "       0., 0., 1., 0., 1., 1., 1., 0., 0., 0., 1., 0., 0., 0., 0., 1., 1.,\n",
       "       1., 1., 1., 0., 0., 1., 0., 0., 0., 1., 1., 1., 0., 0., 0., 0., 1.,\n",
       "       0., 0., 1., 0., 0., 0., 1., 1., 1., 1., 0., 0., 0., 0., 0., 0., 1.,\n",
       "       1., 0., 0., 1., 1., 0., 0., 1., 1., 0., 1., 1., 1., 0., 1., 0., 1.,\n",
       "       1., 0., 0., 0., 1., 1., 0., 1., 1., 1., 0., 0., 1., 0., 0., 1., 1.,\n",
       "       1., 1., 1., 0., 0., 0., 1., 1., 0., 0., 1., 0., 1., 1., 0., 0., 0.,\n",
       "       0., 0., 1., 0., 1., 0., 0., 1., 1., 0., 1., 1., 0., 0., 0., 1., 1.,\n",
       "       0., 1., 1., 1., 1., 0., 1., 1., 0.])"
      ]
     },
     "execution_count": 462,
     "metadata": {},
     "output_type": "execute_result"
    }
   ],
   "source": [
    "knn.predict(XTest)"
   ]
  },
  {
   "cell_type": "code",
   "execution_count": 463,
   "id": "e28b1182",
   "metadata": {
    "scrolled": true
   },
   "outputs": [
    {
     "data": {
      "text/plain": [
       "0.9775"
      ]
     },
     "execution_count": 463,
     "metadata": {},
     "output_type": "execute_result"
    }
   ],
   "source": [
    "accTest = accuracy_score(YTest, knn.predict(XTest))\n",
    "accTest"
   ]
  },
  {
   "cell_type": "code",
   "execution_count": 464,
   "id": "7975807c",
   "metadata": {
    "scrolled": false
   },
   "outputs": [
    {
     "data": {
      "text/plain": [
       "1.0"
      ]
     },
     "execution_count": 464,
     "metadata": {},
     "output_type": "execute_result"
    }
   ],
   "source": [
    "accTest = accuracy_score(YTrain, knn.predict(XTrain))\n",
    "accTest"
   ]
  },
  {
   "cell_type": "markdown",
   "id": "c76cd4fb",
   "metadata": {},
   "source": [
    "As instructed in the exercise, I applied a nearest neighbor classifier (1-NN) to the data and tested the accuracy using accTest = accuracy score (YTest, knn.predict(XTest)). For a new data set, the accuracy test from this 1-NN model is 0.9775. However, when applying this training model to the training data set, the accuracy score is at 1, which is reasonable because this model is trained by this training data set. "
   ]
  },
  {
   "cell_type": "markdown",
   "id": "fbed8f5a",
   "metadata": {},
   "source": [
    "#### Exercise 2 (Cross-validation)"
   ]
  },
  {
   "cell_type": "markdown",
   "id": "7e64302a",
   "metadata": {},
   "source": [
    "Exercise 2 (Cross-validation). You are supposed to find a good value for k from {1, 3, 5, 7, 9, 11}. For every choice of k, estimate the performance of the k-NN classifier using 5-fold cross-validation and visualize the 0-1 loss (classification error) for different values of k. Pick the k with the lowest average 0-1 loss, which we will call kbest in the following. Only use the training data in the cross-validation process to generate the folds.\n",
    "Deliverables. Short description on how you proceeded; found parameter kbest; a plot of the losses for the different values of k.\n"
   ]
  },
  {
   "cell_type": "code",
   "execution_count": 465,
   "id": "373a7c92",
   "metadata": {},
   "outputs": [],
   "source": [
    "from sklearn.model_selection import KFold"
   ]
  },
  {
   "cell_type": "code",
   "execution_count": 466,
   "id": "4d2e085b",
   "metadata": {
    "scrolled": true
   },
   "outputs": [
    {
     "data": {
      "text/plain": [
       "(600, 5)"
      ]
     },
     "execution_count": 466,
     "metadata": {},
     "output_type": "execute_result"
    }
   ],
   "source": [
    "XTrain.shape #600 rows and 5 collumns"
   ]
  },
  {
   "cell_type": "code",
   "execution_count": 467,
   "id": "dbf16f43",
   "metadata": {},
   "outputs": [],
   "source": [
    "#120 test. 120 120 120 120 120 training "
   ]
  },
  {
   "cell_type": "code",
   "execution_count": 468,
   "id": "142a7e91",
   "metadata": {
    "scrolled": true
   },
   "outputs": [
    {
     "data": {
      "text/plain": [
       "5"
      ]
     },
     "execution_count": 468,
     "metadata": {},
     "output_type": "execute_result"
    }
   ],
   "source": [
    "kf = KFold(n_splits=5)\n",
    "kf.get_n_splits(XTrain)"
   ]
  },
  {
   "cell_type": "code",
   "execution_count": 469,
   "id": "10107714",
   "metadata": {},
   "outputs": [],
   "source": [
    "#Print out to check how KFold split works"
   ]
  },
  {
   "cell_type": "code",
   "execution_count": 470,
   "id": "3375d5a2",
   "metadata": {
    "scrolled": false
   },
   "outputs": [],
   "source": [
    "KFold(n_splits=5, random_state=None, shuffle=False)\n",
    "for i, (train, test) in enumerate(kf.split(XTrain)):\n",
    "    XTrainCV,XTestCV,YTrainCV,YTestCV = XTrain[train],XTrain[test],YTrain[train],YTrain[test]\n",
    "#    print(f\"Fold {i}:\")\n",
    "#    print(f\"  Train: index={train_index}\")\n",
    "#    print(f\"  Train: {XTrainCV}\")\n",
    "#    print(f\"  Test:  index={test_index}\")\n",
    "#    print(f\"  Train: {XTestCV}\")"
   ]
  },
  {
   "cell_type": "code",
   "execution_count": 471,
   "id": "b332db7b",
   "metadata": {},
   "outputs": [],
   "source": [
    "from sklearn.model_selection import cross_val_score\n",
    "from sklearn.model_selection import KFold\n",
    "from sklearn.metrics import accuracy_score"
   ]
  },
  {
   "cell_type": "markdown",
   "id": "e5dd1043",
   "metadata": {},
   "source": [
    "A process of cross-validation begins by splitting up the training data into five folds.\n",
    "iterating over each k value, fitting the KNN model, and calculating the accuracy score for each fold\n",
    "compute the average accuracy score, calculate a loss (classification error) from 1 accuracy, and then plot the loss score versus k."
   ]
  },
  {
   "cell_type": "code",
   "execution_count": 472,
   "id": "3be1d11a",
   "metadata": {
    "scrolled": false
   },
   "outputs": [
    {
     "name": "stdout",
     "output_type": "stream",
     "text": [
      "1\n",
      "[0.9833333333333333, 0.9833333333333333, 0.9916666666666667, 0.975, 0.975]\n",
      "0.9816666666666667\n",
      "0.018333333333333313\n",
      "3\n",
      "[0.9916666666666667, 0.9833333333333333, 0.9916666666666667, 0.9916666666666667, 1.0]\n",
      "0.9916666666666668\n",
      "0.008333333333333193\n",
      "5\n",
      "[0.9916666666666667, 0.9833333333333333, 0.9916666666666667, 0.9916666666666667, 1.0]\n",
      "0.9916666666666668\n",
      "0.008333333333333193\n",
      "7\n",
      "[0.9916666666666667, 0.9833333333333333, 0.9916666666666667, 0.9916666666666667, 1.0]\n",
      "0.9916666666666668\n",
      "0.008333333333333193\n",
      "9\n",
      "[0.9916666666666667, 0.9833333333333333, 0.9916666666666667, 0.9916666666666667, 1.0]\n",
      "0.9916666666666668\n",
      "0.008333333333333193\n",
      "11\n",
      "[0.9916666666666667, 0.9833333333333333, 0.9916666666666667, 0.9916666666666667, 0.9916666666666667]\n",
      "0.99\n",
      "0.010000000000000009\n"
     ]
    }
   ],
   "source": [
    "k= [1, 3, 5, 7, 9, 11]  \n",
    "cv = KFold(n_splits=5)\n",
    "loss_score=[]\n",
    "for i in k:\n",
    "    ac_score = []\n",
    "    print(i)\n",
    "    for fold, (train, test) in enumerate(cv.split(XTrain)):\n",
    "        XTrainCV,XTestCV,YTrainCV,YTestCV = XTrain[train],XTrain[test],YTrain[train],YTrain[test] \n",
    "        knn = KNeighborsClassifier(n_neighbors = i)\n",
    "        knn.fit(XTrainCV,YTrainCV)\n",
    "        ac = accuracy_score(YTestCV, knn.predict(XTestCV))   \n",
    "        ac_score.append(ac)\n",
    "    print(ac_score)\n",
    "    print(sum(ac_score)/len(ac_score)) #Find the average of the accuracy score from all folds\n",
    "    print(1-sum(ac_score)/len(ac_score)) ##0-1 loss (classification error)\n",
    "    loss_score.append((i,1-sum(ac_score)/len(ac_score)))"
   ]
  },
  {
   "cell_type": "code",
   "execution_count": 473,
   "id": "5c07875b",
   "metadata": {},
   "outputs": [
    {
     "data": {
      "text/plain": [
       "[(1, 0.018333333333333313),\n",
       " (3, 0.008333333333333193),\n",
       " (5, 0.008333333333333193),\n",
       " (7, 0.008333333333333193),\n",
       " (9, 0.008333333333333193),\n",
       " (11, 0.010000000000000009)]"
      ]
     },
     "execution_count": 473,
     "metadata": {},
     "output_type": "execute_result"
    }
   ],
   "source": [
    "loss_score"
   ]
  },
  {
   "cell_type": "code",
   "execution_count": 474,
   "id": "2867ef30",
   "metadata": {},
   "outputs": [
    {
     "data": {
      "image/png": "[encoded data removed]",
      "text/plain": [
       "<Figure size 640x480 with 1 Axes>"
      ]
     },
     "metadata": {},
     "output_type": "display_data"
    }
   ],
   "source": [
    "df = pd.DataFrame(loss_score, columns =['K','loss_score'])\n",
    "pt.plot(df[\"K\"], df[\"loss_score\"])\n",
    "pt.title(\"0-1 loss(classification error) for different values of k\")\n",
    "pt.xlabel(\"K\")\n",
    "pt.ylabel(\"loss(classification error)\")\n",
    "pt.show()"
   ]
  },
  {
   "cell_type": "markdown",
   "id": "78c7d097",
   "metadata": {},
   "source": [
    "In cross-validation, the available data is divided into a number \"folds,\" and each fold is used as a validation set while the remaining folds are used to train the model. Each fold takes a turn functioning as the validation set as the procedure is done repeatedly. \n",
    "According to exercise instruction, I have implemented 5-fold cross-validation cross-validation to find a good value for k from {1, 3, 5, 7, 9, 11}, and then calculate a loss score in order to find the best value of k. \n",
    "A process of cross-validation begins by splitting up the training data into five folds.\n",
    "iterating over each k value, fitting the KNN model, and calculating the accuracy score for each fold\n",
    "compute the average accuracy score, calculate a loss (classification error) from 1 accuracy, and then plot the loss score versus k. From the plot $K_{best}$ = 3, because it is the first k-value that is the lowest classification error among others. \n"
   ]
  },
  {
   "cell_type": "markdown",
   "id": "83390af6",
   "metadata": {},
   "source": [
    "#### Exercise 3"
   ]
  },
  {
   "cell_type": "markdown",
   "id": "018b6f63",
   "metadata": {},
   "source": [
    "Exercise 3 (Evaluation of classification performance). To estimate the generalization performance, build a kbest-NN classifier using the complete training data set OccupancyTrain.csv and evaluate it on the independent test set OccupancyTest.csv.\n",
    "Deliverables. Training and test accuracy of kbest."
   ]
  },
  {
   "cell_type": "code",
   "execution_count": 475,
   "id": "f5d42651",
   "metadata": {
    "scrolled": true
   },
   "outputs": [
    {
     "data": {
      "text/plain": [
       "0.9875"
      ]
     },
     "execution_count": 475,
     "metadata": {},
     "output_type": "execute_result"
    }
   ],
   "source": [
    "knn = KNeighborsClassifier(n_neighbors = 3)\n",
    "knn.fit(XTrain,YTrain)\n",
    "knn.predict(XTest);\n",
    "accTest = accuracy_score(YTest, knn.predict(XTest))\n",
    "accTest"
   ]
  },
  {
   "cell_type": "markdown",
   "id": "a1470fbf",
   "metadata": {},
   "source": [
    "$K_{best}$ has a test accuracy of 0.9875 (n_neighbors = 3), which is an improvement over a 1-NN classifier. "
   ]
  },
  {
   "cell_type": "code",
   "execution_count": 476,
   "id": "da24ed99",
   "metadata": {
    "scrolled": false
   },
   "outputs": [
    {
     "name": "stdout",
     "output_type": "stream",
     "text": [
      "[(1, 0.9775), (2, 0.9725), (3, 0.9875)]\n"
     ]
    }
   ],
   "source": [
    "compare=[]\n",
    "for i in range(1,4):\n",
    "    knn = KNeighborsClassifier(n_neighbors = i)\n",
    "    knn.fit(XTrain,YTrain)\n",
    "    knn.predict(XTest);\n",
    "    accTest = accuracy_score(YTest, knn.predict(XTest))\n",
    "    compare.append((i, accTest))\n",
    "print(compare)"
   ]
  },
  {
   "cell_type": "markdown",
   "id": "106b11a8",
   "metadata": {},
   "source": [
    "#### Exercise 4"
   ]
  },
  {
   "cell_type": "markdown",
   "id": "bd6ea1da",
   "metadata": {},
   "source": [
    "Exercise 4 (Data normalization). Center and normalize the data and repeat the model selection and classification process from Exercise 2 and Exercise 3. However, keep the general rule from above in mind.\n",
    "You can implement the normalization yourself. First, compute the mean and the variance of every input feature (i.e. of every component of the input vector). Then, find the affine linear mapping that transforms the training input data such that the mean and the variance of every feature are zero and one, respectively, after the transformation.\n",
    "You may also use scikit-learn. Here are three different ways how one could apply the preprocessing from scikit-learn, only one of which is correct:"
   ]
  },
  {
   "cell_type": "code",
   "execution_count": 477,
   "id": "d539e70b",
   "metadata": {},
   "outputs": [],
   "source": [
    "from sklearn import preprocessing\n",
    "# version 1\n",
    "scaler = preprocessing.StandardScaler().fit(XTrain)\n",
    "XTrainN = scaler.transform(XTrain) \n",
    "XTestN = scaler.transform(XTest)"
   ]
  },
  {
   "cell_type": "code",
   "execution_count": 397,
   "id": "d4238542",
   "metadata": {
    "scrolled": true
   },
   "outputs": [
    {
     "data": {
      "text/plain": [
       "array([[ 0.26093453, -0.82557386, -1.07545312, -0.42356281, -0.73590552],\n",
       "       [ 1.04496822,  0.11540026,  0.97700516,  0.79452245,  0.39725854],\n",
       "       [-1.57815684,  0.21805198, -1.07545312, -0.75167938, -0.2256987 ],\n",
       "       ...,\n",
       "       [-0.53923154,  0.05209836, -0.77023842, -0.85640642, -0.10297853],\n",
       "       [-1.19097971, -1.13523988, -1.07545312, -0.81755607, -1.31579161],\n",
       "       [ 0.65779109, -0.94704506,  0.97147591,  0.06924548, -0.76754347]])"
      ]
     },
     "execution_count": 397,
     "metadata": {},
     "output_type": "execute_result"
    }
   ],
   "source": [
    "XTrainN"
   ]
  },
  {
   "cell_type": "code",
   "execution_count": 480,
   "id": "7d0d4179",
   "metadata": {},
   "outputs": [],
   "source": [
    "scaler = StandardScaler()\n",
    "scaler.fit(XTrain)\n",
    "XTrainN = scaler.transform(XTrain)\n",
    "XTestN = scaler.transform(XTest)"
   ]
  },
  {
   "cell_type": "code",
   "execution_count": null,
   "id": "cad09462",
   "metadata": {},
   "outputs": [],
   "source": [
    "#Cross validation after Normalization"
   ]
  },
  {
   "cell_type": "code",
   "execution_count": 481,
   "id": "cce821c3",
   "metadata": {},
   "outputs": [
    {
     "name": "stdout",
     "output_type": "stream",
     "text": [
      "1\n",
      "[0.975, 0.9833333333333333, 0.9916666666666667, 0.9916666666666667, 0.975]\n",
      "0.9833333333333334\n",
      "0.016666666666666607\n",
      "3\n",
      "[0.9833333333333333, 0.9833333333333333, 0.9916666666666667, 1.0, 1.0]\n",
      "0.9916666666666666\n",
      "0.008333333333333415\n",
      "5\n",
      "[0.9833333333333333, 0.9833333333333333, 0.9916666666666667, 1.0, 1.0]\n",
      "0.9916666666666666\n",
      "0.008333333333333415\n",
      "7\n",
      "[0.9833333333333333, 0.9833333333333333, 0.9916666666666667, 1.0, 1.0]\n",
      "0.9916666666666666\n",
      "0.008333333333333415\n",
      "9\n",
      "[0.9833333333333333, 0.9833333333333333, 0.9916666666666667, 0.9916666666666667, 1.0]\n",
      "0.9899999999999999\n",
      "0.01000000000000012\n",
      "11\n",
      "[0.9916666666666667, 0.9833333333333333, 0.9916666666666667, 0.9916666666666667, 1.0]\n",
      "0.9916666666666668\n",
      "0.008333333333333193\n"
     ]
    }
   ],
   "source": [
    "k= [1, 3, 5, 7, 9, 11]  \n",
    "cv = KFold(n_splits=5)\n",
    "loss_score_N=[]\n",
    "for i in k:\n",
    "    ac_score = []\n",
    "    print(i)\n",
    "    for fold, (train, test) in enumerate(cv.split(XTrainN)):\n",
    "        XTrainCV,XTestCV,YTrainCV,YTestCV = XTrain[train],XTrain[test],YTrain[train],YTrain[test] \n",
    "        knn = KNeighborsClassifier(n_neighbors = i)\n",
    "        knn.fit(XTrainCV,YTrainCV)\n",
    "        ac = accuracy_score(YTestCV, knn.predict(XTestCV))   \n",
    "        ac_score.append(ac)\n",
    "    print(ac_score)\n",
    "    print(sum(ac_score)/len(ac_score)) #Find the average of the accuracy score from all folds\n",
    "    print(1-sum(ac_score)/len(ac_score)) ##0-1 loss (classification error)\n",
    "    loss_score_N.append((i,1-sum(ac_score)/len(ac_score)))"
   ]
  },
  {
   "cell_type": "code",
   "execution_count": 492,
   "id": "d6feaefa",
   "metadata": {},
   "outputs": [],
   "source": [
    "df1 = pd.DataFrame(loss_score_N, columns =['K','loss_score_normalized'])\n",
    "result = pd.merge(df, df1, on=\"K\")"
   ]
  },
  {
   "cell_type": "code",
   "execution_count": 488,
   "id": "a2a2147f",
   "metadata": {
    "scrolled": false
   },
   "outputs": [
    {
     "data": {
      "image/png": "[encoded data removed]",
      "text/plain": [
       "<Figure size 640x480 with 1 Axes>"
      ]
     },
     "metadata": {},
     "output_type": "display_data"
    }
   ],
   "source": [
    "pt.plot(result['K'], result['loss_score'],label ='loss_score_before')\n",
    "pt.plot(result['K'], result['loss_score_normalized'], '-.',label ='loss_score after normalization')\n",
    "pt.xlabel(\"K\")\n",
    "pt.ylabel(\"loss score\")\n",
    "pt.legend()\n",
    "pt.title('Comparison loss value before and after normalization')\n",
    "pt.show()"
   ]
  },
  {
   "cell_type": "markdown",
   "id": "6b584df3",
   "metadata": {},
   "source": [
    "##### Evaluate acuracy score after normalization"
   ]
  },
  {
   "cell_type": "code",
   "execution_count": 491,
   "id": "c8207e9f",
   "metadata": {},
   "outputs": [
    {
     "name": "stdout",
     "output_type": "stream",
     "text": [
      "[(1, 0.985), (3, 0.9875), (5, 0.99), (7, 0.9825), (9, 0.9775), (11, 0.98)]\n"
     ]
    }
   ],
   "source": [
    "k= [1, 3, 5, 7, 9, 11]  \n",
    "ac_score = []\n",
    "for i in k:\n",
    "    knn = KNeighborsClassifier(n_neighbors = i)\n",
    "    knn.fit(XTrainN,YTrain)\n",
    "    knn.predict(XTestN);\n",
    "    accTest = accuracy_score(YTest, knn.predict(XTestN))\n",
    "    ac_score.append((i,accTest))\n",
    "print(ac_score)"
   ]
  },
  {
   "cell_type": "markdown",
   "id": "5fa80a5e",
   "metadata": {},
   "source": [
    "There are three versions of normalization:\n",
    "\n",
    "The first one, creating a scaler object, fits XTrain data into the standard scaler, eliminating the mean and scaling to unit variance so that characteristics are made uniform, then calls the transform function on XTrain and XTest data from the same standard scaler object.\n",
    "\n",
    "The second version creates two individual standard scaler objects, one for Xtrain to transform Xtrain data and the other for Xtest to transform Xtest data.\n",
    "\n",
    "The last version is combining both Xtrain and Xtest, fitting the total data into the standard scaler, then using it to transform both Xtrain and Xtest.\n",
    "\n",
    "According to a general rule, \"you must not use the test data in the model building process at all (neither for training, data normalization, nor hyperparameter selection - see below),\"  I decided to pick the first version of data normalization because it does not require any test data in the model building process while the other two fit Xtest data into the model.\n",
    "\n",
    "The parameter $k_{best}$ (k = 3) discovered in the cross-validation procedure after normalization remains unchanged, whereas k = 1 and k = 11 produce better results.However, before and after data normalization, cross-validation for the best k results are consistent.\n",
    "\n",
    "The accuracy score of $k_{best}$ (k = 3) after data normalization remains unchanged for training and testing accuracy of $k_{best}$, whereas k = 1 has a higher accuracy score after data normalization."
   ]
  },
  {
   "cell_type": "code",
   "execution_count": null,
   "id": "6b4abeb1",
   "metadata": {},
   "outputs": [],
   "source": []
  }
 ],
 "metadata": {
  "kernelspec": {
   "display_name": "IDS-A2",
   "language": "python",
   "name": "ids-a2"
  },
  "language_info": {
   "codemirror_mode": {
    "name": "ipython",
    "version": 3
   },
   "file_extension": ".py",
   "mimetype": "text/x-python",
   "name": "python",
   "nbconvert_exporter": "python",
   "pygments_lexer": "ipython3",
   "version": "3.10.9"
  }
 },
 "nbformat": 4,
 "nbformat_minor": 5
}
