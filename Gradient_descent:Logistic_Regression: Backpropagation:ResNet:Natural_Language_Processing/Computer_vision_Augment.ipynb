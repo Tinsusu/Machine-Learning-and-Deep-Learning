{
  "cells": [
    {
      "cell_type": "markdown",
      "metadata": {
        "id": "qL2_31R70NN0"
      },
      "source": [
        "# Computer Vision\n",
        "\n",
        "To work in this Colab notebook, first save a copy of it via \"File\" -> \"Save a copy in Drive\" in the top-left menu bar.\n"
      ]
    },
    {
      "cell_type": "markdown",
      "metadata": {
        "id": "tBBfHMPW0ZQ4"
      },
      "source": [
        "### 1. Install all missing packages that we need an download our custom FashionMNIST data\n",
        "\n",
        "The data files will be available locally in your Colab runtime. You can find them through the files menu on the left."
      ]
    },
    {
      "cell_type": "code",
      "execution_count": null,
      "metadata": {
        "colab": {
          "base_uri": "https://localhost:8080/"
        },
        "id": "OxY0aSy-6hGc",
        "outputId": "7d05b5cc-c1a8-45f6-f8c9-beaeee5de7df"
      },
      "outputs": [
        {
          "name": "stdout",
          "output_type": "stream",
          "text": [
            "Looking in indexes: https://pypi.org/simple, https://us-python.pkg.dev/colab-wheels/public/simple/\n",
            "Collecting torchmetrics\n",
            "  Downloading torchmetrics-0.11.4-py3-none-any.whl (519 kB)\n",
            "\u001b[2K     \u001b[90m━━━━━━━━━━━━━━━━━━━━━━━━━━━━━━━━━━━━━━\u001b[0m \u001b[32m519.2/519.2 KB\u001b[0m \u001b[31m27.0 MB/s\u001b[0m eta \u001b[36m0:00:00\u001b[0m\n",
            "\u001b[?25hRequirement already satisfied: gdown in /usr/local/lib/python3.9/dist-packages (4.6.6)\n",
            "Requirement already satisfied: numpy>=1.17.2 in /usr/local/lib/python3.9/dist-packages (from torchmetrics) (1.22.4)\n",
            "Requirement already satisfied: torch>=1.8.1 in /usr/local/lib/python3.9/dist-packages (from torchmetrics) (2.0.0+cu118)\n",
            "Requirement already satisfied: packaging in /usr/local/lib/python3.9/dist-packages (from torchmetrics) (23.0)\n",
            "Requirement already satisfied: filelock in /usr/local/lib/python3.9/dist-packages (from gdown) (3.10.7)\n",
            "Requirement already satisfied: beautifulsoup4 in /usr/local/lib/python3.9/dist-packages (from gdown) (4.11.2)\n",
            "Requirement already satisfied: tqdm in /usr/local/lib/python3.9/dist-packages (from gdown) (4.65.0)\n",
            "Requirement already satisfied: six in /usr/local/lib/python3.9/dist-packages (from gdown) (1.16.0)\n",
            "Requirement already satisfied: requests[socks] in /usr/local/lib/python3.9/dist-packages (from gdown) (2.27.1)\n",
            "Requirement already satisfied: jinja2 in /usr/local/lib/python3.9/dist-packages (from torch>=1.8.1->torchmetrics) (3.1.2)\n",
            "Requirement already satisfied: sympy in /usr/local/lib/python3.9/dist-packages (from torch>=1.8.1->torchmetrics) (1.11.1)\n",
            "Requirement already satisfied: networkx in /usr/local/lib/python3.9/dist-packages (from torch>=1.8.1->torchmetrics) (3.0)\n",
            "Requirement already satisfied: typing-extensions in /usr/local/lib/python3.9/dist-packages (from torch>=1.8.1->torchmetrics) (4.5.0)\n",
            "Requirement already satisfied: triton==2.0.0 in /usr/local/lib/python3.9/dist-packages (from torch>=1.8.1->torchmetrics) (2.0.0)\n",
            "Requirement already satisfied: cmake in /usr/local/lib/python3.9/dist-packages (from triton==2.0.0->torch>=1.8.1->torchmetrics) (3.25.2)\n",
            "Requirement already satisfied: lit in /usr/local/lib/python3.9/dist-packages (from triton==2.0.0->torch>=1.8.1->torchmetrics) (16.0.0)\n",
            "Requirement already satisfied: soupsieve>1.2 in /usr/local/lib/python3.9/dist-packages (from beautifulsoup4->gdown) (2.4)\n",
            "Requirement already satisfied: certifi>=2017.4.17 in /usr/local/lib/python3.9/dist-packages (from requests[socks]->gdown) (2022.12.7)\n",
            "Requirement already satisfied: idna<4,>=2.5 in /usr/local/lib/python3.9/dist-packages (from requests[socks]->gdown) (3.4)\n",
            "Requirement already satisfied: charset-normalizer~=2.0.0 in /usr/local/lib/python3.9/dist-packages (from requests[socks]->gdown) (2.0.12)\n",
            "Requirement already satisfied: urllib3<1.27,>=1.21.1 in /usr/local/lib/python3.9/dist-packages (from requests[socks]->gdown) (1.26.15)\n",
            "Requirement already satisfied: PySocks!=1.5.7,>=1.5.6 in /usr/local/lib/python3.9/dist-packages (from requests[socks]->gdown) (1.7.1)\n",
            "Requirement already satisfied: MarkupSafe>=2.0 in /usr/local/lib/python3.9/dist-packages (from jinja2->torch>=1.8.1->torchmetrics) (2.1.2)\n",
            "Requirement already satisfied: mpmath>=0.19 in /usr/local/lib/python3.9/dist-packages (from sympy->torch>=1.8.1->torchmetrics) (1.3.0)\n",
            "Installing collected packages: torchmetrics\n",
            "Successfully installed torchmetrics-0.11.4\n",
            "Downloading...\n",
            "From: https://drive.google.com/uc?id=1zYfBlExr_LK-Ld8rmxCTqRU5RAOUVVfh\n",
            "To: /content/fashion_mnist_training.pt\n",
            "100% 3.93M/3.93M [00:00<00:00, 240MB/s]\n",
            "Downloading...\n",
            "From: https://drive.google.com/uc?id=1PJa_I3qG0P5whuARV_Se1_YUvHzR469R\n",
            "To: /content/fashion_mnist_validation.pt\n",
            "100% 786k/786k [00:00<00:00, 104MB/s]\n",
            "Downloading...\n",
            "From: https://drive.google.com/uc?id=1pC8-ummMGy1dPhHGPuNsms5_I7HpWgv2\n",
            "To: /content/fashion_mnist_test.pt\n",
            "100% 786k/786k [00:00<00:00, 139MB/s]\n"
          ]
        }
      ],
      "source": [
        "# Install packages\n",
        "!pip install torchmetrics gdown\n",
        "\n",
        "# Download training, validation, and test splits\n",
        "!gdown https://drive.google.com/uc?id=1zYfBlExr_LK-Ld8rmxCTqRU5RAOUVVfh\n",
        "!gdown https://drive.google.com/uc?id=1PJa_I3qG0P5whuARV_Se1_YUvHzR469R\n",
        "!gdown https://drive.google.com/uc?id=1pC8-ummMGy1dPhHGPuNsms5_I7HpWgv2"
      ]
    },
    {
      "cell_type": "markdown",
      "metadata": {
        "id": "Ec72Ga6812RP"
      },
      "source": [
        "### 2. Import classes and functions we will be using"
      ]
    },
    {
      "cell_type": "code",
      "execution_count": null,
      "metadata": {
        "id": "T9VpHD-DgtpQ"
      },
      "outputs": [],
      "source": [
        "import math\n",
        "import os\n",
        "import random\n",
        "from typing import Any, Callable, Optional, Tuple\n",
        "\n",
        "import numpy as np\n",
        "import matplotlib.pyplot as plt\n",
        "import seaborn as sns\n",
        "import pandas as pd\n",
        "from PIL import Image\n",
        "from tqdm import tqdm\n",
        "\n",
        "import torch\n",
        "from torch import nn\n",
        "import torch.nn.functional as F\n",
        "from torch.optim import SGD\n",
        "from torch.optim.lr_scheduler import LinearLR\n",
        "from torch.utils.data import DataLoader\n",
        "from torchvision.datasets import VisionDataset\n",
        "from torchvision.transforms import Compose, Lambda, ToTensor, RandomVerticalFlip, RandomHorizontalFlip\n",
        "from torchvision.models.resnet import ResNet, BasicBlock\n",
        "from torchmetrics.functional.classification import multiclass_confusion_matrix"
      ]
    },
    {
      "cell_type": "markdown",
      "metadata": {
        "id": "f5X2STV32RqW"
      },
      "source": [
        "### 3. Check which PyTorch version we are running and confirm that we are in a GPU runtime.\n",
        "If this output shows that you are not in a GPU runtime, go to \"Runtime\" in the top-left menu bar -> \"Change runtime type\" -> set \"Hardware Accelerator: GPU\"."
      ]
    },
    {
      "cell_type": "code",
      "execution_count": null,
      "metadata": {
        "colab": {
          "base_uri": "https://localhost:8080/"
        },
        "id": "mPccgagdC5hU",
        "outputId": "f54851d0-af80-4678-ee27-fb6482cd215d"
      },
      "outputs": [
        {
          "name": "stdout",
          "output_type": "stream",
          "text": [
            "Running PyTorch version: 2.0.0+cu118\n",
            "CUDA available: True\n",
            "Tue Apr  4 11:12:14 2023       \n",
            "+-----------------------------------------------------------------------------+\n",
            "| NVIDIA-SMI 525.85.12    Driver Version: 525.85.12    CUDA Version: 12.0     |\n",
            "|-------------------------------+----------------------+----------------------+\n",
            "| GPU  Name        Persistence-M| Bus-Id        Disp.A | Volatile Uncorr. ECC |\n",
            "| Fan  Temp  Perf  Pwr:Usage/Cap|         Memory-Usage | GPU-Util  Compute M. |\n",
            "|                               |                      |               MIG M. |\n",
            "|===============================+======================+======================|\n",
            "|   0  Tesla T4            Off  | 00000000:00:04.0 Off |                    0 |\n",
            "| N/A   36C    P8     9W /  70W |      3MiB / 15360MiB |      0%      Default |\n",
            "|                               |                      |                  N/A |\n",
            "+-------------------------------+----------------------+----------------------+\n",
            "                                                                               \n",
            "+-----------------------------------------------------------------------------+\n",
            "| Processes:                                                                  |\n",
            "|  GPU   GI   CI        PID   Type   Process name                  GPU Memory |\n",
            "|        ID   ID                                                   Usage      |\n",
            "|=============================================================================|\n",
            "|  No running processes found                                                 |\n",
            "+-----------------------------------------------------------------------------+\n"
          ]
        }
      ],
      "source": [
        "print(f\"Running PyTorch version: {torch.__version__}\")\n",
        "print(f\"CUDA available: {torch.cuda.is_available()}\")\n",
        "!nvidia-smi"
      ]
    },
    {
      "cell_type": "markdown",
      "metadata": {
        "id": "48pQqaEu2rl_"
      },
      "source": [
        "### 4. Make things (more) reproducible by setting random seeds\n",
        "\n",
        "See here for details: https://pytorch.org/docs/stable/notes/randomness.html"
      ]
    },
    {
      "cell_type": "code",
      "execution_count": null,
      "metadata": {
        "id": "nl_WgwsJykDK"
      },
      "outputs": [],
      "source": [
        "seed = 42\n",
        "random.seed(seed)\n",
        "np.random.seed(seed)\n",
        "torch.manual_seed(seed)\n",
        "torch.cuda.manual_seed_all(seed)"
      ]
    },
    {
      "cell_type": "markdown",
      "metadata": {
        "id": "d9FscidJ266u"
      },
      "source": [
        "### 5. Define our custom IDS FashionMNIST PyTorch dataset\n",
        "\n",
        "Our model inherits, i.e. is a specific kind of, `VisionDataset` in torchvision.\\\n",
        "This means it has all features defined in `VisionDataset`, unless they are explicitly overridden here, \\\n",
        "plus any additional functionality that may be defined below. You can read more about `VisionDataset` here: https://pytorch.org/vision/main/generated/torchvision.datasets.VisionDataset.html. "
      ]
    },
    {
      "cell_type": "code",
      "execution_count": null,
      "metadata": {
        "id": "rQRFvmlVrXyb"
      },
      "outputs": [],
      "source": [
        "class IDSFashionMnistDataset(VisionDataset):\n",
        "    \"\"\"\n",
        "    FashionMNIST dataset for the IDS course which loads custom data files from disk\n",
        "    \"\"\"\n",
        "    \n",
        "    classes = [\n",
        "        \"T-shirt/top\", \"Trouser\", \"Pullover\", \"Dress\", \"Coat\", \n",
        "        \"Sandal\", \"Shirt\", \"Sneaker\", \"Bag\", \"Ankle boot\"\n",
        "    ]\n",
        "    \n",
        "    def __init__(\n",
        "        self,\n",
        "        root: str,\n",
        "        split: str = \"training\",\n",
        "        transform: Optional[Callable] = None,\n",
        "        target_transform: Optional[Callable] = None,\n",
        "    ) -> None:\n",
        "        super().__init__(root, transform=transform, target_transform=target_transform)\n",
        "        \n",
        "        if not split in [\"training\", \"validation\", \"test\"]:\n",
        "            raise ValueError(\"Split should be 'training', 'validation', or 'test'.\")\n",
        "            \n",
        "        self.split = split\n",
        "        self.root = root\n",
        "        \n",
        "        self.data, self.targets = self._load_data()\n",
        "    \n",
        "    def _load_data(self):\n",
        "        data = torch.load(os.path.join(self.root, f\"fashion_mnist_{self.split}.pt\"))\n",
        "        images = data[:, :-1].reshape(-1, 28, 28)  # 28x28 resolution\n",
        "        labels = data[:, -1]\n",
        "        return images, labels \n",
        "    \n",
        "    def __getitem__(self, index: int) -> Tuple[Any, Any]:\n",
        "        \"\"\"\n",
        "        Args:\n",
        "            index (int): Index\n",
        "\n",
        "        Returns:\n",
        "            tuple: (image, target) where target is index of the target class.\n",
        "        \"\"\"\n",
        "        img, target = self.data[index], int(self.targets[index])\n",
        "\n",
        "        # doing this so that it is consistent with all other datasets\n",
        "        # to return a PIL Image\n",
        "        img = Image.fromarray(img.numpy(), mode=\"L\")\n",
        "\n",
        "        if self.transform is not None:\n",
        "            img = self.transform(img)\n",
        "\n",
        "        if self.target_transform is not None:\n",
        "            target = self.target_transform(target)\n",
        "\n",
        "        return img, target\n",
        "    \n",
        "    def __len__(self):\n",
        "        return len(self.data)"
      ]
    },
    {
      "cell_type": "markdown",
      "metadata": {
        "id": "bYZm4f-G3bJb"
      },
      "source": [
        "### 6. Define our custom ResNet-18 model for FashionMNIST\n",
        "The original ResNet-18 uses 3-channel (RGB) inputs and has 1000 output classes based on ImageNet-1K.\n",
        "\n",
        "https://pytorch.org/vision/main/models/generated/torchvision.models.resnet18.html\n",
        "\n",
        "We instead use single-channel inputs (Grayscale) and 10 output classes according to FashionMNIST."
      ]
    },
    {
      "cell_type": "code",
      "execution_count": null,
      "metadata": {
        "id": "dOKZ40RW31jy"
      },
      "outputs": [],
      "source": [
        "class FashionMnistResNet18(ResNet):\n",
        "    \"\"\"\n",
        "    Custom ResNet-18 model which uses 1 input channel (grayscale) and has 10 output classes\n",
        "    \"\"\"\n",
        "    def __init__(self):\n",
        "        super().__init__(BasicBlock, [2,2,2,2,2], num_classes=10)\n",
        "        self.conv1 = nn.Conv2d(1, 64,\n",
        "          kernel_size=(7, 7),\n",
        "          stride=(2, 2),\n",
        "          padding=(3, 3),\n",
        "          bias=False\n",
        "        )"
      ]
    },
    {
      "cell_type": "code",
      "execution_count": null,
      "metadata": {
        "id": "LD4hf3-HW8ZT"
      },
      "outputs": [],
      "source": [
        "from torchvision.transforms import Compose"
      ]
    },
    {
      "cell_type": "markdown",
      "metadata": {
        "id": "JtzPBiiq4RnD"
      },
      "source": [
        "### 7. Load our custom FashionMNIST data\n",
        "\n",
        "Here, we load our data using the `IDSFashionMnistDataset` class defined above. We also make use of the functionality in torchvision's `VisionDataset`, which `IDSFashionMnistDataset` inherits from, to set the transformations we want to apply when retrieving examples from our dataset. We use the `transform` keyword argument for this and compose our transformations using torchvision's `Compose` (https://pytorch.org/vision/main/generated/torchvision.transforms.Compose.html). In our base setting, the only transformation we apply is `ToTensor`, which converts our `PIL.Image` inputs into PyTorch tensors."
      ]
    },
    {
      "cell_type": "code",
      "execution_count": null,
      "metadata": {
        "colab": {
          "base_uri": "https://localhost:8080/"
        },
        "id": "8npA2MZEaQqR",
        "outputId": "02c1278d-9624-43e7-daa7-ca25475dce0b"
      },
      "outputs": [
        {
          "name": "stdout",
          "output_type": "stream",
          "text": [
            "Training dataset length = 5000\n",
            "Validation dataset length = 1000\n",
            "Test dataset length = 1000\n"
          ]
        }
      ],
      "source": [
        "# Create base transformation for our dataset\n",
        "# TODO: how can these be modified to randomly flip examples?\n",
        "base_transform_V = Compose([\n",
        "     RandomVerticalFlip(p=0.5), ToTensor()\n",
        "])\n",
        "\n",
        "base_transform_H = Compose([\n",
        "    RandomHorizontalFlip(p=0.33),\n",
        "    ToTensor()\n",
        "])\n",
        "\n",
        "base_transform = Compose([\n",
        "    ToTensor(),\n",
        "])\n",
        "\n",
        "# Load datasets\n",
        "train_dataset = IDSFashionMnistDataset(\".\", \"training\", transform=base_transform)\n",
        "validation_dataset = IDSFashionMnistDataset(\".\", \"validation\", transform=base_transform)\n",
        "test_dataset = IDSFashionMnistDataset(\".\", \"test\", transform=base_transform)\n",
        "\n",
        "train_dataset_H = IDSFashionMnistDataset(\".\", \"training\", transform=base_transform_H)\n",
        "validation_dataset_H = IDSFashionMnistDataset(\".\", \"validation\", transform=base_transform_H)\n",
        "test_dataset_H = IDSFashionMnistDataset(\".\", \"test\", transform=base_transform_H)\n",
        "\n",
        "train_dataset_V = IDSFashionMnistDataset(\".\", \"training\", transform=base_transform_V)\n",
        "validation_dataset_V = IDSFashionMnistDataset(\".\", \"validation\", transform=base_transform_V)\n",
        "test_dataset_V = IDSFashionMnistDataset(\".\", \"test\", transform=base_transform_V)\n",
        "\n",
        "\n",
        "# Check the sizes of our datasets\n",
        "print(f\"Training dataset length = {len(train_dataset)}\")\n",
        "print(f\"Validation dataset length = {len(validation_dataset)}\")\n",
        "print(f\"Test dataset length = {len(test_dataset)}\")"
      ]
    },
    {
      "cell_type": "markdown",
      "metadata": {
        "id": "HeQRTMvk5i52"
      },
      "source": [
        "### 8. Implement our evaluation function and training loop\n",
        "\n",
        "Below, we provide some rudimentary functionality for training and evaluation,\\\n",
        "as well as metric storing and logging, for our experiments."
      ]
    },
    {
      "cell_type": "code",
      "execution_count": null,
      "metadata": {
        "id": "2mqMKk35ip9f"
      },
      "outputs": [],
      "source": [
        "def log_metrics(metrics: dict, step: Optional[int] = None):\n",
        "    \"\"\"\n",
        "    Log metrics stored in a dictionary\n",
        "    \"\"\"\n",
        "\n",
        "    # During training, it can be useful to also log the current step\n",
        "    if step is not None:\n",
        "        print(f\"\\nMetrics step {step}:\")\n",
        "\n",
        "    for k, v in metrics.items():\n",
        "        # We ignore the confusion matrix when logging metrics\n",
        "        if not k.endswith(\"conf_matrix\"):\n",
        "            print(f\"  {k}: {v}\")\n",
        "\n",
        "def evaluate(model, eval_dataloader, prefix=\"eval\"):\n",
        "    \"\"\"\n",
        "    Evaluation function that computes the loss, accuracy, and confusion matrix for the dataset\n",
        "    passed via the `eval_dataloader` argument\n",
        "    \"\"\"\n",
        "    \n",
        "    # Define loss function\n",
        "    criterion = nn.CrossEntropyLoss()\n",
        "\n",
        "    # Move model to GPU\n",
        "    model.cuda()\n",
        "\n",
        "    # Set model to evaluation mode (e.g. to disable dropout)\n",
        "    model.eval()\n",
        "\n",
        "    eval_loss = 0\n",
        "    y_pred = None\n",
        "    y_true = None\n",
        "    num_classes = None\n",
        "    \n",
        "    for batch_idx, batch in enumerate(tqdm(eval_dataloader, desc=f\"Evaluating\")):\n",
        "        # Loop over batches in dataloader\n",
        "        \n",
        "        # Move batch to GPU\n",
        "        inputs, labels = batch\n",
        "        inputs = inputs.cuda()\n",
        "        labels = labels.cuda()\n",
        "        \n",
        "        # Use no_grad mode to disable gradient computation\n",
        "        with torch.no_grad():\n",
        "            # Get model outputs\n",
        "            outputs = model(inputs)\n",
        "        \n",
        "        # Compute loss\n",
        "        loss = criterion(outputs, labels)\n",
        "        eval_loss += loss.detach().cpu().item()\n",
        "\n",
        "        if num_classes is None:\n",
        "            num_classes = len(outputs[0])\n",
        "        \n",
        "        # Get class predictions\n",
        "        preds = torch.argmax(outputs, dim=-1)\n",
        "        \n",
        "        # Accumulate predictions and true classes over batches\n",
        "        y_pred = torch.cat([y_pred, preds]) if y_pred is not None else preds\n",
        "        y_true = torch.cat([y_true, labels]) if y_true is not None else labels\n",
        "\n",
        "    \n",
        "    # Move predictions and true classes back to CPU\n",
        "    y_pred = y_pred.detach().cpu()\n",
        "    y_true = y_true.detach().cpu()\n",
        "  \n",
        "    # Compute metrics\n",
        "    eval_loss /= len(eval_dataloader)\n",
        "    eval_acc = (y_pred == y_true).sum() / len(y_true)\n",
        "    eval_conf_matrix = multiclass_confusion_matrix(\n",
        "        y_pred, y_true, num_classes=num_classes\n",
        "    )\n",
        "    \n",
        "    # Store metrics in a dictionary\n",
        "    metrics = {\n",
        "        f\"{prefix}_loss\": eval_loss,\n",
        "        f\"{prefix}_accuracy\": eval_acc.item(),\n",
        "        f\"{prefix}_conf_matrix\": eval_conf_matrix.numpy()\n",
        "    }\n",
        "\n",
        "    return metrics\n",
        "\n",
        "\n",
        "def save_best_model(model: nn.Module):\n",
        "  \"\"\"\n",
        "  Simple function that saves the weights of the specified model to disk.\n",
        "  We use this to keep track of the best model (based on validation loss).\n",
        "  \"\"\"\n",
        "  output_path = \"best_model.pt\"\n",
        "  torch.save(model.state_dict(), output_path)\n",
        "  print(f\"Saved new best model to {output_path}\\n\")\n",
        "\n",
        "\n",
        "def load_best_model(model: nn.Module, model_path: str = \"best_model.pt\"):\n",
        "  \"\"\"\n",
        "  Simple function that loads model weights stored at `model_path` into the \n",
        "  passed model of type `nn.Module`. We use this to load our best model checkpoint.\n",
        "  \"\"\"\n",
        "  model.load_state_dict(torch.load(model_path))\n",
        "  model.eval()\n",
        "  print(f\"Loaded best {model.__class__.__name__} model from {model_path}\\n\")\n",
        "  return model\n",
        "\n",
        "\n",
        "def train(\n",
        "  model: nn.Module,\n",
        "  train_dataloader: DataLoader,\n",
        "  eval_dataloader: DataLoader,\n",
        "  num_epochs: int = 20,\n",
        "  lr: float = 0.1,\n",
        "  eval_steps: int = 100\n",
        "):\n",
        "    \"\"\"\n",
        "    Training loop\n",
        "    \"\"\"\n",
        "    \n",
        "    # Create SGD optimizer with specified learning rate and fixed momentum\n",
        "    optimizer = SGD(model.parameters(), lr=lr, momentum=0.9)\n",
        "    \n",
        "    # Create linear learning rate decay schedule\n",
        "    scheduler = LinearLR(\n",
        "        optimizer,\n",
        "        start_factor=1.0,\n",
        "        end_factor=1e-6,\n",
        "        total_iters=len(train_dataloader) * num_epochs\n",
        "    )\n",
        "    \n",
        "    # Define loss function\n",
        "    criterion = nn.CrossEntropyLoss()\n",
        "    \n",
        "    # Move model to GPU\n",
        "    model.cuda()\n",
        "\n",
        "    total_loss = 0\n",
        "    total_eval_loss = 0\n",
        "    global_step = 0\n",
        "    global_eval_step = 0\n",
        "    best_eval_loss = float(\"inf\")\n",
        "\n",
        "    # Store our initial model\n",
        "    save_best_model(model)\n",
        "\n",
        "    # Create dictionary to store metrics throughout training\n",
        "    metrics_dict = {}\n",
        "\n",
        "    print(\"Starting model training\")\n",
        "\n",
        "    for epoch_idx in range(num_epochs):\n",
        "        # Epoch loop (one epoch is one pass over the full training dataset)\n",
        "        \n",
        "        for batch_idx, batch in enumerate(tqdm(train_dataloader, desc=f\"Epoch {epoch_idx+1}\")):\n",
        "            # Loop over batches in training dataset\n",
        "            \n",
        "            # Set model to training mode\n",
        "            model.train()\n",
        "\n",
        "            global_step += 1\n",
        "            \n",
        "            # Move batch to GPU\n",
        "            inputs, labels = batch\n",
        "            inputs = inputs.cuda()\n",
        "            labels = labels.cuda()\n",
        "            \n",
        "            # Get model outputs\n",
        "            outputs = model(inputs)\n",
        "            \n",
        "            # Compute loss\n",
        "            loss = criterion(outputs, labels)\n",
        "            total_loss += loss.detach().cpu().item()\n",
        "            \n",
        "            # Evaluation loop\n",
        "            if global_step % eval_steps == 0:\n",
        "                global_eval_step += 1\n",
        "                metrics = {\n",
        "                    \"mean_train_loss\": total_loss / global_step,\n",
        "                    \"learning_rate\": scheduler.get_last_lr()[0]\n",
        "                }\n",
        "\n",
        "                # Evaluate on validation and training datasets\n",
        "                metrics.update(evaluate(model, eval_dataloader, prefix=\"eval\"))\n",
        "                metrics.update(evaluate(model, train_dataloader, prefix=\"train\"))\n",
        "\n",
        "                # Update and log metrics\n",
        "                total_eval_loss += metrics[\"eval_loss\"]\n",
        "                metrics[\"mean_eval_loss\"] = total_eval_loss / global_eval_step\n",
        "                log_metrics(metrics, step=global_step)\n",
        "                metrics_dict[global_step] = metrics\n",
        "            \n",
        "                # Check if our validation loss has decreased, and if so,\n",
        "                # update our best model checkpoint\n",
        "                if metrics[\"eval_loss\"] <= best_eval_loss:\n",
        "                  best_eval_loss = metrics[\"eval_loss\"]\n",
        "                  save_best_model(model)\n",
        "\n",
        "            # Compute gradients\n",
        "            loss.backward()\n",
        "            \n",
        "            # Perform update step\n",
        "            optimizer.step()\n",
        "            \n",
        "            # Reduce learning rate for stability\n",
        "            scheduler.step()\n",
        "            \n",
        "            # Set gradients to zero\n",
        "            model.zero_grad()\n",
        "\n",
        "    return metrics_dict"
      ]
    },
    {
      "cell_type": "markdown",
      "metadata": {
        "id": "v2h72BWltFaY"
      },
      "source": [
        "### 9. Define hyperparameters, create dataloaders, instantiate model, and run training/evaluation procedure\n",
        "\n",
        "Here, we set our hyper-parameters for the dataloader (batch size) and the training loop \\\n",
        "(number of epochs, learning rate, and evaluation interval in steps).\n",
        "\n",
        "We only use very basic data loading functionality. More information on available features can be found here https://pytorch.org/docs/stable/data.html#torch.utils.data.DataLoader."
      ]
    },
    {
      "cell_type": "code",
      "execution_count": null,
      "metadata": {
        "colab": {
          "base_uri": "https://localhost:8080/"
        },
        "id": "EBGaR6FmsWtF",
        "outputId": "a2ffa971-08ed-4d7d-a11a-473368ab9ee6"
      },
      "outputs": [
        {
          "name": "stdout",
          "output_type": "stream",
          "text": [
            "Saved new best model to best_model.pt\n",
            "\n",
            "Starting model training\n"
          ]
        },
        {
          "name": "stderr",
          "output_type": "stream",
          "text": [
            "Epoch 1: 100%|██████████| 20/20 [00:08<00:00,  2.26it/s]\n",
            "Epoch 2: 100%|██████████| 20/20 [00:00<00:00, 23.06it/s]\n",
            "Epoch 3: 100%|██████████| 20/20 [00:00<00:00, 22.46it/s]\n",
            "Epoch 4: 100%|██████████| 20/20 [00:01<00:00, 16.04it/s]\n",
            "Epoch 5:  90%|█████████ | 18/20 [00:00<00:00, 22.58it/s]\n",
            "Evaluating:   0%|          | 0/4 [00:00<?, ?it/s]\u001b[A\n",
            "Evaluating: 100%|██████████| 4/4 [00:00<00:00, 21.90it/s]\n",
            "\n",
            "Evaluating:   0%|          | 0/20 [00:00<?, ?it/s]\u001b[A\n",
            "Evaluating:  15%|█▌        | 3/20 [00:00<00:00, 25.16it/s]\u001b[A\n",
            "Evaluating:  30%|███       | 6/20 [00:00<00:00, 24.69it/s]\u001b[A\n",
            "Evaluating:  45%|████▌     | 9/20 [00:00<00:00, 23.11it/s]\u001b[A\n",
            "Evaluating:  60%|██████    | 12/20 [00:00<00:00, 22.78it/s]\u001b[A\n",
            "Evaluating:  75%|███████▌  | 15/20 [00:00<00:00, 23.16it/s]\u001b[A\n",
            "Evaluating: 100%|██████████| 20/20 [00:00<00:00, 24.12it/s]\n",
            "Epoch 5: 100%|██████████| 20/20 [00:02<00:00,  9.84it/s]\n"
          ]
        },
        {
          "name": "stdout",
          "output_type": "stream",
          "text": [
            "\n",
            "Metrics step 100:\n",
            "  mean_train_loss: 0.842326907813549\n",
            "  learning_rate: 0.09505000494999999\n",
            "  eval_loss: 0.5414284244179726\n",
            "  eval_accuracy: 0.7900000214576721\n",
            "  train_loss: 0.47104342132806776\n",
            "  train_accuracy: 0.8191999793052673\n",
            "  mean_eval_loss: 0.5414284244179726\n",
            "Saved new best model to best_model.pt\n",
            "\n"
          ]
        },
        {
          "name": "stderr",
          "output_type": "stream",
          "text": [
            "Epoch 6: 100%|██████████| 20/20 [00:00<00:00, 22.46it/s]\n",
            "Epoch 7: 100%|██████████| 20/20 [00:00<00:00, 22.71it/s]\n",
            "Epoch 8: 100%|██████████| 20/20 [00:00<00:00, 20.61it/s]\n",
            "Epoch 9: 100%|██████████| 20/20 [00:01<00:00, 16.12it/s]\n",
            "Epoch 10:  90%|█████████ | 18/20 [00:01<00:00, 18.96it/s]\n",
            "Evaluating:   0%|          | 0/4 [00:00<?, ?it/s]\u001b[A\n",
            "Evaluating: 100%|██████████| 4/4 [00:00<00:00, 23.64it/s]\n",
            "\n",
            "Evaluating:   0%|          | 0/20 [00:00<?, ?it/s]\u001b[A\n",
            "Evaluating:  15%|█▌        | 3/20 [00:00<00:00, 24.77it/s]\u001b[A\n",
            "Evaluating:  30%|███       | 6/20 [00:00<00:00, 23.82it/s]\u001b[A\n",
            "Evaluating:  45%|████▌     | 9/20 [00:00<00:00, 23.74it/s]\u001b[A\n",
            "Evaluating:  60%|██████    | 12/20 [00:00<00:00, 24.28it/s]\u001b[A\n",
            "Evaluating:  75%|███████▌  | 15/20 [00:00<00:00, 24.39it/s]\u001b[A\n",
            "Evaluating: 100%|██████████| 20/20 [00:00<00:00, 24.62it/s]\n",
            "Epoch 10: 100%|██████████| 20/20 [00:02<00:00,  8.91it/s]\n"
          ]
        },
        {
          "name": "stdout",
          "output_type": "stream",
          "text": [
            "\n",
            "Metrics step 200:\n",
            "  mean_train_loss: 0.5871497262269258\n",
            "  learning_rate: 0.09005000994999993\n",
            "  eval_loss: 0.4561493322253227\n",
            "  eval_accuracy: 0.8399999737739563\n",
            "  train_loss: 0.23487783670425416\n",
            "  train_accuracy: 0.9172000288963318\n",
            "  mean_eval_loss: 0.49878887832164764\n",
            "Saved new best model to best_model.pt\n",
            "\n"
          ]
        },
        {
          "name": "stderr",
          "output_type": "stream",
          "text": [
            "Epoch 11: 100%|██████████| 20/20 [00:00<00:00, 23.09it/s]\n",
            "Epoch 12: 100%|██████████| 20/20 [00:00<00:00, 22.24it/s]\n",
            "Epoch 13: 100%|██████████| 20/20 [00:00<00:00, 22.35it/s]\n",
            "Epoch 14: 100%|██████████| 20/20 [00:00<00:00, 22.46it/s]\n",
            "Epoch 15:  90%|█████████ | 18/20 [00:00<00:00, 21.87it/s]\n",
            "Evaluating:   0%|          | 0/4 [00:00<?, ?it/s]\u001b[A\n",
            "Evaluating: 100%|██████████| 4/4 [00:00<00:00, 24.50it/s]\n",
            "\n",
            "Evaluating:   0%|          | 0/20 [00:00<?, ?it/s]\u001b[A\n",
            "Evaluating:  15%|█▌        | 3/20 [00:00<00:00, 26.03it/s]\u001b[A\n",
            "Evaluating:  30%|███       | 6/20 [00:00<00:00, 22.38it/s]\u001b[A\n",
            "Evaluating:  45%|████▌     | 9/20 [00:00<00:00, 23.08it/s]\u001b[A\n",
            "Evaluating:  60%|██████    | 12/20 [00:00<00:00, 23.14it/s]\u001b[A\n",
            "Evaluating:  75%|███████▌  | 15/20 [00:00<00:00, 23.42it/s]\u001b[A\n",
            "Evaluating: 100%|██████████| 20/20 [00:00<00:00, 23.75it/s]\n",
            "Epoch 15: 100%|██████████| 20/20 [00:01<00:00, 10.41it/s]\n"
          ]
        },
        {
          "name": "stdout",
          "output_type": "stream",
          "text": [
            "\n",
            "Metrics step 300:\n",
            "  mean_train_loss: 0.45689130504926045\n",
            "  learning_rate: 0.08505001494999989\n",
            "  eval_loss: 0.5283315181732178\n",
            "  eval_accuracy: 0.8379999995231628\n",
            "  train_loss: 0.1467272501438856\n",
            "  train_accuracy: 0.9458000063896179\n",
            "  mean_eval_loss: 0.5086364249388377\n"
          ]
        },
        {
          "name": "stderr",
          "output_type": "stream",
          "text": [
            "Epoch 16: 100%|██████████| 20/20 [00:00<00:00, 22.05it/s]\n",
            "Epoch 17: 100%|██████████| 20/20 [00:00<00:00, 23.58it/s]\n",
            "Epoch 18: 100%|██████████| 20/20 [00:00<00:00, 22.40it/s]\n",
            "Epoch 19: 100%|██████████| 20/20 [00:01<00:00, 18.35it/s]\n",
            "Epoch 20:  90%|█████████ | 18/20 [00:01<00:00, 15.83it/s]\n",
            "Evaluating:   0%|          | 0/4 [00:00<?, ?it/s]\u001b[A\n",
            "Evaluating:  50%|█████     | 2/4 [00:00<00:00, 16.14it/s]\u001b[A\n",
            "Evaluating: 100%|██████████| 4/4 [00:00<00:00, 14.77it/s]\n",
            "\n",
            "Evaluating:   0%|          | 0/20 [00:00<?, ?it/s]\u001b[A\n",
            "Evaluating:  10%|█         | 2/20 [00:00<00:01, 16.56it/s]\u001b[A\n",
            "Evaluating:  25%|██▌       | 5/20 [00:00<00:00, 20.66it/s]\u001b[A\n",
            "Evaluating:  40%|████      | 8/20 [00:00<00:00, 22.05it/s]\u001b[A\n",
            "Evaluating:  55%|█████▌    | 11/20 [00:00<00:00, 22.93it/s]\u001b[A\n",
            "Evaluating:  70%|███████   | 14/20 [00:00<00:00, 23.39it/s]\u001b[A\n",
            "Evaluating:  85%|████████▌ | 17/20 [00:00<00:00, 23.47it/s]\u001b[A\n",
            "Evaluating: 100%|██████████| 20/20 [00:00<00:00, 23.09it/s]\n",
            "Epoch 20: 100%|██████████| 20/20 [00:02<00:00,  8.25it/s]\n"
          ]
        },
        {
          "name": "stdout",
          "output_type": "stream",
          "text": [
            "\n",
            "Metrics step 400:\n",
            "  mean_train_loss: 0.36904584934003654\n",
            "  learning_rate: 0.08005001994999977\n",
            "  eval_loss: 0.674459382891655\n",
            "  eval_accuracy: 0.8420000076293945\n",
            "  train_loss: 0.10921698547899723\n",
            "  train_accuracy: 0.9595999717712402\n",
            "  mean_eval_loss: 0.550092164427042\n"
          ]
        },
        {
          "name": "stderr",
          "output_type": "stream",
          "text": [
            "Epoch 21: 100%|██████████| 20/20 [00:00<00:00, 22.48it/s]\n",
            "Epoch 22: 100%|██████████| 20/20 [00:00<00:00, 22.95it/s]\n",
            "Epoch 23: 100%|██████████| 20/20 [00:00<00:00, 23.69it/s]\n",
            "Epoch 24: 100%|██████████| 20/20 [00:00<00:00, 23.18it/s]\n",
            "Epoch 25:  90%|█████████ | 18/20 [00:00<00:00, 22.67it/s]\n",
            "Evaluating:   0%|          | 0/4 [00:00<?, ?it/s]\u001b[A\n",
            "Evaluating: 100%|██████████| 4/4 [00:00<00:00, 25.46it/s]\n",
            "\n",
            "Evaluating:   0%|          | 0/20 [00:00<?, ?it/s]\u001b[A\n",
            "Evaluating:  15%|█▌        | 3/20 [00:00<00:00, 26.12it/s]\u001b[A\n",
            "Evaluating:  30%|███       | 6/20 [00:00<00:00, 24.14it/s]\u001b[A\n",
            "Evaluating:  45%|████▌     | 9/20 [00:00<00:00, 24.41it/s]\u001b[A\n",
            "Evaluating:  60%|██████    | 12/20 [00:00<00:00, 24.41it/s]\u001b[A\n",
            "Evaluating:  75%|███████▌  | 15/20 [00:00<00:00, 24.55it/s]\u001b[A\n",
            "Evaluating: 100%|██████████| 20/20 [00:00<00:00, 25.02it/s]\n",
            "Epoch 25: 100%|██████████| 20/20 [00:01<00:00, 10.78it/s]\n"
          ]
        },
        {
          "name": "stdout",
          "output_type": "stream",
          "text": [
            "\n",
            "Metrics step 500:\n",
            "  mean_train_loss: 0.3101316544190049\n",
            "  learning_rate: 0.07505002494999956\n",
            "  eval_loss: 0.6734988391399384\n",
            "  eval_accuracy: 0.847000002861023\n",
            "  train_loss: 0.04820467345416546\n",
            "  train_accuracy: 0.9833999872207642\n",
            "  mean_eval_loss: 0.5747734993696213\n"
          ]
        },
        {
          "name": "stderr",
          "output_type": "stream",
          "text": [
            "Epoch 26: 100%|██████████| 20/20 [00:00<00:00, 22.57it/s]\n",
            "Epoch 27: 100%|██████████| 20/20 [00:00<00:00, 22.74it/s]\n",
            "Epoch 28: 100%|██████████| 20/20 [00:00<00:00, 21.50it/s]\n",
            "Epoch 29: 100%|██████████| 20/20 [00:00<00:00, 23.25it/s]\n",
            "Epoch 30:  95%|█████████▌| 19/20 [00:01<00:00, 17.36it/s]\n",
            "Evaluating:   0%|          | 0/4 [00:00<?, ?it/s]\u001b[A\n",
            "Evaluating:  50%|█████     | 2/4 [00:00<00:00, 17.16it/s]\u001b[A\n",
            "Evaluating: 100%|██████████| 4/4 [00:00<00:00, 16.85it/s]\n",
            "\n",
            "Evaluating:   0%|          | 0/20 [00:00<?, ?it/s]\u001b[A\n",
            "Evaluating:  10%|█         | 2/20 [00:00<00:00, 19.09it/s]\u001b[A\n",
            "Evaluating:  20%|██        | 4/20 [00:00<00:00, 18.71it/s]\u001b[A\n",
            "Evaluating:  30%|███       | 6/20 [00:00<00:00, 18.52it/s]\u001b[A\n",
            "Evaluating:  40%|████      | 8/20 [00:00<00:00, 18.42it/s]\u001b[A\n",
            "Evaluating:  50%|█████     | 10/20 [00:00<00:01,  9.50it/s]\u001b[A\n",
            "Evaluating:  60%|██████    | 12/20 [00:00<00:00, 10.89it/s]\u001b[A\n",
            "Evaluating:  70%|███████   | 14/20 [00:01<00:00, 12.01it/s]\u001b[A\n",
            "Evaluating:  80%|████████  | 16/20 [00:01<00:00, 12.51it/s]\u001b[A\n",
            "Evaluating: 100%|██████████| 20/20 [00:01<00:00, 13.88it/s]\n",
            "Epoch 30: 100%|██████████| 20/20 [00:02<00:00,  7.09it/s]\n"
          ]
        },
        {
          "name": "stdout",
          "output_type": "stream",
          "text": [
            "\n",
            "Metrics step 600:\n",
            "  mean_train_loss: 0.2644468198204413\n",
            "  learning_rate: 0.07005002994999944\n",
            "  eval_loss: 0.7608092874288559\n",
            "  eval_accuracy: 0.8610000014305115\n",
            "  train_loss: 0.04242857564240694\n",
            "  train_accuracy: 0.98580002784729\n",
            "  mean_eval_loss: 0.6057794640461603\n"
          ]
        },
        {
          "name": "stderr",
          "output_type": "stream",
          "text": [
            "Epoch 31: 100%|██████████| 20/20 [00:00<00:00, 22.03it/s]\n",
            "Epoch 32: 100%|██████████| 20/20 [00:01<00:00, 19.33it/s]\n",
            "Epoch 33: 100%|██████████| 20/20 [00:00<00:00, 23.07it/s]\n",
            "Epoch 34: 100%|██████████| 20/20 [00:00<00:00, 22.81it/s]\n",
            "Epoch 35:  90%|█████████ | 18/20 [00:00<00:00, 22.10it/s]\n",
            "Evaluating:   0%|          | 0/4 [00:00<?, ?it/s]\u001b[A\n",
            "Evaluating: 100%|██████████| 4/4 [00:00<00:00, 23.55it/s]\n",
            "\n",
            "Evaluating:   0%|          | 0/20 [00:00<?, ?it/s]\u001b[A\n",
            "Evaluating:  15%|█▌        | 3/20 [00:00<00:00, 26.19it/s]\u001b[A\n",
            "Evaluating:  30%|███       | 6/20 [00:00<00:00, 25.16it/s]\u001b[A\n",
            "Evaluating:  45%|████▌     | 9/20 [00:00<00:00, 25.22it/s]\u001b[A\n",
            "Evaluating:  60%|██████    | 12/20 [00:00<00:00, 24.42it/s]\u001b[A\n",
            "Evaluating:  75%|███████▌  | 15/20 [00:00<00:00, 24.47it/s]\u001b[A\n",
            "Evaluating: 100%|██████████| 20/20 [00:00<00:00, 24.75it/s]\n",
            "Epoch 35: 100%|██████████| 20/20 [00:01<00:00, 10.58it/s]\n"
          ]
        },
        {
          "name": "stdout",
          "output_type": "stream",
          "text": [
            "\n",
            "Metrics step 700:\n",
            "  mean_train_loss: 0.2283290598766845\n",
            "  learning_rate: 0.06505003494999935\n",
            "  eval_loss: 0.9136343747377396\n",
            "  eval_accuracy: 0.8550000190734863\n",
            "  train_loss: 0.006661350361537188\n",
            "  train_accuracy: 0.9973999857902527\n",
            "  mean_eval_loss: 0.6497587370021003\n"
          ]
        },
        {
          "name": "stderr",
          "output_type": "stream",
          "text": [
            "Epoch 36: 100%|██████████| 20/20 [00:00<00:00, 21.85it/s]\n",
            "Epoch 37: 100%|██████████| 20/20 [00:00<00:00, 22.80it/s]\n",
            "Epoch 38: 100%|██████████| 20/20 [00:01<00:00, 19.36it/s]\n",
            "Epoch 39: 100%|██████████| 20/20 [00:01<00:00, 19.43it/s]\n",
            "Epoch 40:  95%|█████████▌| 19/20 [00:01<00:00, 17.29it/s]\n",
            "Evaluating:   0%|          | 0/4 [00:00<?, ?it/s]\u001b[A\n",
            "Evaluating:  50%|█████     | 2/4 [00:00<00:00, 18.60it/s]\u001b[A\n",
            "Evaluating: 100%|██████████| 4/4 [00:00<00:00, 17.93it/s]\n",
            "\n",
            "Evaluating:   0%|          | 0/20 [00:00<?, ?it/s]\u001b[A\n",
            "Evaluating:  10%|█         | 2/20 [00:00<00:01, 16.32it/s]\u001b[A\n",
            "Evaluating:  20%|██        | 4/20 [00:00<00:00, 17.04it/s]\u001b[A\n",
            "Evaluating:  30%|███       | 6/20 [00:00<00:00, 17.67it/s]\u001b[A\n",
            "Evaluating:  40%|████      | 8/20 [00:00<00:00, 18.05it/s]\u001b[A\n",
            "Evaluating:  50%|█████     | 10/20 [00:00<00:00, 18.26it/s]\u001b[A\n",
            "Evaluating:  60%|██████    | 12/20 [00:00<00:00, 18.38it/s]\u001b[A\n",
            "Evaluating:  70%|███████   | 14/20 [00:00<00:00, 17.02it/s]\u001b[A\n",
            "Evaluating:  80%|████████  | 16/20 [00:00<00:00, 16.95it/s]\u001b[A\n",
            "Evaluating: 100%|██████████| 20/20 [00:01<00:00, 17.61it/s]\n",
            "Epoch 40: 100%|██████████| 20/20 [00:02<00:00,  8.06it/s]\n"
          ]
        },
        {
          "name": "stdout",
          "output_type": "stream",
          "text": [
            "\n",
            "Metrics step 800:\n",
            "  mean_train_loss: 0.20007203182138256\n",
            "  learning_rate: 0.06005003994999934\n",
            "  eval_loss: 0.9600431472063065\n",
            "  eval_accuracy: 0.8629999756813049\n",
            "  train_loss: 0.0002095081810693955\n",
            "  train_accuracy: 1.0\n",
            "  mean_eval_loss: 0.688544288277626\n"
          ]
        },
        {
          "name": "stderr",
          "output_type": "stream",
          "text": [
            "Epoch 41: 100%|██████████| 20/20 [00:00<00:00, 20.43it/s]\n",
            "Epoch 42: 100%|██████████| 20/20 [00:00<00:00, 23.09it/s]\n",
            "Epoch 43: 100%|██████████| 20/20 [00:00<00:00, 22.48it/s]\n",
            "Epoch 44: 100%|██████████| 20/20 [00:00<00:00, 23.37it/s]\n",
            "Epoch 45:  90%|█████████ | 18/20 [00:00<00:00, 22.54it/s]\n",
            "Evaluating:   0%|          | 0/4 [00:00<?, ?it/s]\u001b[A\n",
            "Evaluating: 100%|██████████| 4/4 [00:00<00:00, 25.21it/s]\n",
            "\n",
            "Evaluating:   0%|          | 0/20 [00:00<?, ?it/s]\u001b[A\n",
            "Evaluating:  15%|█▌        | 3/20 [00:00<00:00, 24.80it/s]\u001b[A\n",
            "Evaluating:  30%|███       | 6/20 [00:00<00:00, 24.09it/s]\u001b[A\n",
            "Evaluating:  45%|████▌     | 9/20 [00:00<00:00, 23.65it/s]\u001b[A\n",
            "Evaluating:  60%|██████    | 12/20 [00:00<00:00, 23.70it/s]\u001b[A\n",
            "Evaluating:  75%|███████▌  | 15/20 [00:00<00:00, 23.84it/s]\u001b[A\n",
            "Evaluating: 100%|██████████| 20/20 [00:00<00:00, 24.23it/s]\n",
            "Epoch 45: 100%|██████████| 20/20 [00:01<00:00, 10.61it/s]\n"
          ]
        },
        {
          "name": "stdout",
          "output_type": "stream",
          "text": [
            "\n",
            "Metrics step 900:\n",
            "  mean_train_loss: 0.17788198698822977\n",
            "  learning_rate: 0.055050044949999356\n",
            "  eval_loss: 0.9818057864904404\n",
            "  eval_accuracy: 0.8600000143051147\n",
            "  train_loss: 0.0001009304307444836\n",
            "  train_accuracy: 1.0\n",
            "  mean_eval_loss: 0.721128899190161\n"
          ]
        },
        {
          "name": "stderr",
          "output_type": "stream",
          "text": [
            "Epoch 46: 100%|██████████| 20/20 [00:00<00:00, 22.06it/s]\n",
            "Epoch 47: 100%|██████████| 20/20 [00:00<00:00, 22.71it/s]\n",
            "Epoch 48: 100%|██████████| 20/20 [00:00<00:00, 22.82it/s]\n",
            "Epoch 49: 100%|██████████| 20/20 [00:00<00:00, 22.47it/s]\n",
            "Epoch 50:  90%|█████████ | 18/20 [00:00<00:00, 22.33it/s]\n",
            "Evaluating:   0%|          | 0/4 [00:00<?, ?it/s]\u001b[A\n",
            "Evaluating: 100%|██████████| 4/4 [00:00<00:00, 25.75it/s]\n",
            "\n",
            "Evaluating:   0%|          | 0/20 [00:00<?, ?it/s]\u001b[A\n",
            "Evaluating:  15%|█▌        | 3/20 [00:00<00:00, 20.07it/s]\u001b[A\n",
            "Evaluating:  30%|███       | 6/20 [00:00<00:00, 17.99it/s]\u001b[A\n",
            "Evaluating:  40%|████      | 8/20 [00:00<00:00, 17.60it/s]\u001b[A\n",
            "Evaluating:  50%|█████     | 10/20 [00:00<00:00, 17.93it/s]\u001b[A\n",
            "Evaluating:  60%|██████    | 12/20 [00:00<00:00, 17.85it/s]\u001b[A\n",
            "Evaluating:  70%|███████   | 14/20 [00:00<00:00, 17.56it/s]\u001b[A\n",
            "Evaluating:  80%|████████  | 16/20 [00:00<00:00, 17.96it/s]\u001b[A\n",
            "Evaluating: 100%|██████████| 20/20 [00:01<00:00, 18.45it/s]\n",
            "Epoch 50: 100%|██████████| 20/20 [00:02<00:00,  9.36it/s]\n"
          ]
        },
        {
          "name": "stdout",
          "output_type": "stream",
          "text": [
            "\n",
            "Metrics step 1000:\n",
            "  mean_train_loss: 0.16011077778684193\n",
            "  learning_rate: 0.050050049949999446\n",
            "  eval_loss: 1.0026489794254303\n",
            "  eval_accuracy: 0.8600000143051147\n",
            "  train_loss: 6.886938681418541e-05\n",
            "  train_accuracy: 1.0\n",
            "  mean_eval_loss: 0.7492809072136879\n"
          ]
        },
        {
          "name": "stderr",
          "output_type": "stream",
          "text": [
            "Epoch 51: 100%|██████████| 20/20 [00:01<00:00, 15.64it/s]\n",
            "Epoch 52: 100%|██████████| 20/20 [00:00<00:00, 22.29it/s]\n",
            "Epoch 53: 100%|██████████| 20/20 [00:00<00:00, 22.80it/s]\n",
            "Epoch 54: 100%|██████████| 20/20 [00:00<00:00, 23.06it/s]\n",
            "Epoch 55:  90%|█████████ | 18/20 [00:00<00:00, 22.48it/s]\n",
            "Evaluating:   0%|          | 0/4 [00:00<?, ?it/s]\u001b[A\n",
            "Evaluating: 100%|██████████| 4/4 [00:00<00:00, 24.43it/s]\n",
            "\n",
            "Evaluating:   0%|          | 0/20 [00:00<?, ?it/s]\u001b[A\n",
            "Evaluating:  15%|█▌        | 3/20 [00:00<00:00, 26.00it/s]\u001b[A\n",
            "Evaluating:  30%|███       | 6/20 [00:00<00:00, 24.57it/s]\u001b[A\n",
            "Evaluating:  45%|████▌     | 9/20 [00:00<00:00, 24.71it/s]\u001b[A\n",
            "Evaluating:  60%|██████    | 12/20 [00:00<00:00, 24.62it/s]\u001b[A\n",
            "Evaluating:  75%|███████▌  | 15/20 [00:00<00:00, 24.24it/s]\u001b[A\n",
            "Evaluating: 100%|██████████| 20/20 [00:00<00:00, 24.20it/s]\n",
            "Epoch 55: 100%|██████████| 20/20 [00:01<00:00, 10.62it/s]\n"
          ]
        },
        {
          "name": "stdout",
          "output_type": "stream",
          "text": [
            "\n",
            "Metrics step 1100:\n",
            "  mean_train_loss: 0.14556636214137886\n",
            "  learning_rate: 0.045050054949999536\n",
            "  eval_loss: 1.016273409128189\n",
            "  eval_accuracy: 0.8579999804496765\n",
            "  train_loss: 5.447855592137785e-05\n",
            "  train_accuracy: 1.0\n",
            "  mean_eval_loss: 0.7735529528422789\n"
          ]
        },
        {
          "name": "stderr",
          "output_type": "stream",
          "text": [
            "Epoch 56: 100%|██████████| 20/20 [00:00<00:00, 22.89it/s]\n",
            "Epoch 57: 100%|██████████| 20/20 [00:00<00:00, 22.02it/s]\n",
            "Epoch 58: 100%|██████████| 20/20 [00:00<00:00, 22.64it/s]\n",
            "Epoch 59: 100%|██████████| 20/20 [00:00<00:00, 22.53it/s]\n",
            "Epoch 60:  90%|█████████ | 18/20 [00:00<00:00, 22.24it/s]\n",
            "Evaluating:   0%|          | 0/4 [00:00<?, ?it/s]\u001b[A\n",
            "Evaluating: 100%|██████████| 4/4 [00:00<00:00, 24.07it/s]\n",
            "\n",
            "Evaluating:   0%|          | 0/20 [00:00<?, ?it/s]\u001b[A\n",
            "Evaluating:  15%|█▌        | 3/20 [00:00<00:00, 24.48it/s]\u001b[A\n",
            "Evaluating:  30%|███       | 6/20 [00:00<00:00, 24.45it/s]\u001b[A\n",
            "Evaluating:  45%|████▌     | 9/20 [00:00<00:00, 23.35it/s]\u001b[A\n",
            "Evaluating:  60%|██████    | 12/20 [00:00<00:00, 23.10it/s]\u001b[A\n",
            "Evaluating:  75%|███████▌  | 15/20 [00:00<00:00, 23.33it/s]\u001b[A\n",
            "Evaluating: 100%|██████████| 20/20 [00:00<00:00, 23.78it/s]\n",
            "Epoch 60: 100%|██████████| 20/20 [00:01<00:00, 10.44it/s]\n"
          ]
        },
        {
          "name": "stdout",
          "output_type": "stream",
          "text": [
            "\n",
            "Metrics step 1200:\n",
            "  mean_train_loss: 0.13345520170851766\n",
            "  learning_rate: 0.04005005994999966\n",
            "  eval_loss: 0.953270211815834\n",
            "  eval_accuracy: 0.8579999804496765\n",
            "  train_loss: 0.00016224689279624726\n",
            "  train_accuracy: 1.0\n",
            "  mean_eval_loss: 0.7885293910900751\n"
          ]
        },
        {
          "name": "stderr",
          "output_type": "stream",
          "text": [
            "Epoch 61: 100%|██████████| 20/20 [00:01<00:00, 16.77it/s]\n",
            "Epoch 62: 100%|██████████| 20/20 [00:01<00:00, 16.60it/s]\n",
            "Epoch 63: 100%|██████████| 20/20 [00:00<00:00, 23.18it/s]\n",
            "Epoch 64: 100%|██████████| 20/20 [00:00<00:00, 23.15it/s]\n",
            "Epoch 65:  90%|█████████ | 18/20 [00:00<00:00, 20.69it/s]\n",
            "Evaluating:   0%|          | 0/4 [00:00<?, ?it/s]\u001b[A\n",
            "Evaluating: 100%|██████████| 4/4 [00:00<00:00, 24.81it/s]\n",
            "\n",
            "Evaluating:   0%|          | 0/20 [00:00<?, ?it/s]\u001b[A\n",
            "Evaluating:  15%|█▌        | 3/20 [00:00<00:00, 25.99it/s]\u001b[A\n",
            "Evaluating:  30%|███       | 6/20 [00:00<00:00, 24.64it/s]\u001b[A\n",
            "Evaluating:  45%|████▌     | 9/20 [00:00<00:00, 24.34it/s]\u001b[A\n",
            "Evaluating:  60%|██████    | 12/20 [00:00<00:00, 23.78it/s]\u001b[A\n",
            "Evaluating:  75%|███████▌  | 15/20 [00:00<00:00, 24.16it/s]\u001b[A\n",
            "Evaluating: 100%|██████████| 20/20 [00:00<00:00, 24.78it/s]\n",
            "Epoch 65: 100%|██████████| 20/20 [00:01<00:00, 10.36it/s]\n"
          ]
        },
        {
          "name": "stdout",
          "output_type": "stream",
          "text": [
            "\n",
            "Metrics step 1300:\n",
            "  mean_train_loss: 0.12320635371521908\n",
            "  learning_rate: 0.03505006494999977\n",
            "  eval_loss: 0.9389262646436691\n",
            "  eval_accuracy: 0.8650000095367432\n",
            "  train_loss: 7.747484050923958e-05\n",
            "  train_accuracy: 1.0\n",
            "  mean_eval_loss: 0.8000983813634286\n"
          ]
        },
        {
          "name": "stderr",
          "output_type": "stream",
          "text": [
            "Epoch 66: 100%|██████████| 20/20 [00:00<00:00, 22.85it/s]\n",
            "Epoch 67: 100%|██████████| 20/20 [00:00<00:00, 22.11it/s]\n",
            "Epoch 68: 100%|██████████| 20/20 [00:00<00:00, 22.44it/s]\n",
            "Epoch 69: 100%|██████████| 20/20 [00:00<00:00, 23.10it/s]\n",
            "Epoch 70:  90%|█████████ | 18/20 [00:00<00:00, 17.34it/s]\n",
            "Evaluating:   0%|          | 0/4 [00:00<?, ?it/s]\u001b[A\n",
            "Evaluating: 100%|██████████| 4/4 [00:00<00:00, 23.40it/s]\n",
            "\n",
            "Evaluating:   0%|          | 0/20 [00:00<?, ?it/s]\u001b[A\n",
            "Evaluating:  15%|█▌        | 3/20 [00:00<00:00, 24.80it/s]\u001b[A\n",
            "Evaluating:  30%|███       | 6/20 [00:00<00:00, 24.50it/s]\u001b[A\n",
            "Evaluating:  45%|████▌     | 9/20 [00:00<00:00, 24.79it/s]\u001b[A\n",
            "Evaluating:  60%|██████    | 12/20 [00:00<00:00, 24.22it/s]\u001b[A\n",
            "Evaluating:  75%|███████▌  | 15/20 [00:00<00:00, 23.95it/s]\u001b[A\n",
            "Evaluating: 100%|██████████| 20/20 [00:00<00:00, 24.60it/s]\n",
            "Epoch 70: 100%|██████████| 20/20 [00:02<00:00,  9.88it/s]\n"
          ]
        },
        {
          "name": "stdout",
          "output_type": "stream",
          "text": [
            "\n",
            "Metrics step 1400:\n",
            "  mean_train_loss: 0.1144152718010004\n",
            "  learning_rate: 0.030050069949999845\n",
            "  eval_loss: 0.9572390913963318\n",
            "  eval_accuracy: 0.8610000014305115\n",
            "  train_loss: 5.858476142748259e-05\n",
            "  train_accuracy: 1.0\n",
            "  mean_eval_loss: 0.8113227177943502\n"
          ]
        },
        {
          "name": "stderr",
          "output_type": "stream",
          "text": [
            "Epoch 71: 100%|██████████| 20/20 [00:01<00:00, 18.96it/s]\n",
            "Epoch 72: 100%|██████████| 20/20 [00:01<00:00, 16.65it/s]\n",
            "Epoch 73: 100%|██████████| 20/20 [00:01<00:00, 17.89it/s]\n",
            "Epoch 74: 100%|██████████| 20/20 [00:00<00:00, 21.97it/s]\n",
            "Epoch 75:  90%|█████████ | 18/20 [00:00<00:00, 22.33it/s]\n",
            "Evaluating:   0%|          | 0/4 [00:00<?, ?it/s]\u001b[A\n",
            "Evaluating: 100%|██████████| 4/4 [00:00<00:00, 23.83it/s]\n",
            "\n",
            "Evaluating:   0%|          | 0/20 [00:00<?, ?it/s]\u001b[A\n",
            "Evaluating:  15%|█▌        | 3/20 [00:00<00:00, 23.00it/s]\u001b[A\n",
            "Evaluating:  30%|███       | 6/20 [00:00<00:00, 23.65it/s]\u001b[A\n",
            "Evaluating:  45%|████▌     | 9/20 [00:00<00:00, 24.11it/s]\u001b[A\n",
            "Evaluating:  60%|██████    | 12/20 [00:00<00:00, 24.00it/s]\u001b[A\n",
            "Evaluating:  75%|███████▌  | 15/20 [00:00<00:00, 24.20it/s]\u001b[A\n",
            "Evaluating: 100%|██████████| 20/20 [00:00<00:00, 24.39it/s]\n",
            "Epoch 75: 100%|██████████| 20/20 [00:01<00:00, 10.56it/s]\n"
          ]
        },
        {
          "name": "stdout",
          "output_type": "stream",
          "text": [
            "\n",
            "Metrics step 1500:\n",
            "  mean_train_loss: 0.10679564954925203\n",
            "  learning_rate: 0.025050074949999862\n",
            "  eval_loss: 0.9720157980918884\n",
            "  eval_accuracy: 0.8610000014305115\n",
            "  train_loss: 5.1435605928418224e-05\n",
            "  train_accuracy: 1.0\n",
            "  mean_eval_loss: 0.8220355898141861\n"
          ]
        },
        {
          "name": "stderr",
          "output_type": "stream",
          "text": [
            "Epoch 76: 100%|██████████| 20/20 [00:00<00:00, 22.55it/s]\n",
            "Epoch 77: 100%|██████████| 20/20 [00:00<00:00, 22.79it/s]\n",
            "Epoch 78: 100%|██████████| 20/20 [00:00<00:00, 23.17it/s]\n",
            "Epoch 79: 100%|██████████| 20/20 [00:00<00:00, 22.15it/s]\n",
            "Epoch 80:  90%|█████████ | 18/20 [00:00<00:00, 22.34it/s]\n",
            "Evaluating:   0%|          | 0/4 [00:00<?, ?it/s]\u001b[A\n",
            "Evaluating: 100%|██████████| 4/4 [00:00<00:00, 25.16it/s]\n",
            "\n",
            "Evaluating:   0%|          | 0/20 [00:00<?, ?it/s]\u001b[A\n",
            "Evaluating:  15%|█▌        | 3/20 [00:00<00:00, 25.21it/s]\u001b[A\n",
            "Evaluating:  30%|███       | 6/20 [00:00<00:00, 24.35it/s]\u001b[A\n",
            "Evaluating:  45%|████▌     | 9/20 [00:00<00:00, 24.32it/s]\u001b[A\n",
            "Evaluating:  60%|██████    | 12/20 [00:00<00:00, 23.90it/s]\u001b[A\n",
            "Evaluating:  75%|███████▌  | 15/20 [00:00<00:00, 23.10it/s]\u001b[A\n",
            "Evaluating: 100%|██████████| 20/20 [00:00<00:00, 24.09it/s]\n",
            "Epoch 80: 100%|██████████| 20/20 [00:01<00:00, 10.54it/s]\n"
          ]
        },
        {
          "name": "stdout",
          "output_type": "stream",
          "text": [
            "\n",
            "Metrics step 1600:\n",
            "  mean_train_loss: 0.10012681377114858\n",
            "  learning_rate: 0.02005007994999987\n",
            "  eval_loss: 0.9829556345939636\n",
            "  eval_accuracy: 0.8610000014305115\n",
            "  train_loss: 4.720006627394469e-05\n",
            "  train_accuracy: 1.0\n",
            "  mean_eval_loss: 0.8320930926129222\n"
          ]
        },
        {
          "name": "stderr",
          "output_type": "stream",
          "text": [
            "Epoch 81: 100%|██████████| 20/20 [00:00<00:00, 22.25it/s]\n",
            "Epoch 82: 100%|██████████| 20/20 [00:01<00:00, 17.70it/s]\n",
            "Epoch 83: 100%|██████████| 20/20 [00:01<00:00, 15.41it/s]\n",
            "Epoch 84: 100%|██████████| 20/20 [00:01<00:00, 19.38it/s]\n",
            "Epoch 85:  90%|█████████ | 18/20 [00:00<00:00, 22.36it/s]\n",
            "Evaluating:   0%|          | 0/4 [00:00<?, ?it/s]\u001b[A\n",
            "Evaluating: 100%|██████████| 4/4 [00:00<00:00, 24.26it/s]\n",
            "\n",
            "Evaluating:   0%|          | 0/20 [00:00<?, ?it/s]\u001b[A\n",
            "Evaluating:  15%|█▌        | 3/20 [00:00<00:00, 25.00it/s]\u001b[A\n",
            "Evaluating:  30%|███       | 6/20 [00:00<00:00, 23.69it/s]\u001b[A\n",
            "Evaluating:  45%|████▌     | 9/20 [00:00<00:00, 22.96it/s]\u001b[A\n",
            "Evaluating:  60%|██████    | 12/20 [00:00<00:00, 23.41it/s]\u001b[A\n",
            "Evaluating:  75%|███████▌  | 15/20 [00:00<00:00, 23.82it/s]\u001b[A\n",
            "Evaluating: 100%|██████████| 20/20 [00:00<00:00, 24.14it/s]\n",
            "Epoch 85: 100%|██████████| 20/20 [00:01<00:00, 10.48it/s]\n"
          ]
        },
        {
          "name": "stdout",
          "output_type": "stream",
          "text": [
            "\n",
            "Metrics step 1700:\n",
            "  mean_train_loss: 0.09424255304171525\n",
            "  learning_rate: 0.015050084949999864\n",
            "  eval_loss: 0.9868001788854599\n",
            "  eval_accuracy: 0.8610000014305115\n",
            "  train_loss: 4.2357021538919073e-05\n",
            "  train_accuracy: 1.0\n",
            "  mean_eval_loss: 0.8411935094524833\n"
          ]
        },
        {
          "name": "stderr",
          "output_type": "stream",
          "text": [
            "Epoch 86: 100%|██████████| 20/20 [00:00<00:00, 22.65it/s]\n",
            "Epoch 87: 100%|██████████| 20/20 [00:00<00:00, 22.60it/s]\n",
            "Epoch 88: 100%|██████████| 20/20 [00:00<00:00, 22.42it/s]\n",
            "Epoch 89: 100%|██████████| 20/20 [00:00<00:00, 22.20it/s]\n",
            "Epoch 90:  90%|█████████ | 18/20 [00:00<00:00, 22.38it/s]\n",
            "Evaluating:   0%|          | 0/4 [00:00<?, ?it/s]\u001b[A\n",
            "Evaluating: 100%|██████████| 4/4 [00:00<00:00, 23.40it/s]\n",
            "\n",
            "Evaluating:   0%|          | 0/20 [00:00<?, ?it/s]\u001b[A\n",
            "Evaluating:  15%|█▌        | 3/20 [00:00<00:00, 25.79it/s]\u001b[A\n",
            "Evaluating:  30%|███       | 6/20 [00:00<00:00, 24.95it/s]\u001b[A\n",
            "Evaluating:  45%|████▌     | 9/20 [00:00<00:00, 24.03it/s]\u001b[A\n",
            "Evaluating:  60%|██████    | 12/20 [00:00<00:00, 24.11it/s]\u001b[A\n",
            "Evaluating:  75%|███████▌  | 15/20 [00:00<00:00, 24.25it/s]\u001b[A\n",
            "Evaluating: 100%|██████████| 20/20 [00:00<00:00, 24.69it/s]\n",
            "Epoch 90: 100%|██████████| 20/20 [00:01<00:00, 10.55it/s]\n"
          ]
        },
        {
          "name": "stdout",
          "output_type": "stream",
          "text": [
            "\n",
            "Metrics step 1800:\n",
            "  mean_train_loss: 0.08901211962980293\n",
            "  learning_rate: 0.010050089949999917\n",
            "  eval_loss: 0.9942409247159958\n",
            "  eval_accuracy: 0.8600000143051147\n",
            "  train_loss: 3.964278512285091e-05\n",
            "  train_accuracy: 1.0\n",
            "  mean_eval_loss: 0.8496961436337895\n"
          ]
        },
        {
          "name": "stderr",
          "output_type": "stream",
          "text": [
            "Epoch 91: 100%|██████████| 20/20 [00:00<00:00, 22.34it/s]\n",
            "Epoch 92: 100%|██████████| 20/20 [00:00<00:00, 20.66it/s]\n",
            "Epoch 93: 100%|██████████| 20/20 [00:01<00:00, 16.81it/s]\n",
            "Epoch 94: 100%|██████████| 20/20 [00:01<00:00, 16.26it/s]\n",
            "Epoch 95:  90%|█████████ | 18/20 [00:00<00:00, 22.71it/s]\n",
            "Evaluating:   0%|          | 0/4 [00:00<?, ?it/s]\u001b[A\n",
            "Evaluating: 100%|██████████| 4/4 [00:00<00:00, 24.37it/s]\n",
            "\n",
            "Evaluating:   0%|          | 0/20 [00:00<?, ?it/s]\u001b[A\n",
            "Evaluating:  15%|█▌        | 3/20 [00:00<00:00, 25.73it/s]\u001b[A\n",
            "Evaluating:  30%|███       | 6/20 [00:00<00:00, 23.82it/s]\u001b[A\n",
            "Evaluating:  45%|████▌     | 9/20 [00:00<00:00, 24.02it/s]\u001b[A\n",
            "Evaluating:  60%|██████    | 12/20 [00:00<00:00, 24.33it/s]\u001b[A\n",
            "Evaluating:  75%|███████▌  | 15/20 [00:00<00:00, 24.22it/s]\u001b[A\n",
            "Evaluating: 100%|██████████| 20/20 [00:00<00:00, 24.27it/s]\n",
            "Epoch 95: 100%|██████████| 20/20 [00:01<00:00, 10.58it/s]\n"
          ]
        },
        {
          "name": "stdout",
          "output_type": "stream",
          "text": [
            "\n",
            "Metrics step 1900:\n",
            "  mean_train_loss: 0.08433267324343481\n",
            "  learning_rate: 0.005050094949999962\n",
            "  eval_loss: 0.9907541424036026\n",
            "  eval_accuracy: 0.8610000014305115\n",
            "  train_loss: 4.015472877654247e-05\n",
            "  train_accuracy: 1.0\n",
            "  mean_eval_loss: 0.8571202488322007\n"
          ]
        },
        {
          "name": "stderr",
          "output_type": "stream",
          "text": [
            "Epoch 96: 100%|██████████| 20/20 [00:00<00:00, 22.24it/s]\n",
            "Epoch 97: 100%|██████████| 20/20 [00:00<00:00, 22.45it/s]\n",
            "Epoch 98: 100%|██████████| 20/20 [00:00<00:00, 22.01it/s]\n",
            "Epoch 99: 100%|██████████| 20/20 [00:00<00:00, 22.53it/s]\n",
            "Epoch 100:  90%|█████████ | 18/20 [00:00<00:00, 21.83it/s]\n",
            "Evaluating:   0%|          | 0/4 [00:00<?, ?it/s]\u001b[A\n",
            "Evaluating: 100%|██████████| 4/4 [00:00<00:00, 25.22it/s]\n",
            "\n",
            "Evaluating:   0%|          | 0/20 [00:00<?, ?it/s]\u001b[A\n",
            "Evaluating:  15%|█▌        | 3/20 [00:00<00:00, 25.99it/s]\u001b[A\n",
            "Evaluating:  30%|███       | 6/20 [00:00<00:00, 24.92it/s]\u001b[A\n",
            "Evaluating:  45%|████▌     | 9/20 [00:00<00:00, 24.55it/s]\u001b[A\n",
            "Evaluating:  60%|██████    | 12/20 [00:00<00:00, 24.32it/s]\u001b[A\n",
            "Evaluating:  75%|███████▌  | 15/20 [00:00<00:00, 23.64it/s]\u001b[A\n",
            "Evaluating: 100%|██████████| 20/20 [00:00<00:00, 24.27it/s]\n",
            "Epoch 100: 100%|██████████| 20/20 [00:01<00:00, 10.50it/s]\n"
          ]
        },
        {
          "name": "stdout",
          "output_type": "stream",
          "text": [
            "\n",
            "Metrics step 2000:\n",
            "  mean_train_loss: 0.08012037969331323\n",
            "  learning_rate: 5.009994999999962e-05\n",
            "  eval_loss: 1.0057965368032455\n",
            "  eval_accuracy: 0.8600000143051147\n",
            "  train_loss: 3.7431747114169414e-05\n",
            "  train_accuracy: 1.0\n",
            "  mean_eval_loss: 0.8645540632307529\n",
            "Saved new best model to best_model.pt\n",
            "\n",
            "Starting model training\n"
          ]
        },
        {
          "name": "stderr",
          "output_type": "stream",
          "text": [
            "Epoch 1: 100%|██████████| 20/20 [00:01<00:00, 18.10it/s]\n",
            "Epoch 2: 100%|██████████| 20/20 [00:01<00:00, 18.50it/s]\n",
            "Epoch 3: 100%|██████████| 20/20 [00:01<00:00, 14.01it/s]\n",
            "Epoch 4: 100%|██████████| 20/20 [00:01<00:00, 14.36it/s]\n",
            "Epoch 5:  90%|█████████ | 18/20 [00:01<00:00, 17.64it/s]\n",
            "Evaluating:   0%|          | 0/4 [00:00<?, ?it/s]\u001b[A\n",
            "Evaluating:  50%|█████     | 2/4 [00:00<00:00, 19.25it/s]\u001b[A\n",
            "Evaluating: 100%|██████████| 4/4 [00:00<00:00, 18.51it/s]\n",
            "\n",
            "Evaluating:   0%|          | 0/20 [00:00<?, ?it/s]\u001b[A\n",
            "Evaluating:  10%|█         | 2/20 [00:00<00:00, 19.42it/s]\u001b[A\n",
            "Evaluating:  20%|██        | 4/20 [00:00<00:00, 18.39it/s]\u001b[A\n",
            "Evaluating:  30%|███       | 6/20 [00:00<00:00, 18.62it/s]\u001b[A\n",
            "Evaluating:  40%|████      | 8/20 [00:00<00:00, 17.99it/s]\u001b[A\n",
            "Evaluating:  50%|█████     | 10/20 [00:00<00:00, 18.17it/s]\u001b[A\n",
            "Evaluating:  60%|██████    | 12/20 [00:00<00:00, 17.86it/s]\u001b[A\n",
            "Evaluating:  70%|███████   | 14/20 [00:00<00:00, 18.22it/s]\u001b[A\n",
            "Evaluating:  80%|████████  | 16/20 [00:00<00:00, 18.43it/s]\u001b[A\n",
            "Evaluating: 100%|██████████| 20/20 [00:01<00:00, 18.80it/s]\n",
            "Epoch 5: 100%|██████████| 20/20 [00:02<00:00,  7.96it/s]\n"
          ]
        },
        {
          "name": "stdout",
          "output_type": "stream",
          "text": [
            "\n",
            "Metrics step 100:\n",
            "  mean_train_loss: 0.2741668676584959\n",
            "  learning_rate: 0.09505000494999999\n",
            "  eval_loss: 0.5372214019298553\n",
            "  eval_accuracy: 0.8450000286102295\n",
            "  train_loss: 0.1326628565788269\n",
            "  train_accuracy: 0.9502000212669373\n",
            "  mean_eval_loss: 0.5372214019298553\n",
            "Saved new best model to best_model.pt\n",
            "\n"
          ]
        },
        {
          "name": "stderr",
          "output_type": "stream",
          "text": [
            "Epoch 6: 100%|██████████| 20/20 [00:01<00:00, 16.58it/s]\n",
            "Epoch 7: 100%|██████████| 20/20 [00:01<00:00, 17.82it/s]\n",
            "Epoch 8: 100%|██████████| 20/20 [00:01<00:00, 17.60it/s]\n",
            "Epoch 9: 100%|██████████| 20/20 [00:01<00:00, 18.21it/s]\n",
            "Epoch 10:  90%|█████████ | 18/20 [00:00<00:00, 18.01it/s]\n",
            "Evaluating:   0%|          | 0/4 [00:00<?, ?it/s]\u001b[A\n",
            "Evaluating: 100%|██████████| 4/4 [00:00<00:00, 20.13it/s]\n",
            "\n",
            "Evaluating:   0%|          | 0/20 [00:00<?, ?it/s]\u001b[A\n",
            "Evaluating:  10%|█         | 2/20 [00:00<00:00, 19.64it/s]\u001b[A\n",
            "Evaluating:  20%|██        | 4/20 [00:00<00:00, 18.38it/s]\u001b[A\n",
            "Evaluating:  30%|███       | 6/20 [00:00<00:00, 18.71it/s]\u001b[A\n",
            "Evaluating:  40%|████      | 8/20 [00:00<00:00, 18.50it/s]\u001b[A\n",
            "Evaluating:  50%|█████     | 10/20 [00:00<00:00, 18.75it/s]\u001b[A\n",
            "Evaluating:  60%|██████    | 12/20 [00:00<00:00, 18.53it/s]\u001b[A\n",
            "Evaluating:  70%|███████   | 14/20 [00:00<00:00, 18.87it/s]\u001b[A\n",
            "Evaluating:  80%|████████  | 16/20 [00:00<00:00, 19.12it/s]\u001b[A\n",
            "Evaluating: 100%|██████████| 20/20 [00:01<00:00, 19.25it/s]\n",
            "Epoch 10: 100%|██████████| 20/20 [00:02<00:00,  8.48it/s]\n"
          ]
        },
        {
          "name": "stdout",
          "output_type": "stream",
          "text": [
            "\n",
            "Metrics step 200:\n",
            "  mean_train_loss: 0.19412985663861038\n",
            "  learning_rate: 0.09005000994999993\n",
            "  eval_loss: 0.5404084026813507\n",
            "  eval_accuracy: 0.8700000047683716\n",
            "  train_loss: 0.0737916965968907\n",
            "  train_accuracy: 0.9751999974250793\n",
            "  mean_eval_loss: 0.538814902305603\n"
          ]
        },
        {
          "name": "stderr",
          "output_type": "stream",
          "text": [
            "Epoch 11: 100%|██████████| 20/20 [00:01<00:00, 13.36it/s]\n",
            "Epoch 12: 100%|██████████| 20/20 [00:01<00:00, 14.29it/s]\n",
            "Epoch 13: 100%|██████████| 20/20 [00:01<00:00, 18.56it/s]\n",
            "Epoch 14: 100%|██████████| 20/20 [00:01<00:00, 18.26it/s]\n",
            "Epoch 15:  90%|█████████ | 18/20 [00:01<00:00, 17.11it/s]\n",
            "Evaluating:   0%|          | 0/4 [00:00<?, ?it/s]\u001b[A\n",
            "Evaluating:  50%|█████     | 2/4 [00:00<00:00, 19.02it/s]\u001b[A\n",
            "Evaluating: 100%|██████████| 4/4 [00:00<00:00, 17.72it/s]\n",
            "\n",
            "Evaluating:   0%|          | 0/20 [00:00<?, ?it/s]\u001b[A\n",
            "Evaluating:  10%|█         | 2/20 [00:00<00:01, 17.30it/s]\u001b[A\n",
            "Evaluating:  20%|██        | 4/20 [00:00<00:00, 18.11it/s]\u001b[A\n",
            "Evaluating:  30%|███       | 6/20 [00:00<00:00, 18.48it/s]\u001b[A\n",
            "Evaluating:  40%|████      | 8/20 [00:00<00:00, 17.35it/s]\u001b[A\n",
            "Evaluating:  50%|█████     | 10/20 [00:00<00:00, 17.77it/s]\u001b[A\n",
            "Evaluating:  60%|██████    | 12/20 [00:00<00:00, 18.05it/s]\u001b[A\n",
            "Evaluating:  70%|███████   | 14/20 [00:00<00:00, 17.93it/s]\u001b[A\n",
            "Evaluating:  80%|████████  | 16/20 [00:00<00:00, 18.18it/s]\u001b[A\n",
            "Evaluating: 100%|██████████| 20/20 [00:01<00:00, 18.39it/s]\n",
            "Epoch 15: 100%|██████████| 20/20 [00:02<00:00,  8.06it/s]\n"
          ]
        },
        {
          "name": "stdout",
          "output_type": "stream",
          "text": [
            "\n",
            "Metrics step 300:\n",
            "  mean_train_loss: 0.15237067974482973\n",
            "  learning_rate: 0.08505001494999989\n",
            "  eval_loss: 0.7272641956806183\n",
            "  eval_accuracy: 0.8489999771118164\n",
            "  train_loss: 0.0432148851454258\n",
            "  train_accuracy: 0.9846000075340271\n",
            "  mean_eval_loss: 0.6016313334306082\n"
          ]
        },
        {
          "name": "stderr",
          "output_type": "stream",
          "text": [
            "Epoch 16: 100%|██████████| 20/20 [00:01<00:00, 17.72it/s]\n",
            "Epoch 17: 100%|██████████| 20/20 [00:01<00:00, 18.23it/s]\n",
            "Epoch 18: 100%|██████████| 20/20 [00:01<00:00, 18.36it/s]\n",
            "Epoch 19: 100%|██████████| 20/20 [00:01<00:00, 17.69it/s]\n",
            "Epoch 20:  90%|█████████ | 18/20 [00:01<00:00, 12.97it/s]\n",
            "Evaluating:   0%|          | 0/4 [00:00<?, ?it/s]\u001b[A\n",
            "Evaluating:  50%|█████     | 2/4 [00:00<00:00, 14.13it/s]\u001b[A\n",
            "Evaluating: 100%|██████████| 4/4 [00:00<00:00, 13.82it/s]\n",
            "\n",
            "Evaluating:   0%|          | 0/20 [00:00<?, ?it/s]\u001b[A\n",
            "Evaluating:  10%|█         | 2/20 [00:00<00:01, 14.47it/s]\u001b[A\n",
            "Evaluating:  20%|██        | 4/20 [00:00<00:01, 13.53it/s]\u001b[A\n",
            "Evaluating:  30%|███       | 6/20 [00:00<00:01, 13.22it/s]\u001b[A\n",
            "Evaluating:  40%|████      | 8/20 [00:00<00:00, 13.50it/s]\u001b[A\n",
            "Evaluating:  50%|█████     | 10/20 [00:00<00:00, 12.98it/s]\u001b[A\n",
            "Evaluating:  60%|██████    | 12/20 [00:00<00:00, 12.07it/s]\u001b[A\n",
            "Evaluating:  70%|███████   | 14/20 [00:01<00:00, 13.58it/s]\u001b[A\n",
            "Evaluating:  80%|████████  | 16/20 [00:01<00:00, 14.70it/s]\u001b[A\n",
            "Evaluating: 100%|██████████| 20/20 [00:01<00:00, 14.70it/s]\n",
            "Epoch 20: 100%|██████████| 20/20 [00:03<00:00,  6.39it/s]\n"
          ]
        },
        {
          "name": "stdout",
          "output_type": "stream",
          "text": [
            "\n",
            "Metrics step 400:\n",
            "  mean_train_loss: 0.12628005869570189\n",
            "  learning_rate: 0.08005001994999977\n",
            "  eval_loss: 0.8207844346761703\n",
            "  eval_accuracy: 0.8489999771118164\n",
            "  train_loss: 0.05853699035942554\n",
            "  train_accuracy: 0.979200005531311\n",
            "  mean_eval_loss: 0.6564196087419987\n"
          ]
        },
        {
          "name": "stderr",
          "output_type": "stream",
          "text": [
            "Epoch 21: 100%|██████████| 20/20 [00:01<00:00, 17.60it/s]\n",
            "Epoch 22: 100%|██████████| 20/20 [00:01<00:00, 17.31it/s]\n",
            "Epoch 23: 100%|██████████| 20/20 [00:01<00:00, 16.26it/s]\n",
            "Epoch 24: 100%|██████████| 20/20 [00:01<00:00, 12.26it/s]\n",
            "Epoch 25:  90%|█████████ | 18/20 [00:01<00:00, 16.87it/s]\n",
            "Evaluating:   0%|          | 0/4 [00:00<?, ?it/s]\u001b[A\n",
            "Evaluating:  50%|█████     | 2/4 [00:00<00:00, 19.37it/s]\u001b[A\n",
            "Evaluating: 100%|██████████| 4/4 [00:00<00:00, 18.68it/s]\n",
            "\n",
            "Evaluating:   0%|          | 0/20 [00:00<?, ?it/s]\u001b[A\n",
            "Evaluating:  10%|█         | 2/20 [00:00<00:01, 15.62it/s]\u001b[A\n",
            "Evaluating:  20%|██        | 4/20 [00:00<00:00, 17.27it/s]\u001b[A\n",
            "Evaluating:  30%|███       | 6/20 [00:00<00:00, 17.70it/s]\u001b[A\n",
            "Evaluating:  40%|████      | 8/20 [00:00<00:00, 17.88it/s]\u001b[A\n",
            "Evaluating:  50%|█████     | 10/20 [00:00<00:00, 17.68it/s]\u001b[A\n",
            "Evaluating:  60%|██████    | 12/20 [00:00<00:00, 18.27it/s]\u001b[A\n",
            "Evaluating:  70%|███████   | 14/20 [00:00<00:00, 18.39it/s]\u001b[A\n",
            "Evaluating:  80%|████████  | 16/20 [00:00<00:00, 18.50it/s]\u001b[A\n",
            "Evaluating: 100%|██████████| 20/20 [00:01<00:00, 18.60it/s]\n",
            "Epoch 25: 100%|██████████| 20/20 [00:02<00:00,  8.07it/s]\n"
          ]
        },
        {
          "name": "stdout",
          "output_type": "stream",
          "text": [
            "\n",
            "Metrics step 500:\n",
            "  mean_train_loss: 0.10847628345433623\n",
            "  learning_rate: 0.07505002494999956\n",
            "  eval_loss: 0.7051431685686111\n",
            "  eval_accuracy: 0.8579999804496765\n",
            "  train_loss: 0.013706139498390257\n",
            "  train_accuracy: 0.9962000250816345\n",
            "  mean_eval_loss: 0.6661643207073211\n"
          ]
        },
        {
          "name": "stderr",
          "output_type": "stream",
          "text": [
            "Epoch 26: 100%|██████████| 20/20 [00:01<00:00, 17.88it/s]\n",
            "Epoch 27: 100%|██████████| 20/20 [00:01<00:00, 15.29it/s]\n",
            "Epoch 28: 100%|██████████| 20/20 [00:01<00:00, 12.79it/s]\n",
            "Epoch 29: 100%|██████████| 20/20 [00:01<00:00, 16.84it/s]\n",
            "Epoch 30:  90%|█████████ | 18/20 [00:01<00:00, 17.88it/s]\n",
            "Evaluating:   0%|          | 0/4 [00:00<?, ?it/s]\u001b[A\n",
            "Evaluating:  50%|█████     | 2/4 [00:00<00:00, 19.70it/s]\u001b[A\n",
            "Evaluating: 100%|██████████| 4/4 [00:00<00:00, 18.94it/s]\n",
            "\n",
            "Evaluating:   0%|          | 0/20 [00:00<?, ?it/s]\u001b[A\n",
            "Evaluating:  10%|█         | 2/20 [00:00<00:00, 18.46it/s]\u001b[A\n",
            "Evaluating:  20%|██        | 4/20 [00:00<00:00, 18.26it/s]\u001b[A\n",
            "Evaluating:  30%|███       | 6/20 [00:00<00:00, 18.47it/s]\u001b[A\n",
            "Evaluating:  40%|████      | 8/20 [00:00<00:00, 18.27it/s]\u001b[A\n",
            "Evaluating:  50%|█████     | 10/20 [00:00<00:00, 18.39it/s]\u001b[A\n",
            "Evaluating:  60%|██████    | 12/20 [00:00<00:00, 17.84it/s]\u001b[A\n",
            "Evaluating:  70%|███████   | 14/20 [00:00<00:00, 18.33it/s]\u001b[A\n",
            "Evaluating:  80%|████████  | 16/20 [00:00<00:00, 18.57it/s]\u001b[A\n",
            "Evaluating: 100%|██████████| 20/20 [00:01<00:00, 18.97it/s]\n",
            "Epoch 30: 100%|██████████| 20/20 [00:02<00:00,  8.38it/s]\n"
          ]
        },
        {
          "name": "stdout",
          "output_type": "stream",
          "text": [
            "\n",
            "Metrics step 600:\n",
            "  mean_train_loss: 0.09305166431896698\n",
            "  learning_rate: 0.07005002994999944\n",
            "  eval_loss: 0.8205312937498093\n",
            "  eval_accuracy: 0.8619999885559082\n",
            "  train_loss: 0.010682113619986921\n",
            "  train_accuracy: 0.9965999722480774\n",
            "  mean_eval_loss: 0.6918921495477358\n"
          ]
        },
        {
          "name": "stderr",
          "output_type": "stream",
          "text": [
            "Epoch 31: 100%|██████████| 20/20 [00:01<00:00, 18.05it/s]\n",
            "Epoch 32: 100%|██████████| 20/20 [00:01<00:00, 18.19it/s]\n",
            "Epoch 33: 100%|██████████| 20/20 [00:01<00:00, 18.04it/s]\n",
            "Epoch 34: 100%|██████████| 20/20 [00:01<00:00, 18.05it/s]\n",
            "Epoch 35:  90%|█████████ | 18/20 [00:01<00:00, 12.71it/s]\n",
            "Evaluating:   0%|          | 0/4 [00:00<?, ?it/s]\u001b[A\n",
            "Evaluating:  50%|█████     | 2/4 [00:00<00:00, 18.50it/s]\u001b[A\n",
            "Evaluating: 100%|██████████| 4/4 [00:00<00:00, 18.39it/s]\n",
            "\n",
            "Evaluating:   0%|          | 0/20 [00:00<?, ?it/s]\u001b[A\n",
            "Evaluating:  10%|█         | 2/20 [00:00<00:00, 18.17it/s]\u001b[A\n",
            "Evaluating:  20%|██        | 4/20 [00:00<00:01, 11.45it/s]\u001b[A\n",
            "Evaluating:  30%|███       | 6/20 [00:00<00:01, 12.63it/s]\u001b[A\n",
            "Evaluating:  40%|████      | 8/20 [00:00<00:00, 14.37it/s]\u001b[A\n",
            "Evaluating:  50%|█████     | 10/20 [00:00<00:00, 15.02it/s]\u001b[A\n",
            "Evaluating:  60%|██████    | 12/20 [00:00<00:00, 13.72it/s]\u001b[A\n",
            "Evaluating:  70%|███████   | 14/20 [00:01<00:00, 13.92it/s]\u001b[A\n",
            "Evaluating:  80%|████████  | 16/20 [00:01<00:00, 14.15it/s]\u001b[A\n",
            "Evaluating:  90%|█████████ | 18/20 [00:01<00:00, 13.70it/s]\u001b[A\n",
            "Evaluating: 100%|██████████| 20/20 [00:01<00:00, 13.95it/s]\n",
            "Epoch 35: 100%|██████████| 20/20 [00:02<00:00,  6.76it/s]\n"
          ]
        },
        {
          "name": "stdout",
          "output_type": "stream",
          "text": [
            "\n",
            "Metrics step 700:\n",
            "  mean_train_loss: 0.08078160592749814\n",
            "  learning_rate: 0.06505003494999935\n",
            "  eval_loss: 0.9225676357746124\n",
            "  eval_accuracy: 0.8619999885559082\n",
            "  train_loss: 0.004802494071191177\n",
            "  train_accuracy: 0.9983999729156494\n",
            "  mean_eval_loss: 0.7248457904372897\n"
          ]
        },
        {
          "name": "stderr",
          "output_type": "stream",
          "text": [
            "Epoch 36: 100%|██████████| 20/20 [00:01<00:00, 12.46it/s]\n",
            "Epoch 37: 100%|██████████| 20/20 [00:01<00:00, 17.58it/s]\n",
            "Epoch 38: 100%|██████████| 20/20 [00:01<00:00, 17.94it/s]\n",
            "Epoch 39: 100%|██████████| 20/20 [00:01<00:00, 18.07it/s]\n",
            "Epoch 40:  90%|█████████ | 18/20 [00:01<00:00, 17.81it/s]\n",
            "Evaluating:   0%|          | 0/4 [00:00<?, ?it/s]\u001b[A\n",
            "Evaluating: 100%|██████████| 4/4 [00:00<00:00, 18.72it/s]\n",
            "\n",
            "Evaluating:   0%|          | 0/20 [00:00<?, ?it/s]\u001b[A\n",
            "Evaluating:  10%|█         | 2/20 [00:00<00:00, 19.36it/s]\u001b[A\n",
            "Evaluating:  20%|██        | 4/20 [00:00<00:00, 17.64it/s]\u001b[A\n",
            "Evaluating:  30%|███       | 6/20 [00:00<00:00, 17.36it/s]\u001b[A\n",
            "Evaluating:  40%|████      | 8/20 [00:00<00:00, 17.61it/s]\u001b[A\n",
            "Evaluating:  50%|█████     | 10/20 [00:00<00:00, 17.82it/s]\u001b[A\n",
            "Evaluating:  60%|██████    | 12/20 [00:00<00:00, 18.26it/s]\u001b[A\n",
            "Evaluating:  70%|███████   | 14/20 [00:00<00:00, 16.23it/s]\u001b[A\n",
            "Evaluating:  80%|████████  | 16/20 [00:00<00:00, 16.91it/s]\u001b[A\n",
            "Evaluating: 100%|██████████| 20/20 [00:01<00:00, 17.92it/s]\n",
            "Epoch 40: 100%|██████████| 20/20 [00:02<00:00,  8.10it/s]\n"
          ]
        },
        {
          "name": "stdout",
          "output_type": "stream",
          "text": [
            "\n",
            "Metrics step 800:\n",
            "  mean_train_loss: 0.07105711304517172\n",
            "  learning_rate: 0.06005003994999934\n",
            "  eval_loss: 1.0046937465667725\n",
            "  eval_accuracy: 0.8560000061988831\n",
            "  train_loss: 0.0008266338205430657\n",
            "  train_accuracy: 1.0\n",
            "  mean_eval_loss: 0.759826784953475\n"
          ]
        },
        {
          "name": "stderr",
          "output_type": "stream",
          "text": [
            "Epoch 41: 100%|██████████| 20/20 [00:01<00:00, 17.93it/s]\n",
            "Epoch 42: 100%|██████████| 20/20 [00:01<00:00, 18.66it/s]\n",
            "Epoch 43: 100%|██████████| 20/20 [00:01<00:00, 17.75it/s]\n",
            "Epoch 44: 100%|██████████| 20/20 [00:01<00:00, 14.78it/s]\n",
            "Epoch 45:  90%|█████████ | 18/20 [00:01<00:00, 13.24it/s]\n",
            "Evaluating:   0%|          | 0/4 [00:00<?, ?it/s]\u001b[A\n",
            "Evaluating:  50%|█████     | 2/4 [00:00<00:00, 14.46it/s]\u001b[A\n",
            "Evaluating: 100%|██████████| 4/4 [00:00<00:00, 13.16it/s]\n",
            "\n",
            "Evaluating:   0%|          | 0/20 [00:00<?, ?it/s]\u001b[A\n",
            "Evaluating:  10%|█         | 2/20 [00:00<00:01, 11.30it/s]\u001b[A\n",
            "Evaluating:  20%|██        | 4/20 [00:00<00:01, 14.22it/s]\u001b[A\n",
            "Evaluating:  30%|███       | 6/20 [00:00<00:00, 15.54it/s]\u001b[A\n",
            "Evaluating:  40%|████      | 8/20 [00:00<00:00, 16.55it/s]\u001b[A\n",
            "Evaluating:  50%|█████     | 10/20 [00:00<00:00, 17.06it/s]\u001b[A\n",
            "Evaluating:  60%|██████    | 12/20 [00:00<00:00, 17.07it/s]\u001b[A\n",
            "Evaluating:  70%|███████   | 14/20 [00:00<00:00, 17.31it/s]\u001b[A\n",
            "Evaluating:  80%|████████  | 16/20 [00:00<00:00, 17.54it/s]\u001b[A\n",
            "Evaluating: 100%|██████████| 20/20 [00:01<00:00, 16.91it/s]\n",
            "Epoch 45: 100%|██████████| 20/20 [00:02<00:00,  6.71it/s]\n"
          ]
        },
        {
          "name": "stdout",
          "output_type": "stream",
          "text": [
            "\n",
            "Metrics step 900:\n",
            "  mean_train_loss: 0.0633658575122859\n",
            "  learning_rate: 0.055050044949999356\n",
            "  eval_loss: 0.9847127795219421\n",
            "  eval_accuracy: 0.8579999804496765\n",
            "  train_loss: 0.0007016070907411631\n",
            "  train_accuracy: 1.0\n",
            "  mean_eval_loss: 0.7848141176833047\n"
          ]
        },
        {
          "name": "stderr",
          "output_type": "stream",
          "text": [
            "Epoch 46: 100%|██████████| 20/20 [00:01<00:00, 17.98it/s]\n",
            "Epoch 47: 100%|██████████| 20/20 [00:01<00:00, 18.35it/s]\n",
            "Epoch 48: 100%|██████████| 20/20 [00:01<00:00, 16.73it/s]\n",
            "Epoch 49: 100%|██████████| 20/20 [00:01<00:00, 18.19it/s]\n",
            "Epoch 50:  90%|█████████ | 18/20 [00:01<00:00, 17.56it/s]\n",
            "Evaluating:   0%|          | 0/4 [00:00<?, ?it/s]\u001b[A\n",
            "Evaluating:  50%|█████     | 2/4 [00:00<00:00, 18.03it/s]\u001b[A\n",
            "Evaluating: 100%|██████████| 4/4 [00:00<00:00, 17.57it/s]\n",
            "\n",
            "Evaluating:   0%|          | 0/20 [00:00<?, ?it/s]\u001b[A\n",
            "Evaluating:  10%|█         | 2/20 [00:00<00:00, 18.03it/s]\u001b[A\n",
            "Evaluating:  20%|██        | 4/20 [00:00<00:00, 18.11it/s]\u001b[A\n",
            "Evaluating:  30%|███       | 6/20 [00:00<00:00, 17.62it/s]\u001b[A\n",
            "Evaluating:  40%|████      | 8/20 [00:00<00:00, 18.22it/s]\u001b[A\n",
            "Evaluating:  50%|█████     | 10/20 [00:00<00:00, 18.34it/s]\u001b[A\n",
            "Evaluating:  60%|██████    | 12/20 [00:00<00:00, 18.16it/s]\u001b[A\n",
            "Evaluating:  70%|███████   | 14/20 [00:00<00:00, 17.12it/s]\u001b[A\n",
            "Evaluating:  80%|████████  | 16/20 [00:00<00:00, 17.68it/s]\u001b[A\n",
            "Evaluating: 100%|██████████| 20/20 [00:01<00:00, 18.31it/s]\n",
            "Epoch 50: 100%|██████████| 20/20 [00:02<00:00,  8.09it/s]\n"
          ]
        },
        {
          "name": "stdout",
          "output_type": "stream",
          "text": [
            "\n",
            "Metrics step 1000:\n",
            "  mean_train_loss: 0.057131083656844564\n",
            "  learning_rate: 0.050050049949999446\n",
            "  eval_loss: 0.9716626554727554\n",
            "  eval_accuracy: 0.8560000061988831\n",
            "  train_loss: 0.00038979801902314646\n",
            "  train_accuracy: 1.0\n",
            "  mean_eval_loss: 0.8034989714622498\n"
          ]
        },
        {
          "name": "stderr",
          "output_type": "stream",
          "text": [
            "Epoch 51: 100%|██████████| 20/20 [00:01<00:00, 17.81it/s]\n",
            "Epoch 52: 100%|██████████| 20/20 [00:01<00:00, 16.08it/s]\n",
            "Epoch 53: 100%|██████████| 20/20 [00:01<00:00, 12.41it/s]\n",
            "Epoch 54: 100%|██████████| 20/20 [00:01<00:00, 15.93it/s]\n",
            "Epoch 55:  90%|█████████ | 18/20 [00:01<00:00, 16.88it/s]\n",
            "Evaluating:   0%|          | 0/4 [00:00<?, ?it/s]\u001b[A\n",
            "Evaluating:  50%|█████     | 2/4 [00:00<00:00, 17.96it/s]\u001b[A\n",
            "Evaluating: 100%|██████████| 4/4 [00:00<00:00, 18.21it/s]\n",
            "\n",
            "Evaluating:   0%|          | 0/20 [00:00<?, ?it/s]\u001b[A\n",
            "Evaluating:  10%|█         | 2/20 [00:00<00:00, 18.87it/s]\u001b[A\n",
            "Evaluating:  20%|██        | 4/20 [00:00<00:00, 17.84it/s]\u001b[A\n",
            "Evaluating:  30%|███       | 6/20 [00:00<00:00, 17.86it/s]\u001b[A\n",
            "Evaluating:  40%|████      | 8/20 [00:00<00:00, 18.10it/s]\u001b[A\n",
            "Evaluating:  50%|█████     | 10/20 [00:00<00:00, 18.11it/s]\u001b[A\n",
            "Evaluating:  60%|██████    | 12/20 [00:00<00:00, 18.38it/s]\u001b[A\n",
            "Evaluating:  70%|███████   | 14/20 [00:00<00:00, 18.54it/s]\u001b[A\n",
            "Evaluating:  80%|████████  | 16/20 [00:00<00:00, 18.70it/s]\u001b[A\n",
            "Evaluating: 100%|██████████| 20/20 [00:01<00:00, 18.90it/s]\n",
            "Epoch 55: 100%|██████████| 20/20 [00:02<00:00,  8.21it/s]\n"
          ]
        },
        {
          "name": "stdout",
          "output_type": "stream",
          "text": [
            "\n",
            "Metrics step 1100:\n",
            "  mean_train_loss: 0.051993408012395693\n",
            "  learning_rate: 0.045050054949999536\n",
            "  eval_loss: 1.0047237873077393\n",
            "  eval_accuracy: 0.8519999980926514\n",
            "  train_loss: 0.00022479519011540106\n",
            "  train_accuracy: 1.0\n",
            "  mean_eval_loss: 0.8217921365391124\n"
          ]
        },
        {
          "name": "stderr",
          "output_type": "stream",
          "text": [
            "Epoch 56: 100%|██████████| 20/20 [00:01<00:00, 18.07it/s]\n",
            "Epoch 57: 100%|██████████| 20/20 [00:01<00:00, 17.81it/s]\n",
            "Epoch 58: 100%|██████████| 20/20 [00:01<00:00, 18.06it/s]\n",
            "Epoch 59: 100%|██████████| 20/20 [00:01<00:00, 18.06it/s]\n",
            "Epoch 60:  90%|█████████ | 18/20 [00:01<00:00, 17.56it/s]\n",
            "Evaluating:   0%|          | 0/4 [00:00<?, ?it/s]\u001b[A\n",
            "Evaluating: 100%|██████████| 4/4 [00:00<00:00, 19.57it/s]\n",
            "\n",
            "Evaluating:   0%|          | 0/20 [00:00<?, ?it/s]\u001b[A\n",
            "Evaluating:  10%|█         | 2/20 [00:00<00:00, 19.93it/s]\u001b[A\n",
            "Evaluating:  20%|██        | 4/20 [00:00<00:00, 19.03it/s]\u001b[A\n",
            "Evaluating:  30%|███       | 6/20 [00:00<00:00, 18.26it/s]\u001b[A\n",
            "Evaluating:  40%|████      | 8/20 [00:00<00:00, 18.40it/s]\u001b[A\n",
            "Evaluating:  50%|█████     | 10/20 [00:00<00:00, 17.85it/s]\u001b[A\n",
            "Evaluating:  60%|██████    | 12/20 [00:00<00:00, 18.21it/s]\u001b[A\n",
            "Evaluating:  70%|███████   | 14/20 [00:00<00:00, 18.18it/s]\u001b[A\n",
            "Evaluating:  80%|████████  | 16/20 [00:00<00:00, 18.39it/s]\u001b[A\n",
            "Evaluating:  90%|█████████ | 18/20 [00:01<00:00, 15.90it/s]\u001b[A\n",
            "Evaluating: 100%|██████████| 20/20 [00:01<00:00, 17.27it/s]\n",
            "Epoch 60: 100%|██████████| 20/20 [00:02<00:00,  8.00it/s]\n"
          ]
        },
        {
          "name": "stdout",
          "output_type": "stream",
          "text": [
            "\n",
            "Metrics step 1200:\n",
            "  mean_train_loss: 0.04769978662917007\n",
            "  learning_rate: 0.04005005994999966\n",
            "  eval_loss: 1.0576827377080917\n",
            "  eval_accuracy: 0.8519999980926514\n",
            "  train_loss: 0.00011668202587316046\n",
            "  train_accuracy: 1.0\n",
            "  mean_eval_loss: 0.8414496866365274\n"
          ]
        },
        {
          "name": "stderr",
          "output_type": "stream",
          "text": [
            "Epoch 61: 100%|██████████| 20/20 [00:01<00:00, 13.00it/s]\n",
            "Epoch 62: 100%|██████████| 20/20 [00:01<00:00, 15.23it/s]\n",
            "Epoch 63: 100%|██████████| 20/20 [00:01<00:00, 17.85it/s]\n",
            "Epoch 64: 100%|██████████| 20/20 [00:01<00:00, 17.61it/s]\n",
            "Epoch 65:  95%|█████████▌| 19/20 [00:01<00:00, 17.05it/s]\n",
            "Evaluating:   0%|          | 0/4 [00:00<?, ?it/s]\u001b[A\n",
            "Evaluating: 100%|██████████| 4/4 [00:00<00:00, 18.20it/s]\n",
            "\n",
            "Evaluating:   0%|          | 0/20 [00:00<?, ?it/s]\u001b[A\n",
            "Evaluating:  10%|█         | 2/20 [00:00<00:00, 19.49it/s]\u001b[A\n",
            "Evaluating:  20%|██        | 4/20 [00:00<00:00, 18.43it/s]\u001b[A\n",
            "Evaluating:  30%|███       | 6/20 [00:00<00:00, 18.61it/s]\u001b[A\n",
            "Evaluating:  40%|████      | 8/20 [00:00<00:00, 18.83it/s]\u001b[A\n",
            "Evaluating:  50%|█████     | 10/20 [00:00<00:00, 18.81it/s]\u001b[A\n",
            "Evaluating:  60%|██████    | 12/20 [00:00<00:00, 18.87it/s]\u001b[A\n",
            "Evaluating:  70%|███████   | 14/20 [00:00<00:00, 18.73it/s]\u001b[A\n",
            "Evaluating:  80%|████████  | 16/20 [00:00<00:00, 18.46it/s]\u001b[A\n",
            "Evaluating: 100%|██████████| 20/20 [00:01<00:00, 18.67it/s]\n",
            "Epoch 65: 100%|██████████| 20/20 [00:02<00:00,  7.83it/s]\n"
          ]
        },
        {
          "name": "stdout",
          "output_type": "stream",
          "text": [
            "\n",
            "Metrics step 1300:\n",
            "  mean_train_loss: 0.044048207699236695\n",
            "  learning_rate: 0.03505006494999977\n",
            "  eval_loss: 1.0448308736085892\n",
            "  eval_accuracy: 0.8569999933242798\n",
            "  train_loss: 9.740441983012716e-05\n",
            "  train_accuracy: 1.0\n",
            "  mean_eval_loss: 0.857094393326686\n"
          ]
        },
        {
          "name": "stderr",
          "output_type": "stream",
          "text": [
            "Epoch 66: 100%|██████████| 20/20 [00:01<00:00, 18.40it/s]\n",
            "Epoch 67: 100%|██████████| 20/20 [00:01<00:00, 18.33it/s]\n",
            "Epoch 68: 100%|██████████| 20/20 [00:01<00:00, 17.78it/s]\n",
            "Epoch 69: 100%|██████████| 20/20 [00:01<00:00, 16.24it/s]\n",
            "Epoch 70:  90%|█████████ | 18/20 [00:01<00:00, 13.61it/s]\n",
            "Evaluating:   0%|          | 0/4 [00:00<?, ?it/s]\u001b[A\n",
            "Evaluating:  50%|█████     | 2/4 [00:00<00:00, 12.87it/s]\u001b[A\n",
            "Evaluating: 100%|██████████| 4/4 [00:00<00:00, 13.25it/s]\n",
            "\n",
            "Evaluating:   0%|          | 0/20 [00:00<?, ?it/s]\u001b[A\n",
            "Evaluating:  10%|█         | 2/20 [00:00<00:01, 13.21it/s]\u001b[A\n",
            "Evaluating:  20%|██        | 4/20 [00:00<00:01, 11.90it/s]\u001b[A\n",
            "Evaluating:  30%|███       | 6/20 [00:00<00:01, 12.95it/s]\u001b[A\n",
            "Evaluating:  40%|████      | 8/20 [00:00<00:00, 14.63it/s]\u001b[A\n",
            "Evaluating:  50%|█████     | 10/20 [00:00<00:00, 15.64it/s]\u001b[A\n",
            "Evaluating:  60%|██████    | 12/20 [00:00<00:00, 16.63it/s]\u001b[A\n",
            "Evaluating:  70%|███████   | 14/20 [00:00<00:00, 17.19it/s]\u001b[A\n",
            "Evaluating:  80%|████████  | 16/20 [00:01<00:00, 14.24it/s]\u001b[A\n",
            "Evaluating:  90%|█████████ | 18/20 [00:01<00:00, 15.45it/s]\u001b[A\n",
            "Evaluating: 100%|██████████| 20/20 [00:01<00:00, 15.27it/s]\n",
            "Epoch 70: 100%|██████████| 20/20 [00:03<00:00,  6.41it/s]\n"
          ]
        },
        {
          "name": "stdout",
          "output_type": "stream",
          "text": [
            "\n",
            "Metrics step 1400:\n",
            "  mean_train_loss: 0.04091396431290247\n",
            "  learning_rate: 0.030050069949999845\n",
            "  eval_loss: 1.071514442563057\n",
            "  eval_accuracy: 0.8479999899864197\n",
            "  train_loss: 6.74104638164863e-05\n",
            "  train_accuracy: 1.0\n",
            "  mean_eval_loss: 0.8724101111292839\n"
          ]
        },
        {
          "name": "stderr",
          "output_type": "stream",
          "text": [
            "Epoch 71: 100%|██████████| 20/20 [00:01<00:00, 18.36it/s]\n",
            "Epoch 72: 100%|██████████| 20/20 [00:01<00:00, 17.83it/s]\n",
            "Epoch 73: 100%|██████████| 20/20 [00:01<00:00, 18.60it/s]\n",
            "Epoch 74: 100%|██████████| 20/20 [00:01<00:00, 19.06it/s]\n",
            "Epoch 75:  90%|█████████ | 18/20 [00:00<00:00, 18.10it/s]\n",
            "Evaluating:   0%|          | 0/4 [00:00<?, ?it/s]\u001b[A\n",
            "Evaluating:  50%|█████     | 2/4 [00:00<00:00, 19.56it/s]\u001b[A\n",
            "Evaluating: 100%|██████████| 4/4 [00:00<00:00, 19.26it/s]\n",
            "\n",
            "Evaluating:   0%|          | 0/20 [00:00<?, ?it/s]\u001b[A\n",
            "Evaluating:  10%|█         | 2/20 [00:00<00:00, 19.12it/s]\u001b[A\n",
            "Evaluating:  20%|██        | 4/20 [00:00<00:00, 18.58it/s]\u001b[A\n",
            "Evaluating:  30%|███       | 6/20 [00:00<00:00, 18.64it/s]\u001b[A\n",
            "Evaluating:  40%|████      | 8/20 [00:00<00:00, 18.71it/s]\u001b[A\n",
            "Evaluating:  50%|█████     | 10/20 [00:00<00:00, 18.74it/s]\u001b[A\n",
            "Evaluating:  60%|██████    | 12/20 [00:00<00:00, 18.82it/s]\u001b[A\n",
            "Evaluating:  70%|███████   | 14/20 [00:00<00:00, 18.21it/s]\u001b[A\n",
            "Evaluating:  80%|████████  | 16/20 [00:00<00:00, 18.47it/s]\u001b[A\n",
            "Evaluating: 100%|██████████| 20/20 [00:01<00:00, 18.94it/s]\n",
            "Epoch 75: 100%|██████████| 20/20 [00:02<00:00,  8.40it/s]\n"
          ]
        },
        {
          "name": "stdout",
          "output_type": "stream",
          "text": [
            "\n",
            "Metrics step 1500:\n",
            "  mean_train_loss: 0.038202346517848734\n",
            "  learning_rate: 0.025050074949999862\n",
            "  eval_loss: 1.0593384951353073\n",
            "  eval_accuracy: 0.8569999933242798\n",
            "  train_loss: 7.219678154797293e-05\n",
            "  train_accuracy: 1.0\n",
            "  mean_eval_loss: 0.8848720033963521\n"
          ]
        },
        {
          "name": "stderr",
          "output_type": "stream",
          "text": [
            "Epoch 76: 100%|██████████| 20/20 [00:01<00:00, 18.17it/s]\n",
            "Epoch 77: 100%|██████████| 20/20 [00:01<00:00, 18.69it/s]\n",
            "Epoch 78: 100%|██████████| 20/20 [00:01<00:00, 13.76it/s]\n",
            "Epoch 79: 100%|██████████| 20/20 [00:01<00:00, 14.20it/s]\n",
            "Epoch 80:  90%|█████████ | 18/20 [00:01<00:00, 17.62it/s]\n",
            "Evaluating:   0%|          | 0/4 [00:00<?, ?it/s]\u001b[A\n",
            "Evaluating:  50%|█████     | 2/4 [00:00<00:00, 19.60it/s]\u001b[A\n",
            "Evaluating: 100%|██████████| 4/4 [00:00<00:00, 17.94it/s]\n",
            "\n",
            "Evaluating:   0%|          | 0/20 [00:00<?, ?it/s]\u001b[A\n",
            "Evaluating:  10%|█         | 2/20 [00:00<00:00, 19.80it/s]\u001b[A\n",
            "Evaluating:  20%|██        | 4/20 [00:00<00:00, 18.95it/s]\u001b[A\n",
            "Evaluating:  30%|███       | 6/20 [00:00<00:00, 19.03it/s]\u001b[A\n",
            "Evaluating:  40%|████      | 8/20 [00:00<00:00, 18.88it/s]\u001b[A\n",
            "Evaluating:  50%|█████     | 10/20 [00:00<00:00, 18.60it/s]\u001b[A\n",
            "Evaluating:  60%|██████    | 12/20 [00:00<00:00, 18.64it/s]\u001b[A\n",
            "Evaluating:  70%|███████   | 14/20 [00:00<00:00, 13.69it/s]\u001b[A\n",
            "Evaluating:  80%|████████  | 16/20 [00:00<00:00, 14.75it/s]\u001b[A\n",
            "Evaluating: 100%|██████████| 20/20 [00:01<00:00, 17.03it/s]\n",
            "Epoch 80: 100%|██████████| 20/20 [00:02<00:00,  7.86it/s]\n"
          ]
        },
        {
          "name": "stdout",
          "output_type": "stream",
          "text": [
            "\n",
            "Metrics step 1600:\n",
            "  mean_train_loss: 0.03582512590771898\n",
            "  learning_rate: 0.02005007994999987\n",
            "  eval_loss: 1.089679703116417\n",
            "  eval_accuracy: 0.8529999852180481\n",
            "  train_loss: 5.92130630138854e-05\n",
            "  train_accuracy: 1.0\n",
            "  mean_eval_loss: 0.8976724846288562\n"
          ]
        },
        {
          "name": "stderr",
          "output_type": "stream",
          "text": [
            "Epoch 81: 100%|██████████| 20/20 [00:01<00:00, 17.57it/s]\n",
            "Epoch 82: 100%|██████████| 20/20 [00:01<00:00, 18.75it/s]\n",
            "Epoch 83: 100%|██████████| 20/20 [00:01<00:00, 18.11it/s]\n",
            "Epoch 84: 100%|██████████| 20/20 [00:01<00:00, 18.39it/s]\n",
            "Epoch 85:  90%|█████████ | 18/20 [00:00<00:00, 17.95it/s]\n",
            "Evaluating:   0%|          | 0/4 [00:00<?, ?it/s]\u001b[A\n",
            "Evaluating: 100%|██████████| 4/4 [00:00<00:00, 20.24it/s]\n",
            "\n",
            "Evaluating:   0%|          | 0/20 [00:00<?, ?it/s]\u001b[A\n",
            "Evaluating:  15%|█▌        | 3/20 [00:00<00:00, 20.75it/s]\u001b[A\n",
            "Evaluating:  30%|███       | 6/20 [00:00<00:00, 19.83it/s]\u001b[A\n",
            "Evaluating:  40%|████      | 8/20 [00:00<00:00, 19.43it/s]\u001b[A\n",
            "Evaluating:  50%|█████     | 10/20 [00:00<00:00, 19.35it/s]\u001b[A\n",
            "Evaluating:  60%|██████    | 12/20 [00:00<00:00, 19.01it/s]\u001b[A\n",
            "Evaluating:  70%|███████   | 14/20 [00:00<00:00, 18.73it/s]\u001b[A\n",
            "Evaluating:  80%|████████  | 16/20 [00:00<00:00, 18.77it/s]\u001b[A\n",
            "Evaluating: 100%|██████████| 20/20 [00:01<00:00, 19.46it/s]\n",
            "Epoch 85: 100%|██████████| 20/20 [00:02<00:00,  8.52it/s]\n"
          ]
        },
        {
          "name": "stdout",
          "output_type": "stream",
          "text": [
            "\n",
            "Metrics step 1700:\n",
            "  mean_train_loss: 0.0337260623393933\n",
            "  learning_rate: 0.015050084949999864\n",
            "  eval_loss: 1.03562992811203\n",
            "  eval_accuracy: 0.8539999723434448\n",
            "  train_loss: 5.6745483288977996e-05\n",
            "  train_accuracy: 1.0\n",
            "  mean_eval_loss: 0.9057876283631605\n"
          ]
        },
        {
          "name": "stderr",
          "output_type": "stream",
          "text": [
            "Epoch 86: 100%|██████████| 20/20 [00:01<00:00, 14.49it/s]\n",
            "Epoch 87: 100%|██████████| 20/20 [00:01<00:00, 13.58it/s]\n",
            "Epoch 88: 100%|██████████| 20/20 [00:01<00:00, 18.90it/s]\n",
            "Epoch 89: 100%|██████████| 20/20 [00:01<00:00, 18.45it/s]\n",
            "Epoch 90:  90%|█████████ | 18/20 [00:01<00:00, 17.94it/s]\n",
            "Evaluating:   0%|          | 0/4 [00:00<?, ?it/s]\u001b[A\n",
            "Evaluating: 100%|██████████| 4/4 [00:00<00:00, 20.38it/s]\n",
            "\n",
            "Evaluating:   0%|          | 0/20 [00:00<?, ?it/s]\u001b[A\n",
            "Evaluating:  15%|█▌        | 3/20 [00:00<00:00, 20.52it/s]\u001b[A\n",
            "Evaluating:  30%|███       | 6/20 [00:00<00:00, 19.57it/s]\u001b[A\n",
            "Evaluating:  40%|████      | 8/20 [00:00<00:00, 18.70it/s]\u001b[A\n",
            "Evaluating:  50%|█████     | 10/20 [00:00<00:00, 18.90it/s]\u001b[A\n",
            "Evaluating:  60%|██████    | 12/20 [00:00<00:00, 19.01it/s]\u001b[A\n",
            "Evaluating:  70%|███████   | 14/20 [00:00<00:00, 19.01it/s]\u001b[A\n",
            "Evaluating:  80%|████████  | 16/20 [00:00<00:00, 19.09it/s]\u001b[A\n",
            "Evaluating: 100%|██████████| 20/20 [00:01<00:00, 19.48it/s]\n",
            "Epoch 90: 100%|██████████| 20/20 [00:02<00:00,  8.49it/s]\n"
          ]
        },
        {
          "name": "stdout",
          "output_type": "stream",
          "text": [
            "\n",
            "Metrics step 1800:\n",
            "  mean_train_loss: 0.031859845746423365\n",
            "  learning_rate: 0.010050089949999917\n",
            "  eval_loss: 1.0491801798343658\n",
            "  eval_accuracy: 0.8569999933242798\n",
            "  train_loss: 4.900198846371495e-05\n",
            "  train_accuracy: 1.0\n",
            "  mean_eval_loss: 0.913753881222672\n"
          ]
        },
        {
          "name": "stderr",
          "output_type": "stream",
          "text": [
            "Epoch 91: 100%|██████████| 20/20 [00:01<00:00, 18.19it/s]\n",
            "Epoch 92: 100%|██████████| 20/20 [00:01<00:00, 18.55it/s]\n",
            "Epoch 93: 100%|██████████| 20/20 [00:01<00:00, 17.93it/s]\n",
            "Epoch 94: 100%|██████████| 20/20 [00:01<00:00, 18.37it/s]\n",
            "Epoch 95:  90%|█████████ | 18/20 [00:01<00:00, 13.82it/s]\n",
            "Evaluating:   0%|          | 0/4 [00:00<?, ?it/s]\u001b[A\n",
            "Evaluating:  50%|█████     | 2/4 [00:00<00:00, 14.92it/s]\u001b[A\n",
            "Evaluating: 100%|██████████| 4/4 [00:00<00:00, 14.49it/s]\n",
            "\n",
            "Evaluating:   0%|          | 0/20 [00:00<?, ?it/s]\u001b[A\n",
            "Evaluating:  10%|█         | 2/20 [00:00<00:01, 14.49it/s]\u001b[A\n",
            "Evaluating:  20%|██        | 4/20 [00:00<00:01, 14.38it/s]\u001b[A\n",
            "Evaluating:  30%|███       | 6/20 [00:00<00:00, 14.03it/s]\u001b[A\n",
            "Evaluating:  40%|████      | 8/20 [00:00<00:00, 13.90it/s]\u001b[A\n",
            "Evaluating:  50%|█████     | 10/20 [00:00<00:00, 13.66it/s]\u001b[A\n",
            "Evaluating:  60%|██████    | 12/20 [00:00<00:00, 13.90it/s]\u001b[A\n",
            "Evaluating:  70%|███████   | 14/20 [00:01<00:00, 13.94it/s]\u001b[A\n",
            "Evaluating:  80%|████████  | 16/20 [00:01<00:00, 13.35it/s]\u001b[A\n",
            "Evaluating:  90%|█████████ | 18/20 [00:01<00:00, 12.64it/s]\u001b[A\n",
            "Evaluating: 100%|██████████| 20/20 [00:01<00:00, 13.31it/s]\n",
            "Epoch 95: 100%|██████████| 20/20 [00:03<00:00,  6.47it/s]\n"
          ]
        },
        {
          "name": "stdout",
          "output_type": "stream",
          "text": [
            "\n",
            "Metrics step 1900:\n",
            "  mean_train_loss: 0.03018889108387061\n",
            "  learning_rate: 0.005050094949999962\n",
            "  eval_loss: 1.0389006286859512\n",
            "  eval_accuracy: 0.8550000190734863\n",
            "  train_loss: 6.568678873009048e-05\n",
            "  train_accuracy: 1.0\n",
            "  mean_eval_loss: 0.9203405521417919\n"
          ]
        },
        {
          "name": "stderr",
          "output_type": "stream",
          "text": [
            "Epoch 96: 100%|██████████| 20/20 [00:01<00:00, 16.54it/s]\n",
            "Epoch 97: 100%|██████████| 20/20 [00:01<00:00, 18.06it/s]\n",
            "Epoch 98: 100%|██████████| 20/20 [00:01<00:00, 18.41it/s]\n",
            "Epoch 99: 100%|██████████| 20/20 [00:01<00:00, 18.13it/s]\n",
            "Epoch 100:  90%|█████████ | 18/20 [00:00<00:00, 18.42it/s]\n",
            "Evaluating:   0%|          | 0/4 [00:00<?, ?it/s]\u001b[A\n",
            "Evaluating:  50%|█████     | 2/4 [00:00<00:00, 19.87it/s]\u001b[A\n",
            "Evaluating: 100%|██████████| 4/4 [00:00<00:00, 18.92it/s]\n",
            "\n",
            "Evaluating:   0%|          | 0/20 [00:00<?, ?it/s]\u001b[A\n",
            "Evaluating:  10%|█         | 2/20 [00:00<00:00, 19.18it/s]\u001b[A\n",
            "Evaluating:  20%|██        | 4/20 [00:00<00:00, 18.52it/s]\u001b[A\n",
            "Evaluating:  30%|███       | 6/20 [00:00<00:00, 18.29it/s]\u001b[A\n",
            "Evaluating:  40%|████      | 8/20 [00:00<00:00, 17.98it/s]\u001b[A\n",
            "Evaluating:  50%|█████     | 10/20 [00:00<00:00, 18.34it/s]\u001b[A\n",
            "Evaluating:  60%|██████    | 12/20 [00:00<00:00, 18.75it/s]\u001b[A\n",
            "Evaluating:  70%|███████   | 14/20 [00:00<00:00, 18.79it/s]\u001b[A\n",
            "Evaluating:  80%|████████  | 16/20 [00:00<00:00, 18.51it/s]\u001b[A\n",
            "Evaluating: 100%|██████████| 20/20 [00:01<00:00, 18.78it/s]\n",
            "Epoch 100: 100%|██████████| 20/20 [00:02<00:00,  8.44it/s]\n"
          ]
        },
        {
          "name": "stdout",
          "output_type": "stream",
          "text": [
            "\n",
            "Metrics step 2000:\n",
            "  mean_train_loss: 0.02868581410488514\n",
            "  learning_rate: 5.009994999999962e-05\n",
            "  eval_loss: 1.053241804242134\n",
            "  eval_accuracy: 0.8619999885559082\n",
            "  train_loss: 5.259677627691417e-05\n",
            "  train_accuracy: 1.0\n",
            "  mean_eval_loss: 0.926985614746809\n",
            "Saved new best model to best_model.pt\n",
            "\n",
            "Starting model training\n"
          ]
        },
        {
          "name": "stderr",
          "output_type": "stream",
          "text": [
            "Epoch 1: 100%|██████████| 20/20 [00:01<00:00, 18.34it/s]\n",
            "Epoch 2: 100%|██████████| 20/20 [00:01<00:00, 17.75it/s]\n",
            "Epoch 3: 100%|██████████| 20/20 [00:01<00:00, 17.41it/s]\n",
            "Epoch 4: 100%|██████████| 20/20 [00:01<00:00, 13.56it/s]\n",
            "Epoch 5:  90%|█████████ | 18/20 [00:01<00:00, 16.75it/s]\n",
            "Evaluating:   0%|          | 0/4 [00:00<?, ?it/s]\u001b[A\n",
            "Evaluating: 100%|██████████| 4/4 [00:00<00:00, 19.77it/s]\n",
            "\n",
            "Evaluating:   0%|          | 0/20 [00:00<?, ?it/s]\u001b[A\n",
            "Evaluating:  15%|█▌        | 3/20 [00:00<00:00, 20.68it/s]\u001b[A\n",
            "Evaluating:  30%|███       | 6/20 [00:00<00:00, 18.84it/s]\u001b[A\n",
            "Evaluating:  40%|████      | 8/20 [00:00<00:00, 18.37it/s]\u001b[A\n",
            "Evaluating:  50%|█████     | 10/20 [00:00<00:00, 18.57it/s]\u001b[A\n",
            "Evaluating:  60%|██████    | 12/20 [00:00<00:00, 18.56it/s]\u001b[A\n",
            "Evaluating:  70%|███████   | 14/20 [00:00<00:00, 18.57it/s]\u001b[A\n",
            "Evaluating:  80%|████████  | 16/20 [00:00<00:00, 18.35it/s]\u001b[A\n",
            "Evaluating: 100%|██████████| 20/20 [00:01<00:00, 18.96it/s]\n",
            "Epoch 5: 100%|██████████| 20/20 [00:02<00:00,  7.42it/s]\n"
          ]
        },
        {
          "name": "stdout",
          "output_type": "stream",
          "text": [
            "\n",
            "Metrics step 100:\n",
            "  mean_train_loss: 0.4833946281671524\n",
            "  learning_rate: 0.09505000494999999\n",
            "  eval_loss: 0.4702167436480522\n",
            "  eval_accuracy: 0.843999981880188\n",
            "  train_loss: 0.22104045674204825\n",
            "  train_accuracy: 0.9228000044822693\n",
            "  mean_eval_loss: 0.4702167436480522\n",
            "Saved new best model to best_model.pt\n",
            "\n"
          ]
        },
        {
          "name": "stderr",
          "output_type": "stream",
          "text": [
            "Epoch 6: 100%|██████████| 20/20 [00:01<00:00, 17.88it/s]\n",
            "Epoch 7: 100%|██████████| 20/20 [00:01<00:00, 18.42it/s]\n",
            "Epoch 8: 100%|██████████| 20/20 [00:01<00:00, 18.67it/s]\n",
            "Epoch 9: 100%|██████████| 20/20 [00:01<00:00, 18.32it/s]\n",
            "Epoch 10:  90%|█████████ | 18/20 [00:01<00:00, 18.04it/s]\n",
            "Evaluating:   0%|          | 0/4 [00:00<?, ?it/s]\u001b[A\n",
            "Evaluating: 100%|██████████| 4/4 [00:00<00:00, 19.52it/s]\n",
            "\n",
            "Evaluating:   0%|          | 0/20 [00:00<?, ?it/s]\u001b[A\n",
            "Evaluating:  10%|█         | 2/20 [00:00<00:00, 19.33it/s]\u001b[A\n",
            "Evaluating:  20%|██        | 4/20 [00:00<00:00, 17.97it/s]\u001b[A\n",
            "Evaluating:  30%|███       | 6/20 [00:00<00:00, 17.90it/s]\u001b[A\n",
            "Evaluating:  40%|████      | 8/20 [00:00<00:00, 17.83it/s]\u001b[A\n",
            "Evaluating:  50%|█████     | 10/20 [00:00<00:00, 17.77it/s]\u001b[A\n",
            "Evaluating:  60%|██████    | 12/20 [00:00<00:00, 17.29it/s]\u001b[A\n",
            "Evaluating:  70%|███████   | 14/20 [00:00<00:00, 16.83it/s]\u001b[A\n",
            "Evaluating:  80%|████████  | 16/20 [00:00<00:00, 17.07it/s]\u001b[A\n",
            "Evaluating: 100%|██████████| 20/20 [00:01<00:00, 17.81it/s]\n",
            "Epoch 10: 100%|██████████| 20/20 [00:02<00:00,  8.13it/s]\n"
          ]
        },
        {
          "name": "stdout",
          "output_type": "stream",
          "text": [
            "\n",
            "Metrics step 200:\n",
            "  mean_train_loss: 0.3381807067245245\n",
            "  learning_rate: 0.09005000994999993\n",
            "  eval_loss: 0.585564486682415\n",
            "  eval_accuracy: 0.8320000171661377\n",
            "  train_loss: 0.16493838988244533\n",
            "  train_accuracy: 0.9398000240325928\n",
            "  mean_eval_loss: 0.5278906151652336\n"
          ]
        },
        {
          "name": "stderr",
          "output_type": "stream",
          "text": [
            "Epoch 11: 100%|██████████| 20/20 [00:01<00:00, 17.68it/s]\n",
            "Epoch 12: 100%|██████████| 20/20 [00:01<00:00, 13.41it/s]\n",
            "Epoch 13: 100%|██████████| 20/20 [00:01<00:00, 14.93it/s]\n",
            "Epoch 14: 100%|██████████| 20/20 [00:01<00:00, 18.12it/s]\n",
            "Epoch 15:  90%|█████████ | 18/20 [00:00<00:00, 18.46it/s]\n",
            "Evaluating:   0%|          | 0/4 [00:00<?, ?it/s]\u001b[A\n",
            "Evaluating:  50%|█████     | 2/4 [00:00<00:00, 18.72it/s]\u001b[A\n",
            "Evaluating: 100%|██████████| 4/4 [00:00<00:00, 18.65it/s]\n",
            "\n",
            "Evaluating:   0%|          | 0/20 [00:00<?, ?it/s]\u001b[A\n",
            "Evaluating:  10%|█         | 2/20 [00:00<00:01, 17.96it/s]\u001b[A\n",
            "Evaluating:  20%|██        | 4/20 [00:00<00:00, 18.26it/s]\u001b[A\n",
            "Evaluating:  30%|███       | 6/20 [00:00<00:00, 18.58it/s]\u001b[A\n",
            "Evaluating:  40%|████      | 8/20 [00:00<00:00, 18.78it/s]\u001b[A\n",
            "Evaluating:  50%|█████     | 10/20 [00:00<00:00, 18.67it/s]\u001b[A\n",
            "Evaluating:  60%|██████    | 12/20 [00:00<00:00, 18.86it/s]\u001b[A\n",
            "Evaluating:  70%|███████   | 14/20 [00:00<00:00, 19.00it/s]\u001b[A\n",
            "Evaluating:  80%|████████  | 16/20 [00:00<00:00, 18.59it/s]\u001b[A\n",
            "Evaluating: 100%|██████████| 20/20 [00:01<00:00, 18.87it/s]\n",
            "Epoch 15: 100%|██████████| 20/20 [00:02<00:00,  8.41it/s]\n"
          ]
        },
        {
          "name": "stdout",
          "output_type": "stream",
          "text": [
            "\n",
            "Metrics step 300:\n",
            "  mean_train_loss: 0.2658318056166172\n",
            "  learning_rate: 0.08505001494999989\n",
            "  eval_loss: 0.6782510876655579\n",
            "  eval_accuracy: 0.8299999833106995\n",
            "  train_loss: 0.12585846856236457\n",
            "  train_accuracy: 0.9563999772071838\n",
            "  mean_eval_loss: 0.5780107726653417\n"
          ]
        },
        {
          "name": "stderr",
          "output_type": "stream",
          "text": [
            "Epoch 16: 100%|██████████| 20/20 [00:01<00:00, 18.19it/s]\n",
            "Epoch 17: 100%|██████████| 20/20 [00:01<00:00, 18.27it/s]\n",
            "Epoch 18: 100%|██████████| 20/20 [00:01<00:00, 18.30it/s]\n",
            "Epoch 19: 100%|██████████| 20/20 [00:01<00:00, 16.93it/s]\n",
            "Epoch 20:  90%|█████████ | 18/20 [00:01<00:00, 17.31it/s]\n",
            "Evaluating:   0%|          | 0/4 [00:00<?, ?it/s]\u001b[A\n",
            "Evaluating:  50%|█████     | 2/4 [00:00<00:00, 19.04it/s]\u001b[A\n",
            "Evaluating: 100%|██████████| 4/4 [00:00<00:00, 18.44it/s]\n",
            "\n",
            "Evaluating:   0%|          | 0/20 [00:00<?, ?it/s]\u001b[A\n",
            "Evaluating:  10%|█         | 2/20 [00:00<00:00, 18.11it/s]\u001b[A\n",
            "Evaluating:  20%|██        | 4/20 [00:00<00:01, 14.52it/s]\u001b[A\n",
            "Evaluating:  30%|███       | 6/20 [00:00<00:00, 14.19it/s]\u001b[A\n",
            "Evaluating:  40%|████      | 8/20 [00:00<00:00, 14.17it/s]\u001b[A\n",
            "Evaluating:  50%|█████     | 10/20 [00:00<00:00, 14.51it/s]\u001b[A\n",
            "Evaluating:  60%|██████    | 12/20 [00:00<00:00, 14.64it/s]\u001b[A\n",
            "Evaluating:  70%|███████   | 14/20 [00:00<00:00, 14.67it/s]\u001b[A\n",
            "Evaluating:  80%|████████  | 16/20 [00:01<00:00, 14.18it/s]\u001b[A\n",
            "Evaluating:  90%|█████████ | 18/20 [00:01<00:00, 14.00it/s]\u001b[A\n",
            "Evaluating: 100%|██████████| 20/20 [00:01<00:00, 14.58it/s]\n",
            "Epoch 20: 100%|██████████| 20/20 [00:02<00:00,  7.37it/s]\n"
          ]
        },
        {
          "name": "stdout",
          "output_type": "stream",
          "text": [
            "\n",
            "Metrics step 400:\n",
            "  mean_train_loss: 0.2187925414275378\n",
            "  learning_rate: 0.08005001994999977\n",
            "  eval_loss: 0.7597202658653259\n",
            "  eval_accuracy: 0.8420000076293945\n",
            "  train_loss: 0.06280313022434711\n",
            "  train_accuracy: 0.9782000184059143\n",
            "  mean_eval_loss: 0.6234381459653378\n"
          ]
        },
        {
          "name": "stderr",
          "output_type": "stream",
          "text": [
            "Epoch 21: 100%|██████████| 20/20 [00:01<00:00, 14.12it/s]\n",
            "Epoch 22: 100%|██████████| 20/20 [00:01<00:00, 18.22it/s]\n",
            "Epoch 23: 100%|██████████| 20/20 [00:01<00:00, 18.59it/s]\n",
            "Epoch 24: 100%|██████████| 20/20 [00:01<00:00, 18.14it/s]\n",
            "Epoch 25:  90%|█████████ | 18/20 [00:01<00:00, 17.97it/s]\n",
            "Evaluating:   0%|          | 0/4 [00:00<?, ?it/s]\u001b[A\n",
            "Evaluating:  50%|█████     | 2/4 [00:00<00:00, 18.69it/s]\u001b[A\n",
            "Evaluating: 100%|██████████| 4/4 [00:00<00:00, 17.49it/s]\n",
            "\n",
            "Evaluating:   0%|          | 0/20 [00:00<?, ?it/s]\u001b[A\n",
            "Evaluating:  10%|█         | 2/20 [00:00<00:00, 18.60it/s]\u001b[A\n",
            "Evaluating:  20%|██        | 4/20 [00:00<00:00, 18.92it/s]\u001b[A\n",
            "Evaluating:  30%|███       | 6/20 [00:00<00:00, 18.73it/s]\u001b[A\n",
            "Evaluating:  40%|████      | 8/20 [00:00<00:00, 18.52it/s]\u001b[A\n",
            "Evaluating:  50%|█████     | 10/20 [00:00<00:00, 18.61it/s]\u001b[A\n",
            "Evaluating:  60%|██████    | 12/20 [00:00<00:00, 18.44it/s]\u001b[A\n",
            "Evaluating:  70%|███████   | 14/20 [00:00<00:00, 18.30it/s]\u001b[A\n",
            "Evaluating:  80%|████████  | 16/20 [00:00<00:00, 17.88it/s]\u001b[A\n",
            "Evaluating: 100%|██████████| 20/20 [00:01<00:00, 18.65it/s]\n",
            "Epoch 25: 100%|██████████| 20/20 [00:02<00:00,  8.23it/s]\n"
          ]
        },
        {
          "name": "stdout",
          "output_type": "stream",
          "text": [
            "\n",
            "Metrics step 500:\n",
            "  mean_train_loss: 0.18521266271360218\n",
            "  learning_rate: 0.07505002494999956\n",
            "  eval_loss: 0.7781338095664978\n",
            "  eval_accuracy: 0.8320000171661377\n",
            "  train_loss: 0.05820963736623526\n",
            "  train_accuracy: 0.9800000190734863\n",
            "  mean_eval_loss: 0.6543772786855697\n"
          ]
        },
        {
          "name": "stderr",
          "output_type": "stream",
          "text": [
            "Epoch 26: 100%|██████████| 20/20 [00:01<00:00, 18.18it/s]\n",
            "Epoch 27: 100%|██████████| 20/20 [00:01<00:00, 18.12it/s]\n",
            "Epoch 28: 100%|██████████| 20/20 [00:01<00:00, 18.34it/s]\n",
            "Epoch 29: 100%|██████████| 20/20 [00:01<00:00, 15.08it/s]\n",
            "Epoch 30:  90%|█████████ | 18/20 [00:01<00:00, 12.06it/s]\n",
            "Evaluating:   0%|          | 0/4 [00:00<?, ?it/s]\u001b[A\n",
            "Evaluating:  50%|█████     | 2/4 [00:00<00:00, 19.36it/s]\u001b[A\n",
            "Evaluating: 100%|██████████| 4/4 [00:00<00:00, 18.40it/s]\n",
            "\n",
            "Evaluating:   0%|          | 0/20 [00:00<?, ?it/s]\u001b[A\n",
            "Evaluating:  10%|█         | 2/20 [00:00<00:00, 18.78it/s]\u001b[A\n",
            "Evaluating:  20%|██        | 4/20 [00:00<00:00, 18.15it/s]\u001b[A\n",
            "Evaluating:  30%|███       | 6/20 [00:00<00:00, 18.01it/s]\u001b[A\n",
            "Evaluating:  40%|████      | 8/20 [00:00<00:00, 17.70it/s]\u001b[A\n",
            "Evaluating:  50%|█████     | 10/20 [00:00<00:00, 17.83it/s]\u001b[A\n",
            "Evaluating:  60%|██████    | 12/20 [00:00<00:00, 17.50it/s]\u001b[A\n",
            "Evaluating:  70%|███████   | 14/20 [00:00<00:00, 17.58it/s]\u001b[A\n",
            "Evaluating:  80%|████████  | 16/20 [00:00<00:00, 16.88it/s]\u001b[A\n",
            "Evaluating: 100%|██████████| 20/20 [00:01<00:00, 17.90it/s]\n",
            "Epoch 30: 100%|██████████| 20/20 [00:02<00:00,  6.85it/s]\n"
          ]
        },
        {
          "name": "stdout",
          "output_type": "stream",
          "text": [
            "\n",
            "Metrics step 600:\n",
            "  mean_train_loss: 0.15986942611945174\n",
            "  learning_rate: 0.07005002994999944\n",
            "  eval_loss: 0.9260710179805756\n",
            "  eval_accuracy: 0.8460000157356262\n",
            "  train_loss: 0.020550593663938344\n",
            "  train_accuracy: 0.9929999709129333\n",
            "  mean_eval_loss: 0.6996595685680708\n"
          ]
        },
        {
          "name": "stderr",
          "output_type": "stream",
          "text": [
            "Epoch 31: 100%|██████████| 20/20 [00:01<00:00, 17.48it/s]\n",
            "Epoch 32: 100%|██████████| 20/20 [00:01<00:00, 18.36it/s]\n",
            "Epoch 33: 100%|██████████| 20/20 [00:01<00:00, 18.01it/s]\n",
            "Epoch 34: 100%|██████████| 20/20 [00:01<00:00, 18.44it/s]\n",
            "Epoch 35:  90%|█████████ | 18/20 [00:01<00:00, 17.48it/s]\n",
            "Evaluating:   0%|          | 0/4 [00:00<?, ?it/s]\u001b[A\n",
            "Evaluating:  50%|█████     | 2/4 [00:00<00:00, 19.30it/s]\u001b[A\n",
            "Evaluating: 100%|██████████| 4/4 [00:00<00:00, 18.96it/s]\n",
            "\n",
            "Evaluating:   0%|          | 0/20 [00:00<?, ?it/s]\u001b[A\n",
            "Evaluating:  10%|█         | 2/20 [00:00<00:00, 19.19it/s]\u001b[A\n",
            "Evaluating:  20%|██        | 4/20 [00:00<00:00, 18.90it/s]\u001b[A\n",
            "Evaluating:  30%|███       | 6/20 [00:00<00:00, 18.59it/s]\u001b[A\n",
            "Evaluating:  40%|████      | 8/20 [00:00<00:00, 18.60it/s]\u001b[A\n",
            "Evaluating:  50%|█████     | 10/20 [00:00<00:00, 18.05it/s]\u001b[A\n",
            "Evaluating:  60%|██████    | 12/20 [00:00<00:00, 17.54it/s]\u001b[A\n",
            "Evaluating:  70%|███████   | 14/20 [00:00<00:00, 17.84it/s]\u001b[A\n",
            "Evaluating:  80%|████████  | 16/20 [00:00<00:00, 18.04it/s]\u001b[A\n",
            "Evaluating: 100%|██████████| 20/20 [00:01<00:00, 18.47it/s]\n",
            "Epoch 35: 100%|██████████| 20/20 [00:02<00:00,  8.25it/s]\n"
          ]
        },
        {
          "name": "stdout",
          "output_type": "stream",
          "text": [
            "\n",
            "Metrics step 700:\n",
            "  mean_train_loss: 0.1387898869287788\n",
            "  learning_rate: 0.06505003494999935\n",
            "  eval_loss: 0.9961327165365219\n",
            "  eval_accuracy: 0.8399999737739563\n",
            "  train_loss: 0.009309822146315127\n",
            "  train_accuracy: 0.996999979019165\n",
            "  mean_eval_loss: 0.7420128754207066\n"
          ]
        },
        {
          "name": "stderr",
          "output_type": "stream",
          "text": [
            "Epoch 36: 100%|██████████| 20/20 [00:01<00:00, 18.30it/s]\n",
            "Epoch 37: 100%|██████████| 20/20 [00:01<00:00, 14.58it/s]\n",
            "Epoch 38: 100%|██████████| 20/20 [00:01<00:00, 13.00it/s]\n",
            "Epoch 39: 100%|██████████| 20/20 [00:01<00:00, 17.36it/s]\n",
            "Epoch 40:  90%|█████████ | 18/20 [00:00<00:00, 18.03it/s]\n",
            "Evaluating:   0%|          | 0/4 [00:00<?, ?it/s]\u001b[A\n",
            "Evaluating:  50%|█████     | 2/4 [00:00<00:00, 19.78it/s]\u001b[A\n",
            "Evaluating: 100%|██████████| 4/4 [00:00<00:00, 19.16it/s]\n",
            "\n",
            "Evaluating:   0%|          | 0/20 [00:00<?, ?it/s]\u001b[A\n",
            "Evaluating:  10%|█         | 2/20 [00:00<00:00, 19.28it/s]\u001b[A\n",
            "Evaluating:  20%|██        | 4/20 [00:00<00:00, 17.61it/s]\u001b[A\n",
            "Evaluating:  30%|███       | 6/20 [00:00<00:00, 18.18it/s]\u001b[A\n",
            "Evaluating:  40%|████      | 8/20 [00:00<00:00, 17.75it/s]\u001b[A\n",
            "Evaluating:  50%|█████     | 10/20 [00:00<00:00, 16.87it/s]\u001b[A\n",
            "Evaluating:  60%|██████    | 12/20 [00:00<00:00, 17.12it/s]\u001b[A\n",
            "Evaluating:  70%|███████   | 14/20 [00:00<00:00, 17.23it/s]\u001b[A\n",
            "Evaluating:  80%|████████  | 16/20 [00:00<00:00, 17.55it/s]\u001b[A\n",
            "Evaluating: 100%|██████████| 20/20 [00:01<00:00, 17.92it/s]\n",
            "Epoch 40: 100%|██████████| 20/20 [00:02<00:00,  8.19it/s]\n"
          ]
        },
        {
          "name": "stdout",
          "output_type": "stream",
          "text": [
            "\n",
            "Metrics step 800:\n",
            "  mean_train_loss: 0.12279314348510524\n",
            "  learning_rate: 0.06005003994999934\n",
            "  eval_loss: 0.9704262316226959\n",
            "  eval_accuracy: 0.8550000190734863\n",
            "  train_loss: 0.010030524735338987\n",
            "  train_accuracy: 0.9973999857902527\n",
            "  mean_eval_loss: 0.7705645449459553\n"
          ]
        },
        {
          "name": "stderr",
          "output_type": "stream",
          "text": [
            "Epoch 41: 100%|██████████| 20/20 [00:01<00:00, 17.97it/s]\n",
            "Epoch 42: 100%|██████████| 20/20 [00:01<00:00, 17.84it/s]\n",
            "Epoch 43: 100%|██████████| 20/20 [00:01<00:00, 18.22it/s]\n",
            "Epoch 44: 100%|██████████| 20/20 [00:01<00:00, 18.15it/s]\n",
            "Epoch 45:  90%|█████████ | 18/20 [00:01<00:00, 17.70it/s]\n",
            "Evaluating:   0%|          | 0/4 [00:00<?, ?it/s]\u001b[A\n",
            "Evaluating: 100%|██████████| 4/4 [00:00<00:00, 19.76it/s]\n",
            "\n",
            "Evaluating:   0%|          | 0/20 [00:00<?, ?it/s]\u001b[A\n",
            "Evaluating:  10%|█         | 2/20 [00:00<00:00, 19.82it/s]\u001b[A\n",
            "Evaluating:  20%|██        | 4/20 [00:00<00:00, 19.10it/s]\u001b[A\n",
            "Evaluating:  30%|███       | 6/20 [00:00<00:00, 18.02it/s]\u001b[A\n",
            "Evaluating:  40%|████      | 8/20 [00:00<00:00, 17.34it/s]\u001b[A\n",
            "Evaluating:  50%|█████     | 10/20 [00:00<00:00, 17.58it/s]\u001b[A\n",
            "Evaluating:  60%|██████    | 12/20 [00:00<00:00, 17.79it/s]\u001b[A\n",
            "Evaluating:  70%|███████   | 14/20 [00:00<00:00, 15.86it/s]\u001b[A\n",
            "Evaluating:  80%|████████  | 16/20 [00:00<00:00, 14.92it/s]\u001b[A\n",
            "Evaluating:  90%|█████████ | 18/20 [00:01<00:00, 14.56it/s]\u001b[A\n",
            "Evaluating: 100%|██████████| 20/20 [00:01<00:00, 16.21it/s]\n",
            "Epoch 45: 100%|██████████| 20/20 [00:02<00:00,  7.80it/s]\n"
          ]
        },
        {
          "name": "stdout",
          "output_type": "stream",
          "text": [
            "\n",
            "Metrics step 900:\n",
            "  mean_train_loss: 0.1098731806533437\n",
            "  learning_rate: 0.055050044949999356\n",
            "  eval_loss: 0.9847196340560913\n",
            "  eval_accuracy: 0.8529999852180481\n",
            "  train_loss: 0.015786550764460117\n",
            "  train_accuracy: 0.9945999979972839\n",
            "  mean_eval_loss: 0.7943595548470815\n"
          ]
        },
        {
          "name": "stderr",
          "output_type": "stream",
          "text": [
            "Epoch 46: 100%|██████████| 20/20 [00:01<00:00, 13.39it/s]\n",
            "Epoch 47: 100%|██████████| 20/20 [00:01<00:00, 16.35it/s]\n",
            "Epoch 48: 100%|██████████| 20/20 [00:01<00:00, 17.84it/s]\n",
            "Epoch 49: 100%|██████████| 20/20 [00:01<00:00, 18.51it/s]\n",
            "Epoch 50:  90%|█████████ | 18/20 [00:00<00:00, 18.12it/s]\n",
            "Evaluating:   0%|          | 0/4 [00:00<?, ?it/s]\u001b[A\n",
            "Evaluating: 100%|██████████| 4/4 [00:00<00:00, 19.61it/s]\n",
            "\n",
            "Evaluating:   0%|          | 0/20 [00:00<?, ?it/s]\u001b[A\n",
            "Evaluating:  10%|█         | 2/20 [00:00<00:00, 18.45it/s]\u001b[A\n",
            "Evaluating:  20%|██        | 4/20 [00:00<00:00, 18.23it/s]\u001b[A\n",
            "Evaluating:  30%|███       | 6/20 [00:00<00:00, 17.95it/s]\u001b[A\n",
            "Evaluating:  40%|████      | 8/20 [00:00<00:00, 17.90it/s]\u001b[A\n",
            "Evaluating:  50%|█████     | 10/20 [00:00<00:00, 17.85it/s]\u001b[A\n",
            "Evaluating:  60%|██████    | 12/20 [00:00<00:00, 17.41it/s]\u001b[A\n",
            "Evaluating:  70%|███████   | 14/20 [00:00<00:00, 17.57it/s]\u001b[A\n",
            "Evaluating:  80%|████████  | 16/20 [00:00<00:00, 17.79it/s]\u001b[A\n",
            "Evaluating: 100%|██████████| 20/20 [00:01<00:00, 18.07it/s]\n",
            "Epoch 50: 100%|██████████| 20/20 [00:02<00:00,  8.23it/s]\n"
          ]
        },
        {
          "name": "stdout",
          "output_type": "stream",
          "text": [
            "\n",
            "Metrics step 1000:\n",
            "  mean_train_loss: 0.09958297603111714\n",
            "  learning_rate: 0.050050049949999446\n",
            "  eval_loss: 0.9532255679368973\n",
            "  eval_accuracy: 0.8569999933242798\n",
            "  train_loss: 0.0016952499383478426\n",
            "  train_accuracy: 0.9994000196456909\n",
            "  mean_eval_loss: 0.8102461561560631\n"
          ]
        },
        {
          "name": "stderr",
          "output_type": "stream",
          "text": [
            "Epoch 51: 100%|██████████| 20/20 [00:01<00:00, 17.98it/s]\n",
            "Epoch 52: 100%|██████████| 20/20 [00:01<00:00, 17.90it/s]\n",
            "Epoch 53: 100%|██████████| 20/20 [00:01<00:00, 17.24it/s]\n",
            "Epoch 54: 100%|██████████| 20/20 [00:01<00:00, 17.44it/s]\n",
            "Epoch 55:  90%|█████████ | 18/20 [00:01<00:00, 13.82it/s]\n",
            "Evaluating:   0%|          | 0/4 [00:00<?, ?it/s]\u001b[A\n",
            "Evaluating:  50%|█████     | 2/4 [00:00<00:00, 13.15it/s]\u001b[A\n",
            "Evaluating: 100%|██████████| 4/4 [00:00<00:00, 13.41it/s]\n",
            "\n",
            "Evaluating:   0%|          | 0/20 [00:00<?, ?it/s]\u001b[A\n",
            "Evaluating:  10%|█         | 2/20 [00:00<00:01, 13.84it/s]\u001b[A\n",
            "Evaluating:  20%|██        | 4/20 [00:00<00:01, 12.03it/s]\u001b[A\n",
            "Evaluating:  30%|███       | 6/20 [00:00<00:01, 12.63it/s]\u001b[A\n",
            "Evaluating:  40%|████      | 8/20 [00:00<00:00, 14.39it/s]\u001b[A\n",
            "Evaluating:  50%|█████     | 10/20 [00:00<00:00, 15.61it/s]\u001b[A\n",
            "Evaluating:  60%|██████    | 12/20 [00:00<00:00, 15.94it/s]\u001b[A\n",
            "Evaluating:  70%|███████   | 14/20 [00:00<00:00, 16.59it/s]\u001b[A\n",
            "Evaluating:  80%|████████  | 16/20 [00:01<00:00, 16.99it/s]\u001b[A\n",
            "Evaluating: 100%|██████████| 20/20 [00:01<00:00, 14.69it/s]\n",
            "Epoch 55: 100%|██████████| 20/20 [00:03<00:00,  6.37it/s]\n"
          ]
        },
        {
          "name": "stdout",
          "output_type": "stream",
          "text": [
            "\n",
            "Metrics step 1100:\n",
            "  mean_train_loss: 0.09066212472802197\n",
            "  learning_rate: 0.045050054949999536\n",
            "  eval_loss: 0.9964320510625839\n",
            "  eval_accuracy: 0.8429999947547913\n",
            "  train_loss: 0.00035500308440532534\n",
            "  train_accuracy: 1.0\n",
            "  mean_eval_loss: 0.8271721466021105\n"
          ]
        },
        {
          "name": "stderr",
          "output_type": "stream",
          "text": [
            "Epoch 56: 100%|██████████| 20/20 [00:01<00:00, 18.29it/s]\n",
            "Epoch 57: 100%|██████████| 20/20 [00:01<00:00, 17.57it/s]\n",
            "Epoch 58: 100%|██████████| 20/20 [00:01<00:00, 18.31it/s]\n",
            "Epoch 59: 100%|██████████| 20/20 [00:01<00:00, 18.06it/s]\n",
            "Epoch 60:  90%|█████████ | 18/20 [00:01<00:00, 17.27it/s]\n",
            "Evaluating:   0%|          | 0/4 [00:00<?, ?it/s]\u001b[A\n",
            "Evaluating: 100%|██████████| 4/4 [00:00<00:00, 18.92it/s]\n",
            "\n",
            "Evaluating:   0%|          | 0/20 [00:00<?, ?it/s]\u001b[A\n",
            "Evaluating:  10%|█         | 2/20 [00:00<00:00, 18.90it/s]\u001b[A\n",
            "Evaluating:  20%|██        | 4/20 [00:00<00:00, 18.68it/s]\u001b[A\n",
            "Evaluating:  30%|███       | 6/20 [00:00<00:00, 18.76it/s]\u001b[A\n",
            "Evaluating:  40%|████      | 8/20 [00:00<00:00, 18.32it/s]\u001b[A\n",
            "Evaluating:  50%|█████     | 10/20 [00:00<00:00, 18.53it/s]\u001b[A\n",
            "Evaluating:  60%|██████    | 12/20 [00:00<00:00, 18.57it/s]\u001b[A\n",
            "Evaluating:  70%|███████   | 14/20 [00:00<00:00, 18.11it/s]\u001b[A\n",
            "Evaluating:  80%|████████  | 16/20 [00:00<00:00, 18.13it/s]\u001b[A\n",
            "Evaluating: 100%|██████████| 20/20 [00:01<00:00, 18.59it/s]\n",
            "Epoch 60: 100%|██████████| 20/20 [00:02<00:00,  8.18it/s]\n"
          ]
        },
        {
          "name": "stdout",
          "output_type": "stream",
          "text": [
            "\n",
            "Metrics step 1200:\n",
            "  mean_train_loss: 0.08314866057578305\n",
            "  learning_rate: 0.04005005994999966\n",
            "  eval_loss: 0.9798228740692139\n",
            "  eval_accuracy: 0.8550000190734863\n",
            "  train_loss: 0.00020163437475275713\n",
            "  train_accuracy: 1.0\n",
            "  mean_eval_loss: 0.8398930405577024\n"
          ]
        },
        {
          "name": "stderr",
          "output_type": "stream",
          "text": [
            "Epoch 61: 100%|██████████| 20/20 [00:01<00:00, 17.80it/s]\n",
            "Epoch 62: 100%|██████████| 20/20 [00:01<00:00, 17.35it/s]\n",
            "Epoch 63: 100%|██████████| 20/20 [00:01<00:00, 13.89it/s]\n",
            "Epoch 64: 100%|██████████| 20/20 [00:01<00:00, 15.03it/s]\n",
            "Epoch 65:  90%|█████████ | 18/20 [00:00<00:00, 17.88it/s]\n",
            "Evaluating:   0%|          | 0/4 [00:00<?, ?it/s]\u001b[A\n",
            "Evaluating: 100%|██████████| 4/4 [00:00<00:00, 19.63it/s]\n",
            "\n",
            "Evaluating:   0%|          | 0/20 [00:00<?, ?it/s]\u001b[A\n",
            "Evaluating:  10%|█         | 2/20 [00:00<00:00, 19.04it/s]\u001b[A\n",
            "Evaluating:  20%|██        | 4/20 [00:00<00:00, 18.22it/s]\u001b[A\n",
            "Evaluating:  30%|███       | 6/20 [00:00<00:00, 18.75it/s]\u001b[A\n",
            "Evaluating:  40%|████      | 8/20 [00:00<00:00, 18.46it/s]\u001b[A\n",
            "Evaluating:  50%|█████     | 10/20 [00:00<00:00, 18.08it/s]\u001b[A\n",
            "Evaluating:  60%|██████    | 12/20 [00:00<00:00, 18.27it/s]\u001b[A\n",
            "Evaluating:  70%|███████   | 14/20 [00:00<00:00, 18.27it/s]\u001b[A\n",
            "Evaluating:  80%|████████  | 16/20 [00:00<00:00, 18.42it/s]\u001b[A\n",
            "Evaluating: 100%|██████████| 20/20 [00:01<00:00, 18.76it/s]\n",
            "Epoch 65: 100%|██████████| 20/20 [00:02<00:00,  8.39it/s]\n"
          ]
        },
        {
          "name": "stdout",
          "output_type": "stream",
          "text": [
            "\n",
            "Metrics step 1300:\n",
            "  mean_train_loss: 0.07677762059682909\n",
            "  learning_rate: 0.03505006494999977\n",
            "  eval_loss: 1.0386887043714523\n",
            "  eval_accuracy: 0.8500000238418579\n",
            "  train_loss: 0.00014039989036973566\n",
            "  train_accuracy: 1.0\n",
            "  mean_eval_loss: 0.8551850146972216\n"
          ]
        },
        {
          "name": "stderr",
          "output_type": "stream",
          "text": [
            "Epoch 66: 100%|██████████| 20/20 [00:01<00:00, 18.18it/s]\n",
            "Epoch 67: 100%|██████████| 20/20 [00:01<00:00, 18.03it/s]\n",
            "Epoch 68: 100%|██████████| 20/20 [00:01<00:00, 18.21it/s]\n",
            "Epoch 69: 100%|██████████| 20/20 [00:01<00:00, 18.49it/s]\n",
            "Epoch 70:  90%|█████████ | 18/20 [00:00<00:00, 18.23it/s]\n",
            "Evaluating:   0%|          | 0/4 [00:00<?, ?it/s]\u001b[A\n",
            "Evaluating: 100%|██████████| 4/4 [00:00<00:00, 19.59it/s]\n",
            "\n",
            "Evaluating:   0%|          | 0/20 [00:00<?, ?it/s]\u001b[A\n",
            "Evaluating:  10%|█         | 2/20 [00:00<00:00, 19.78it/s]\u001b[A\n",
            "Evaluating:  20%|██        | 4/20 [00:00<00:00, 18.61it/s]\u001b[A\n",
            "Evaluating:  30%|███       | 6/20 [00:00<00:00, 18.08it/s]\u001b[A\n",
            "Evaluating:  40%|████      | 8/20 [00:00<00:00, 18.25it/s]\u001b[A\n",
            "Evaluating:  50%|█████     | 10/20 [00:00<00:00, 18.48it/s]\u001b[A\n",
            "Evaluating:  60%|██████    | 12/20 [00:00<00:00, 18.40it/s]\u001b[A\n",
            "Evaluating:  70%|███████   | 14/20 [00:00<00:00, 17.78it/s]\u001b[A\n",
            "Evaluating:  80%|████████  | 16/20 [00:00<00:00, 18.18it/s]\u001b[A\n",
            "Evaluating: 100%|██████████| 20/20 [00:01<00:00, 18.80it/s]\n",
            "Epoch 70: 100%|██████████| 20/20 [00:02<00:00,  8.35it/s]\n"
          ]
        },
        {
          "name": "stdout",
          "output_type": "stream",
          "text": [
            "\n",
            "Metrics step 1400:\n",
            "  mean_train_loss: 0.07132103998110584\n",
            "  learning_rate: 0.030050069949999845\n",
            "  eval_loss: 1.0503972321748734\n",
            "  eval_accuracy: 0.8529999852180481\n",
            "  train_loss: 0.0001261177378182765\n",
            "  train_accuracy: 1.0\n",
            "  mean_eval_loss: 0.8691287445170539\n"
          ]
        },
        {
          "name": "stderr",
          "output_type": "stream",
          "text": [
            "Epoch 71: 100%|██████████| 20/20 [00:01<00:00, 14.08it/s]\n",
            "Epoch 72: 100%|██████████| 20/20 [00:01<00:00, 14.19it/s]\n",
            "Epoch 73: 100%|██████████| 20/20 [00:01<00:00, 18.23it/s]\n",
            "Epoch 74: 100%|██████████| 20/20 [00:01<00:00, 18.55it/s]\n",
            "Epoch 75:  90%|█████████ | 18/20 [00:01<00:00, 16.83it/s]\n",
            "Evaluating:   0%|          | 0/4 [00:00<?, ?it/s]\u001b[A\n",
            "Evaluating:  50%|█████     | 2/4 [00:00<00:00, 19.28it/s]\u001b[A\n",
            "Evaluating: 100%|██████████| 4/4 [00:00<00:00, 18.83it/s]\n",
            "\n",
            "Evaluating:   0%|          | 0/20 [00:00<?, ?it/s]\u001b[A\n",
            "Evaluating:  10%|█         | 2/20 [00:00<00:01, 17.10it/s]\u001b[A\n",
            "Evaluating:  20%|██        | 4/20 [00:00<00:00, 17.60it/s]\u001b[A\n",
            "Evaluating:  30%|███       | 6/20 [00:00<00:00, 17.66it/s]\u001b[A\n",
            "Evaluating:  40%|████      | 8/20 [00:00<00:00, 17.79it/s]\u001b[A\n",
            "Evaluating:  50%|█████     | 10/20 [00:00<00:00, 17.88it/s]\u001b[A\n",
            "Evaluating:  60%|██████    | 12/20 [00:00<00:00, 18.14it/s]\u001b[A\n",
            "Evaluating:  70%|███████   | 14/20 [00:00<00:00, 18.12it/s]\u001b[A\n",
            "Evaluating:  80%|████████  | 16/20 [00:00<00:00, 18.21it/s]\u001b[A\n",
            "Evaluating: 100%|██████████| 20/20 [00:01<00:00, 18.52it/s]\n",
            "Epoch 75: 100%|██████████| 20/20 [00:02<00:00,  8.13it/s]\n"
          ]
        },
        {
          "name": "stdout",
          "output_type": "stream",
          "text": [
            "\n",
            "Metrics step 1500:\n",
            "  mean_train_loss: 0.06658231167246897\n",
            "  learning_rate: 0.025050074949999862\n",
            "  eval_loss: 1.0899312645196915\n",
            "  eval_accuracy: 0.8500000238418579\n",
            "  train_loss: 9.423681203770684e-05\n",
            "  train_accuracy: 1.0\n",
            "  mean_eval_loss: 0.8838489125172297\n"
          ]
        },
        {
          "name": "stderr",
          "output_type": "stream",
          "text": [
            "Epoch 76: 100%|██████████| 20/20 [00:01<00:00, 18.27it/s]\n",
            "Epoch 77: 100%|██████████| 20/20 [00:01<00:00, 18.35it/s]\n",
            "Epoch 78: 100%|██████████| 20/20 [00:01<00:00, 18.47it/s]\n",
            "Epoch 79: 100%|██████████| 20/20 [00:01<00:00, 17.60it/s]\n",
            "Epoch 80:  90%|█████████ | 18/20 [00:01<00:00, 13.21it/s]\n",
            "Evaluating:   0%|          | 0/4 [00:00<?, ?it/s]\u001b[A\n",
            "Evaluating:  50%|█████     | 2/4 [00:00<00:00, 14.09it/s]\u001b[A\n",
            "Evaluating: 100%|██████████| 4/4 [00:00<00:00, 13.91it/s]\n",
            "\n",
            "Evaluating:   0%|          | 0/20 [00:00<?, ?it/s]\u001b[A\n",
            "Evaluating:  10%|█         | 2/20 [00:00<00:01, 14.60it/s]\u001b[A\n",
            "Evaluating:  20%|██        | 4/20 [00:00<00:01, 14.19it/s]\u001b[A\n",
            "Evaluating:  30%|███       | 6/20 [00:00<00:00, 14.13it/s]\u001b[A\n",
            "Evaluating:  40%|████      | 8/20 [00:00<00:00, 13.20it/s]\u001b[A\n",
            "Evaluating:  50%|█████     | 10/20 [00:00<00:00, 13.18it/s]\u001b[A\n",
            "Evaluating:  60%|██████    | 12/20 [00:00<00:00, 13.29it/s]\u001b[A\n",
            "Evaluating:  70%|███████   | 14/20 [00:01<00:00, 12.61it/s]\u001b[A\n",
            "Evaluating:  80%|████████  | 16/20 [00:01<00:00, 12.70it/s]\u001b[A\n",
            "Evaluating: 100%|██████████| 20/20 [00:01<00:00, 14.12it/s]\n",
            "Epoch 80: 100%|██████████| 20/20 [00:03<00:00,  6.46it/s]\n"
          ]
        },
        {
          "name": "stdout",
          "output_type": "stream",
          "text": [
            "\n",
            "Metrics step 1600:\n",
            "  mean_train_loss: 0.062435871107088585\n",
            "  learning_rate: 0.02005007994999987\n",
            "  eval_loss: 1.0432142913341522\n",
            "  eval_accuracy: 0.8579999804496765\n",
            "  train_loss: 0.00010692996002035216\n",
            "  train_accuracy: 1.0\n",
            "  mean_eval_loss: 0.8938092486932874\n"
          ]
        },
        {
          "name": "stderr",
          "output_type": "stream",
          "text": [
            "Epoch 81: 100%|██████████| 20/20 [00:01<00:00, 17.92it/s]\n",
            "Epoch 82: 100%|██████████| 20/20 [00:01<00:00, 18.24it/s]\n",
            "Epoch 83: 100%|██████████| 20/20 [00:01<00:00, 18.24it/s]\n",
            "Epoch 84: 100%|██████████| 20/20 [00:01<00:00, 18.34it/s]\n",
            "Epoch 85:  90%|█████████ | 18/20 [00:01<00:00, 18.07it/s]\n",
            "Evaluating:   0%|          | 0/4 [00:00<?, ?it/s]\u001b[A\n",
            "Evaluating: 100%|██████████| 4/4 [00:00<00:00, 19.45it/s]\n",
            "\n",
            "Evaluating:   0%|          | 0/20 [00:00<?, ?it/s]\u001b[A\n",
            "Evaluating:  10%|█         | 2/20 [00:00<00:00, 19.29it/s]\u001b[A\n",
            "Evaluating:  20%|██        | 4/20 [00:00<00:00, 18.05it/s]\u001b[A\n",
            "Evaluating:  30%|███       | 6/20 [00:00<00:00, 18.19it/s]\u001b[A\n",
            "Evaluating:  40%|████      | 8/20 [00:00<00:00, 17.98it/s]\u001b[A\n",
            "Evaluating:  50%|█████     | 10/20 [00:00<00:00, 18.13it/s]\u001b[A\n",
            "Evaluating:  60%|██████    | 12/20 [00:00<00:00, 18.37it/s]\u001b[A\n",
            "Evaluating:  70%|███████   | 14/20 [00:00<00:00, 18.04it/s]\u001b[A\n",
            "Evaluating:  80%|████████  | 16/20 [00:00<00:00, 18.11it/s]\u001b[A\n",
            "Evaluating: 100%|██████████| 20/20 [00:01<00:00, 18.61it/s]\n",
            "Epoch 85: 100%|██████████| 20/20 [00:02<00:00,  8.27it/s]\n"
          ]
        },
        {
          "name": "stdout",
          "output_type": "stream",
          "text": [
            "\n",
            "Metrics step 1700:\n",
            "  mean_train_loss: 0.05877341744773302\n",
            "  learning_rate: 0.015050084949999864\n",
            "  eval_loss: 1.062352642416954\n",
            "  eval_accuracy: 0.8640000224113464\n",
            "  train_loss: 0.0001000924577965634\n",
            "  train_accuracy: 1.0\n",
            "  mean_eval_loss: 0.9037235659711501\n"
          ]
        },
        {
          "name": "stderr",
          "output_type": "stream",
          "text": [
            "Epoch 86: 100%|██████████| 20/20 [00:01<00:00, 17.98it/s]\n",
            "Epoch 87: 100%|██████████| 20/20 [00:01<00:00, 18.56it/s]\n",
            "Epoch 88: 100%|██████████| 20/20 [00:01<00:00, 15.97it/s]\n",
            "Epoch 89: 100%|██████████| 20/20 [00:01<00:00, 13.15it/s]\n",
            "Epoch 90:  90%|█████████ | 18/20 [00:01<00:00, 17.82it/s]\n",
            "Evaluating:   0%|          | 0/4 [00:00<?, ?it/s]\u001b[A\n",
            "Evaluating:  50%|█████     | 2/4 [00:00<00:00, 19.89it/s]\u001b[A\n",
            "Evaluating: 100%|██████████| 4/4 [00:00<00:00, 18.53it/s]\n",
            "\n",
            "Evaluating:   0%|          | 0/20 [00:00<?, ?it/s]\u001b[A\n",
            "Evaluating:  10%|█         | 2/20 [00:00<00:01, 17.87it/s]\u001b[A\n",
            "Evaluating:  20%|██        | 4/20 [00:00<00:00, 18.13it/s]\u001b[A\n",
            "Evaluating:  30%|███       | 6/20 [00:00<00:00, 18.42it/s]\u001b[A\n",
            "Evaluating:  40%|████      | 8/20 [00:00<00:00, 18.58it/s]\u001b[A\n",
            "Evaluating:  50%|█████     | 10/20 [00:00<00:00, 18.74it/s]\u001b[A\n",
            "Evaluating:  60%|██████    | 12/20 [00:00<00:00, 18.71it/s]\u001b[A\n",
            "Evaluating:  70%|███████   | 14/20 [00:00<00:00, 18.78it/s]\u001b[A\n",
            "Evaluating:  80%|████████  | 16/20 [00:00<00:00, 18.76it/s]\u001b[A\n",
            "Evaluating: 100%|██████████| 20/20 [00:01<00:00, 18.98it/s]\n",
            "Epoch 90: 100%|██████████| 20/20 [00:02<00:00,  8.11it/s]\n"
          ]
        },
        {
          "name": "stdout",
          "output_type": "stream",
          "text": [
            "\n",
            "Metrics step 1800:\n",
            "  mean_train_loss: 0.05551777346386087\n",
            "  learning_rate: 0.010050089949999917\n",
            "  eval_loss: 1.0621169060468674\n",
            "  eval_accuracy: 0.8539999723434448\n",
            "  train_loss: 9.088557508221128e-05\n",
            "  train_accuracy: 1.0\n",
            "  mean_eval_loss: 0.9125231959753566\n"
          ]
        },
        {
          "name": "stderr",
          "output_type": "stream",
          "text": [
            "Epoch 91: 100%|██████████| 20/20 [00:01<00:00, 18.21it/s]\n",
            "Epoch 92: 100%|██████████| 20/20 [00:01<00:00, 17.32it/s]\n",
            "Epoch 93: 100%|██████████| 20/20 [00:01<00:00, 16.28it/s]\n",
            "Epoch 94: 100%|██████████| 20/20 [00:01<00:00, 18.11it/s]\n",
            "Epoch 95:  90%|█████████ | 18/20 [00:01<00:00, 17.67it/s]\n",
            "Evaluating:   0%|          | 0/4 [00:00<?, ?it/s]\u001b[A\n",
            "Evaluating: 100%|██████████| 4/4 [00:00<00:00, 19.25it/s]\n",
            "\n",
            "Evaluating:   0%|          | 0/20 [00:00<?, ?it/s]\u001b[A\n",
            "Evaluating:  10%|█         | 2/20 [00:00<00:00, 19.65it/s]\u001b[A\n",
            "Evaluating:  20%|██        | 4/20 [00:00<00:00, 17.95it/s]\u001b[A\n",
            "Evaluating:  30%|███       | 6/20 [00:00<00:00, 18.36it/s]\u001b[A\n",
            "Evaluating:  40%|████      | 8/20 [00:00<00:00, 18.56it/s]\u001b[A\n",
            "Evaluating:  50%|█████     | 10/20 [00:00<00:00, 18.61it/s]\u001b[A\n",
            "Evaluating:  60%|██████    | 12/20 [00:00<00:00, 18.72it/s]\u001b[A\n",
            "Evaluating:  70%|███████   | 14/20 [00:00<00:00, 18.46it/s]\u001b[A\n",
            "Evaluating:  80%|████████  | 16/20 [00:00<00:00, 17.90it/s]\u001b[A\n",
            "Evaluating: 100%|██████████| 20/20 [00:01<00:00, 18.32it/s]\n",
            "Epoch 95: 100%|██████████| 20/20 [00:02<00:00,  8.19it/s]\n"
          ]
        },
        {
          "name": "stdout",
          "output_type": "stream",
          "text": [
            "\n",
            "Metrics step 1900:\n",
            "  mean_train_loss: 0.052604551622938936\n",
            "  learning_rate: 0.005050094949999962\n",
            "  eval_loss: 1.0298142284154892\n",
            "  eval_accuracy: 0.8560000061988831\n",
            "  train_loss: 7.99670146079734e-05\n",
            "  train_accuracy: 1.0\n",
            "  mean_eval_loss: 0.9186964082090479\n"
          ]
        },
        {
          "name": "stderr",
          "output_type": "stream",
          "text": [
            "Epoch 96: 100%|██████████| 20/20 [00:01<00:00, 15.43it/s]\n",
            "Epoch 97: 100%|██████████| 20/20 [00:01<00:00, 13.68it/s]\n",
            "Epoch 98: 100%|██████████| 20/20 [00:01<00:00, 17.60it/s]\n",
            "Epoch 99: 100%|██████████| 20/20 [00:01<00:00, 18.50it/s]\n",
            "Epoch 100:  90%|█████████ | 18/20 [00:01<00:00, 17.78it/s]\n",
            "Evaluating:   0%|          | 0/4 [00:00<?, ?it/s]\u001b[A\n",
            "Evaluating: 100%|██████████| 4/4 [00:00<00:00, 18.97it/s]\n",
            "\n",
            "Evaluating:   0%|          | 0/20 [00:00<?, ?it/s]\u001b[A\n",
            "Evaluating:  10%|█         | 2/20 [00:00<00:01, 17.54it/s]\u001b[A\n",
            "Evaluating:  20%|██        | 4/20 [00:00<00:00, 17.34it/s]\u001b[A\n",
            "Evaluating:  30%|███       | 6/20 [00:00<00:00, 17.66it/s]\u001b[A\n",
            "Evaluating:  40%|████      | 8/20 [00:00<00:00, 17.90it/s]\u001b[A\n",
            "Evaluating:  50%|█████     | 10/20 [00:00<00:00, 18.00it/s]\u001b[A\n",
            "Evaluating:  60%|██████    | 12/20 [00:00<00:00, 18.28it/s]\u001b[A\n",
            "Evaluating:  70%|███████   | 14/20 [00:00<00:00, 18.26it/s]\u001b[A\n",
            "Evaluating:  80%|████████  | 16/20 [00:00<00:00, 18.41it/s]\u001b[A\n",
            "Evaluating: 100%|██████████| 20/20 [00:01<00:00, 18.34it/s]\n",
            "Epoch 100: 100%|██████████| 20/20 [00:02<00:00,  8.21it/s]"
          ]
        },
        {
          "name": "stdout",
          "output_type": "stream",
          "text": [
            "\n",
            "Metrics step 2000:\n",
            "  mean_train_loss: 0.049983793968605826\n",
            "  learning_rate: 5.009994999999962e-05\n",
            "  eval_loss: 0.9968455284833908\n",
            "  eval_accuracy: 0.8659999966621399\n",
            "  train_loss: 8.50287617140566e-05\n",
            "  train_accuracy: 1.0\n",
            "  mean_eval_loss: 0.922603864222765\n"
          ]
        },
        {
          "name": "stderr",
          "output_type": "stream",
          "text": [
            "\n"
          ]
        }
      ],
      "source": [
        "# TODO: set your hyperparameters\n",
        "bs = 256\n",
        "num_epochs = 100\n",
        "lr = 0.1\n",
        "eval_steps = 100\n",
        "\n",
        "# Create dataloaders\n",
        "train_dataloader = DataLoader(train_dataset, batch_size=bs, shuffle=True)\n",
        "validation_dataloader = DataLoader(validation_dataset, batch_size=bs, shuffle=False)\n",
        "test_dataloader = DataLoader(test_dataset, batch_size=bs, shuffle=False)\n",
        "\n",
        "train_dataloader_H = DataLoader(train_dataset_H, batch_size=bs, shuffle=True)\n",
        "validation_dataloader_H = DataLoader(validation_dataset_H, batch_size=bs, shuffle=False)\n",
        "test_dataloader_H = DataLoader(test_dataset_H, batch_size=bs, shuffle=False)\n",
        "\n",
        "train_dataloader_V = DataLoader(train_dataset_V, batch_size=bs, shuffle=True)\n",
        "validation_dataloader_V = DataLoader(validation_dataset_V, batch_size=bs, shuffle=False)\n",
        "test_dataloader_V = DataLoader(test_dataset_V, batch_size=bs, shuffle=False)\n",
        "# Instantiate a new model\n",
        "model = FashionMnistResNet18()\n",
        "\n",
        "# Train model and save training and evaluation metrics\n",
        "metrics_dict = train(\n",
        "    model, train_dataloader, validation_dataloader, num_epochs=num_epochs, lr=lr, eval_steps=eval_steps\n",
        ")\n",
        "\n",
        "metrics_dict_H = train(\n",
        "    model, train_dataloader_H, validation_dataloader_H, num_epochs=num_epochs, lr=lr, eval_steps=eval_steps\n",
        ")\n",
        "\n",
        "metrics_dict_V = train(\n",
        "    model, train_dataloader_V, validation_dataloader_V, num_epochs=num_epochs, lr=lr, eval_steps=eval_steps\n",
        ")\n"
      ]
    },
    {
      "cell_type": "markdown",
      "metadata": {
        "id": "C27zjwzquLGx"
      },
      "source": [
        "### 10. Load our saved best model checkpoint\n",
        " \n",
        "We can make use of the `load_best_model` function defined above to quickly load \\\n",
        "the best model checkpoint for further evaluation.\n",
        "\n",
        "You can find more information on saving and loading model weights at\n",
        "\n",
        "https://pytorch.org/tutorials/beginner/saving_loading_models.html."
      ]
    },
    {
      "cell_type": "code",
      "execution_count": null,
      "metadata": {
        "colab": {
          "base_uri": "https://localhost:8080/"
        },
        "id": "w8AolrjruF4I",
        "outputId": "26d4e08a-94fa-4bee-cbc3-6febb066a4e7"
      },
      "outputs": [
        {
          "name": "stdout",
          "output_type": "stream",
          "text": [
            "Loaded best FashionMnistResNet18 model from best_model.pt\n",
            "\n"
          ]
        }
      ],
      "source": [
        "best_model = load_best_model(FashionMnistResNet18())"
      ]
    },
    {
      "cell_type": "markdown",
      "metadata": {
        "id": "t4DlELCbvybc"
      },
      "source": [
        "### 11. Evaluate your best model and visualize the confusion matrix\n",
        "\n",
        "TODO: You should implement this yourself using the functions defined above."
      ]
    },
    {
      "cell_type": "code",
      "execution_count": null,
      "metadata": {
        "colab": {
          "base_uri": "https://localhost:8080/"
        },
        "id": "WKHN3rh6v-mU",
        "outputId": "11e988dc-93a7-46ae-ca0f-987cd6cdf550"
      },
      "outputs": [
        {
          "name": "stderr",
          "output_type": "stream",
          "text": [
            "Evaluating: 100%|██████████| 4/4 [00:00<00:00, 20.27it/s]\n",
            "Evaluating: 100%|██████████| 4/4 [00:00<00:00, 15.30it/s]\n",
            "Evaluating: 100%|██████████| 4/4 [00:00<00:00, 15.70it/s]\n"
          ]
        }
      ],
      "source": [
        "# TODO\n",
        "e = evaluate(best_model,test_dataloader)\n",
        "e_H = evaluate(best_model,test_dataloader_H)\n",
        "e_V = evaluate(best_model,test_dataloader_V)"
      ]
    },
    {
      "cell_type": "code",
      "execution_count": null,
      "metadata": {
        "colab": {
          "base_uri": "https://localhost:8080/"
        },
        "id": "eTQ1uQiOeoIK",
        "outputId": "815044fb-5932-40eb-e489-d6d5b6b9cdb7"
      },
      "outputs": [
        {
          "data": {
            "text/plain": [
              "array([[ 77,   0,   1,   7,   1,   1,   8,   0,   0,   0],\n",
              "       [  0,  96,   1,   5,   1,   0,   1,   0,   1,   0],\n",
              "       [  1,   0,  89,   0,   6,   0,   7,   0,   0,   0],\n",
              "       [  3,   6,   2,  76,   5,   0,   4,   0,   0,   0],\n",
              "       [  2,   0,  10,   2,  59,   0,  15,   0,   0,   0],\n",
              "       [  0,   0,   0,   0,   0, 107,   0,   3,   0,   1],\n",
              "       [ 17,   0,   8,   4,   6,   0,  62,   0,   2,   0],\n",
              "       [  0,   0,   0,   0,   0,   0,   0,  90,   0,   8],\n",
              "       [  1,   0,   0,   0,   0,   2,   2,   1, 104,   0],\n",
              "       [  0,   0,   0,   0,   0,   0,   0,   5,   0,  90]])"
            ]
          },
          "execution_count": 14,
          "metadata": {},
          "output_type": "execute_result"
        }
      ],
      "source": [
        "e['eval_conf_matrix']"
      ]
    },
    {
      "cell_type": "code",
      "execution_count": null,
      "metadata": {
        "colab": {
          "base_uri": "https://localhost:8080/"
        },
        "id": "34bckZ-EzcHp",
        "outputId": "d1577045-089e-4c56-b287-17d6c89953b0"
      },
      "outputs": [
        {
          "data": {
            "text/plain": [
              "array([[ 74,   0,   1,   8,   1,   1,  10,   0,   0,   0],\n",
              "       [  0,  96,   1,   5,   1,   0,   1,   0,   1,   0],\n",
              "       [  2,   0,  88,   0,   6,   0,   7,   0,   0,   0],\n",
              "       [  3,   8,   4,  72,   5,   0,   4,   0,   0,   0],\n",
              "       [  1,   0,  12,   2,  60,   0,  13,   0,   0,   0],\n",
              "       [  0,   0,   2,   0,   0,  99,   0,   2,   7,   1],\n",
              "       [ 15,   0,   7,   4,   7,   0,  64,   0,   2,   0],\n",
              "       [  0,   0,   0,   0,   0,   8,   0,  60,  24,   6],\n",
              "       [  2,   0,   0,   0,   0,   1,   2,   1, 104,   0],\n",
              "       [  2,   0,   0,   0,   0,   0,   0,   5,  28,  60]])"
            ]
          },
          "execution_count": 16,
          "metadata": {},
          "output_type": "execute_result"
        }
      ],
      "source": [
        "e_H['eval_conf_matrix']"
      ]
    },
    {
      "cell_type": "code",
      "execution_count": null,
      "metadata": {
        "colab": {
          "base_uri": "https://localhost:8080/"
        },
        "id": "x-XJgxG2z3h1",
        "outputId": "fe052712-32c0-4af0-fece-a9db118977f7"
      },
      "outputs": [
        {
          "data": {
            "text/plain": [
              "array([[ 81,   0,   1,   6,   1,   1,   5,   0,   0,   0],\n",
              "       [  0,  97,   1,   4,   1,   0,   1,   0,   1,   0],\n",
              "       [  0,   0,  88,   0,  10,   0,   5,   0,   0,   0],\n",
              "       [  2,   5,   2,  76,   7,   0,   3,   0,   1,   0],\n",
              "       [  2,   0,  14,   3,  60,   0,   9,   0,   0,   0],\n",
              "       [  0,   0,   0,   0,   0, 105,   0,   5,   0,   1],\n",
              "       [ 20,   0,  13,   2,   9,   0,  53,   0,   2,   0],\n",
              "       [  0,   0,   0,   0,   0,   2,   0,  90,   0,   6],\n",
              "       [  0,   0,   0,   0,   0,   2,   2,   0, 106,   0],\n",
              "       [  0,   0,   0,   0,   0,   0,   0,   5,   0,  90]])"
            ]
          },
          "execution_count": 17,
          "metadata": {},
          "output_type": "execute_result"
        }
      ],
      "source": [
        "e_V['eval_conf_matrix']"
      ]
    },
    {
      "cell_type": "markdown",
      "metadata": {
        "id": "VpGn2mqkv9H0"
      },
      "source": [
        "### 12. Plot your loss curves\n",
        "\n",
        "TODO: You should implement this yourself. Use the `metrics_dict` returned by the training loop."
      ]
    },
    {
      "cell_type": "code",
      "execution_count": null,
      "metadata": {
        "id": "DJeeESOUwzVz"
      },
      "outputs": [],
      "source": [
        "# TODO\n",
        "loss_list =[]\n",
        "metrics_dict\n",
        "for num in metrics_dict.keys():\n",
        "#   print(num, metrics_dict[num]['mean_train_loss'],metrics_dict[num]['mean_eval_loss'])\n",
        "   loss_list.append((num, metrics_dict[num]['mean_train_loss'],metrics_dict[num]['mean_eval_loss']))\n",
        "df1 = pd.DataFrame(loss_list, columns =['number','mean_train_loss','mean_eval_loss'])\n",
        "#sns.lineplot(data=df1, x= df1[\"number\"], y=df1['mean_train_loss'])"
      ]
    },
    {
      "cell_type": "code",
      "execution_count": null,
      "metadata": {
        "id": "Atu69q8Ce_lD"
      },
      "outputs": [],
      "source": [
        "loss_list =[]\n",
        "metrics_dict_H\n",
        "for num in metrics_dict_H.keys():\n",
        "#   print(num, metrics_dict[num]['mean_train_loss'],metrics_dict[num]['mean_eval_loss'])\n",
        "   loss_list.append((num, metrics_dict_H[num]['mean_train_loss'],metrics_dict_H[num]['mean_eval_loss']))\n",
        "df_H = pd.DataFrame(loss_list, columns =['number','H_flip_mean_train_loss','H_flip_mean_eval_loss'])\n",
        "#sns.lineplot(data=df1, x= df1[\"number\"], y=df1['mean_train_loss'])"
      ]
    },
    {
      "cell_type": "code",
      "execution_count": null,
      "metadata": {
        "id": "nFxKDh1J3mzN"
      },
      "outputs": [],
      "source": [
        "loss_list =[]\n",
        "metrics_dict_V\n",
        "for num in metrics_dict_V.keys():\n",
        "#   print(num, metrics_dict[num]['mean_train_loss'],metrics_dict[num]['mean_eval_loss'])\n",
        "   loss_list.append((num, metrics_dict_V[num]['mean_train_loss'],metrics_dict_V[num]['mean_eval_loss']))\n",
        "df_V = pd.DataFrame(loss_list, columns =['number','V_flip_mean_train_loss','V_flip_mean_eval_loss'])\n",
        "#sns.lineplot(data=df1, x= df1[\"number\"], y=df1['mean_train_loss'])"
      ]
    },
    {
      "cell_type": "code",
      "execution_count": null,
      "metadata": {
        "id": "FMtEcW5_9Jcn"
      },
      "outputs": [],
      "source": [
        "df_join = pd.merge(df1, df_H, how='inner', on = 'number')\n"
      ]
    },
    {
      "cell_type": "code",
      "execution_count": null,
      "metadata": {
        "colab": {
          "base_uri": "https://localhost:8080/",
          "height": 677
        },
        "id": "Rk436g5_Dg38",
        "outputId": "349a0fe0-ccb2-4c79-c875-303fe38f1814"
      },
      "outputs": [
        {
          "data": {
            "text/html": [
              "\n",
              "  <div id=\"df-acde30a1-1916-4ff1-b297-e656e07fc7ce\">\n",
              "    <div class=\"colab-df-container\">\n",
              "      <div>\n",
              "<style scoped>\n",
              "    .dataframe tbody tr th:only-of-type {\n",
              "        vertical-align: middle;\n",
              "    }\n",
              "\n",
              "    .dataframe tbody tr th {\n",
              "        vertical-align: top;\n",
              "    }\n",
              "\n",
              "    .dataframe thead th {\n",
              "        text-align: right;\n",
              "    }\n",
              "</style>\n",
              "<table border=\"1\" class=\"dataframe\">\n",
              "  <thead>\n",
              "    <tr style=\"text-align: right;\">\n",
              "      <th></th>\n",
              "      <th>number</th>\n",
              "      <th>mean_train_loss</th>\n",
              "      <th>mean_eval_loss</th>\n",
              "      <th>H_flip_mean_train_loss</th>\n",
              "      <th>H_flip_mean_eval_loss</th>\n",
              "      <th>V_flip_mean_train_loss</th>\n",
              "      <th>V_flip_mean_eval_loss</th>\n",
              "    </tr>\n",
              "  </thead>\n",
              "  <tbody>\n",
              "    <tr>\n",
              "      <th>0</th>\n",
              "      <td>100</td>\n",
              "      <td>0.842327</td>\n",
              "      <td>0.541428</td>\n",
              "      <td>0.274167</td>\n",
              "      <td>0.537221</td>\n",
              "      <td>0.483395</td>\n",
              "      <td>0.470217</td>\n",
              "    </tr>\n",
              "    <tr>\n",
              "      <th>1</th>\n",
              "      <td>200</td>\n",
              "      <td>0.587150</td>\n",
              "      <td>0.498789</td>\n",
              "      <td>0.194130</td>\n",
              "      <td>0.538815</td>\n",
              "      <td>0.338181</td>\n",
              "      <td>0.527891</td>\n",
              "    </tr>\n",
              "    <tr>\n",
              "      <th>2</th>\n",
              "      <td>300</td>\n",
              "      <td>0.456891</td>\n",
              "      <td>0.508636</td>\n",
              "      <td>0.152371</td>\n",
              "      <td>0.601631</td>\n",
              "      <td>0.265832</td>\n",
              "      <td>0.578011</td>\n",
              "    </tr>\n",
              "    <tr>\n",
              "      <th>3</th>\n",
              "      <td>400</td>\n",
              "      <td>0.369046</td>\n",
              "      <td>0.550092</td>\n",
              "      <td>0.126280</td>\n",
              "      <td>0.656420</td>\n",
              "      <td>0.218793</td>\n",
              "      <td>0.623438</td>\n",
              "    </tr>\n",
              "    <tr>\n",
              "      <th>4</th>\n",
              "      <td>500</td>\n",
              "      <td>0.310132</td>\n",
              "      <td>0.574773</td>\n",
              "      <td>0.108476</td>\n",
              "      <td>0.666164</td>\n",
              "      <td>0.185213</td>\n",
              "      <td>0.654377</td>\n",
              "    </tr>\n",
              "    <tr>\n",
              "      <th>5</th>\n",
              "      <td>600</td>\n",
              "      <td>0.264447</td>\n",
              "      <td>0.605779</td>\n",
              "      <td>0.093052</td>\n",
              "      <td>0.691892</td>\n",
              "      <td>0.159869</td>\n",
              "      <td>0.699660</td>\n",
              "    </tr>\n",
              "    <tr>\n",
              "      <th>6</th>\n",
              "      <td>700</td>\n",
              "      <td>0.228329</td>\n",
              "      <td>0.649759</td>\n",
              "      <td>0.080782</td>\n",
              "      <td>0.724846</td>\n",
              "      <td>0.138790</td>\n",
              "      <td>0.742013</td>\n",
              "    </tr>\n",
              "    <tr>\n",
              "      <th>7</th>\n",
              "      <td>800</td>\n",
              "      <td>0.200072</td>\n",
              "      <td>0.688544</td>\n",
              "      <td>0.071057</td>\n",
              "      <td>0.759827</td>\n",
              "      <td>0.122793</td>\n",
              "      <td>0.770565</td>\n",
              "    </tr>\n",
              "    <tr>\n",
              "      <th>8</th>\n",
              "      <td>900</td>\n",
              "      <td>0.177882</td>\n",
              "      <td>0.721129</td>\n",
              "      <td>0.063366</td>\n",
              "      <td>0.784814</td>\n",
              "      <td>0.109873</td>\n",
              "      <td>0.794360</td>\n",
              "    </tr>\n",
              "    <tr>\n",
              "      <th>9</th>\n",
              "      <td>1000</td>\n",
              "      <td>0.160111</td>\n",
              "      <td>0.749281</td>\n",
              "      <td>0.057131</td>\n",
              "      <td>0.803499</td>\n",
              "      <td>0.099583</td>\n",
              "      <td>0.810246</td>\n",
              "    </tr>\n",
              "    <tr>\n",
              "      <th>10</th>\n",
              "      <td>1100</td>\n",
              "      <td>0.145566</td>\n",
              "      <td>0.773553</td>\n",
              "      <td>0.051993</td>\n",
              "      <td>0.821792</td>\n",
              "      <td>0.090662</td>\n",
              "      <td>0.827172</td>\n",
              "    </tr>\n",
              "    <tr>\n",
              "      <th>11</th>\n",
              "      <td>1200</td>\n",
              "      <td>0.133455</td>\n",
              "      <td>0.788529</td>\n",
              "      <td>0.047700</td>\n",
              "      <td>0.841450</td>\n",
              "      <td>0.083149</td>\n",
              "      <td>0.839893</td>\n",
              "    </tr>\n",
              "    <tr>\n",
              "      <th>12</th>\n",
              "      <td>1300</td>\n",
              "      <td>0.123206</td>\n",
              "      <td>0.800098</td>\n",
              "      <td>0.044048</td>\n",
              "      <td>0.857094</td>\n",
              "      <td>0.076778</td>\n",
              "      <td>0.855185</td>\n",
              "    </tr>\n",
              "    <tr>\n",
              "      <th>13</th>\n",
              "      <td>1400</td>\n",
              "      <td>0.114415</td>\n",
              "      <td>0.811323</td>\n",
              "      <td>0.040914</td>\n",
              "      <td>0.872410</td>\n",
              "      <td>0.071321</td>\n",
              "      <td>0.869129</td>\n",
              "    </tr>\n",
              "    <tr>\n",
              "      <th>14</th>\n",
              "      <td>1500</td>\n",
              "      <td>0.106796</td>\n",
              "      <td>0.822036</td>\n",
              "      <td>0.038202</td>\n",
              "      <td>0.884872</td>\n",
              "      <td>0.066582</td>\n",
              "      <td>0.883849</td>\n",
              "    </tr>\n",
              "    <tr>\n",
              "      <th>15</th>\n",
              "      <td>1600</td>\n",
              "      <td>0.100127</td>\n",
              "      <td>0.832093</td>\n",
              "      <td>0.035825</td>\n",
              "      <td>0.897672</td>\n",
              "      <td>0.062436</td>\n",
              "      <td>0.893809</td>\n",
              "    </tr>\n",
              "    <tr>\n",
              "      <th>16</th>\n",
              "      <td>1700</td>\n",
              "      <td>0.094243</td>\n",
              "      <td>0.841194</td>\n",
              "      <td>0.033726</td>\n",
              "      <td>0.905788</td>\n",
              "      <td>0.058773</td>\n",
              "      <td>0.903724</td>\n",
              "    </tr>\n",
              "    <tr>\n",
              "      <th>17</th>\n",
              "      <td>1800</td>\n",
              "      <td>0.089012</td>\n",
              "      <td>0.849696</td>\n",
              "      <td>0.031860</td>\n",
              "      <td>0.913754</td>\n",
              "      <td>0.055518</td>\n",
              "      <td>0.912523</td>\n",
              "    </tr>\n",
              "    <tr>\n",
              "      <th>18</th>\n",
              "      <td>1900</td>\n",
              "      <td>0.084333</td>\n",
              "      <td>0.857120</td>\n",
              "      <td>0.030189</td>\n",
              "      <td>0.920341</td>\n",
              "      <td>0.052605</td>\n",
              "      <td>0.918696</td>\n",
              "    </tr>\n",
              "    <tr>\n",
              "      <th>19</th>\n",
              "      <td>2000</td>\n",
              "      <td>0.080120</td>\n",
              "      <td>0.864554</td>\n",
              "      <td>0.028686</td>\n",
              "      <td>0.926986</td>\n",
              "      <td>0.049984</td>\n",
              "      <td>0.922604</td>\n",
              "    </tr>\n",
              "  </tbody>\n",
              "</table>\n",
              "</div>\n",
              "      <button class=\"colab-df-convert\" onclick=\"convertToInteractive('df-acde30a1-1916-4ff1-b297-e656e07fc7ce')\"\n",
              "              title=\"Convert this dataframe to an interactive table.\"\n",
              "              style=\"display:none;\">\n",
              "        \n",
              "  <svg xmlns=\"http://www.w3.org/2000/svg\" height=\"24px\"viewBox=\"0 0 24 24\"\n",
              "       width=\"24px\">\n",
              "    <path d=\"M0 0h24v24H0V0z\" fill=\"none\"/>\n",
              "    <path d=\"M18.56 5.44l.94 2.06.94-2.06 2.06-.94-2.06-.94-.94-2.06-.94 2.06-2.06.94zm-11 1L8.5 8.5l.94-2.06 2.06-.94-2.06-.94L8.5 2.5l-.94 2.06-2.06.94zm10 10l.94 2.06.94-2.06 2.06-.94-2.06-.94-.94-2.06-.94 2.06-2.06.94z\"/><path d=\"M17.41 7.96l-1.37-1.37c-.4-.4-.92-.59-1.43-.59-.52 0-1.04.2-1.43.59L10.3 9.45l-7.72 7.72c-.78.78-.78 2.05 0 2.83L4 21.41c.39.39.9.59 1.41.59.51 0 1.02-.2 1.41-.59l7.78-7.78 2.81-2.81c.8-.78.8-2.07 0-2.86zM5.41 20L4 18.59l7.72-7.72 1.47 1.35L5.41 20z\"/>\n",
              "  </svg>\n",
              "      </button>\n",
              "      \n",
              "  <style>\n",
              "    .colab-df-container {\n",
              "      display:flex;\n",
              "      flex-wrap:wrap;\n",
              "      gap: 12px;\n",
              "    }\n",
              "\n",
              "    .colab-df-convert {\n",
              "      background-color: #E8F0FE;\n",
              "      border: none;\n",
              "      border-radius: 50%;\n",
              "      cursor: pointer;\n",
              "      display: none;\n",
              "      fill: #1967D2;\n",
              "      height: 32px;\n",
              "      padding: 0 0 0 0;\n",
              "      width: 32px;\n",
              "    }\n",
              "\n",
              "    .colab-df-convert:hover {\n",
              "      background-color: #E2EBFA;\n",
              "      box-shadow: 0px 1px 2px rgba(60, 64, 67, 0.3), 0px 1px 3px 1px rgba(60, 64, 67, 0.15);\n",
              "      fill: #174EA6;\n",
              "    }\n",
              "\n",
              "    [theme=dark] .colab-df-convert {\n",
              "      background-color: #3B4455;\n",
              "      fill: #D2E3FC;\n",
              "    }\n",
              "\n",
              "    [theme=dark] .colab-df-convert:hover {\n",
              "      background-color: #434B5C;\n",
              "      box-shadow: 0px 1px 3px 1px rgba(0, 0, 0, 0.15);\n",
              "      filter: drop-shadow(0px 1px 2px rgba(0, 0, 0, 0.3));\n",
              "      fill: #FFFFFF;\n",
              "    }\n",
              "  </style>\n",
              "\n",
              "      <script>\n",
              "        const buttonEl =\n",
              "          document.querySelector('#df-acde30a1-1916-4ff1-b297-e656e07fc7ce button.colab-df-convert');\n",
              "        buttonEl.style.display =\n",
              "          google.colab.kernel.accessAllowed ? 'block' : 'none';\n",
              "\n",
              "        async function convertToInteractive(key) {\n",
              "          const element = document.querySelector('#df-acde30a1-1916-4ff1-b297-e656e07fc7ce');\n",
              "          const dataTable =\n",
              "            await google.colab.kernel.invokeFunction('convertToInteractive',\n",
              "                                                     [key], {});\n",
              "          if (!dataTable) return;\n",
              "\n",
              "          const docLinkHtml = 'Like what you see? Visit the ' +\n",
              "            '<a target=\"_blank\" href=https://colab.research.google.com/notebooks/data_table.ipynb>data table notebook</a>'\n",
              "            + ' to learn more about interactive tables.';\n",
              "          element.innerHTML = '';\n",
              "          dataTable['output_type'] = 'display_data';\n",
              "          await google.colab.output.renderOutput(dataTable, element);\n",
              "          const docLink = document.createElement('div');\n",
              "          docLink.innerHTML = docLinkHtml;\n",
              "          element.appendChild(docLink);\n",
              "        }\n",
              "      </script>\n",
              "    </div>\n",
              "  </div>\n",
              "  "
            ],
            "text/plain": [
              "    number  mean_train_loss  mean_eval_loss  H_flip_mean_train_loss  \\\n",
              "0      100         0.842327        0.541428                0.274167   \n",
              "1      200         0.587150        0.498789                0.194130   \n",
              "2      300         0.456891        0.508636                0.152371   \n",
              "3      400         0.369046        0.550092                0.126280   \n",
              "4      500         0.310132        0.574773                0.108476   \n",
              "5      600         0.264447        0.605779                0.093052   \n",
              "6      700         0.228329        0.649759                0.080782   \n",
              "7      800         0.200072        0.688544                0.071057   \n",
              "8      900         0.177882        0.721129                0.063366   \n",
              "9     1000         0.160111        0.749281                0.057131   \n",
              "10    1100         0.145566        0.773553                0.051993   \n",
              "11    1200         0.133455        0.788529                0.047700   \n",
              "12    1300         0.123206        0.800098                0.044048   \n",
              "13    1400         0.114415        0.811323                0.040914   \n",
              "14    1500         0.106796        0.822036                0.038202   \n",
              "15    1600         0.100127        0.832093                0.035825   \n",
              "16    1700         0.094243        0.841194                0.033726   \n",
              "17    1800         0.089012        0.849696                0.031860   \n",
              "18    1900         0.084333        0.857120                0.030189   \n",
              "19    2000         0.080120        0.864554                0.028686   \n",
              "\n",
              "    H_flip_mean_eval_loss  V_flip_mean_train_loss  V_flip_mean_eval_loss  \n",
              "0                0.537221                0.483395               0.470217  \n",
              "1                0.538815                0.338181               0.527891  \n",
              "2                0.601631                0.265832               0.578011  \n",
              "3                0.656420                0.218793               0.623438  \n",
              "4                0.666164                0.185213               0.654377  \n",
              "5                0.691892                0.159869               0.699660  \n",
              "6                0.724846                0.138790               0.742013  \n",
              "7                0.759827                0.122793               0.770565  \n",
              "8                0.784814                0.109873               0.794360  \n",
              "9                0.803499                0.099583               0.810246  \n",
              "10               0.821792                0.090662               0.827172  \n",
              "11               0.841450                0.083149               0.839893  \n",
              "12               0.857094                0.076778               0.855185  \n",
              "13               0.872410                0.071321               0.869129  \n",
              "14               0.884872                0.066582               0.883849  \n",
              "15               0.897672                0.062436               0.893809  \n",
              "16               0.905788                0.058773               0.903724  \n",
              "17               0.913754                0.055518               0.912523  \n",
              "18               0.920341                0.052605               0.918696  \n",
              "19               0.926986                0.049984               0.922604  "
            ]
          },
          "execution_count": 36,
          "metadata": {},
          "output_type": "execute_result"
        }
      ],
      "source": [
        "df_all = pd.merge(df_join, df_V, how='inner', on = 'number')\n",
        "df_all"
      ]
    },
    {
      "cell_type": "code",
      "execution_count": null,
      "metadata": {
        "colab": {
          "base_uri": "https://localhost:8080/",
          "height": 490
        },
        "id": "TfxGi6OHDySn",
        "outputId": "d9a57327-92d5-4d19-dab9-c7bcf9e29667"
      },
      "outputs": [
        {
          "data": {
            "text/plain": [
              "Text(0.5, 1.0, 'mean_train_loss')"
            ]
          },
          "execution_count": 58,
          "metadata": {},
          "output_type": "execute_result"
        },
        {
          "data": {
            "image/png": "[encoded data removed]",
            "text/plain": [
              "<Figure size 640x480 with 1 Axes>"
            ]
          },
          "metadata": {},
          "output_type": "display_data"
        }
      ],
      "source": [
        "df_all.plot(x=\"number\",y = ['mean_train_loss','H_flip_mean_train_loss'])\n",
        "plt.title(\"mean_train_loss\")\n",
        "\n",
        "#plt.subplot(1, 2, 2) # index 2\n",
        "#sns.lineplot(data=df1, x= df1[\"number\"], y=df1['mean_eval_loss'],color = \"blue\")\n",
        "#plt.title(\"mean_eval_loss\")\n"
      ]
    },
    {
      "cell_type": "code",
      "execution_count": null,
      "metadata": {
        "colab": {
          "base_uri": "https://localhost:8080/",
          "height": 490
        },
        "id": "SPAOgKeeIoB3",
        "outputId": "7f1f4d71-eb69-4a08-b020-5c9259cdf18a"
      },
      "outputs": [
        {
          "data": {
            "text/plain": [
              "Text(0.5, 1.0, 'mean_eval_loss')"
            ]
          },
          "execution_count": 61,
          "metadata": {},
          "output_type": "execute_result"
        },
        {
          "data": {
            "image/png": "[encoded data removed]",
            "text/plain": [
              "<Figure size 640x480 with 1 Axes>"
            ]
          },
          "metadata": {},
          "output_type": "display_data"
        }
      ],
      "source": [
        "df_all.plot(x=\"number\",y = ['mean_eval_loss','H_flip_mean_eval_loss'])\n",
        "plt.title(\"mean_eval_loss\")\n"
      ]
    },
    {
      "cell_type": "code",
      "execution_count": null,
      "metadata": {
        "colab": {
          "base_uri": "https://localhost:8080/",
          "height": 490
        },
        "id": "DPZ4Yf6kJMTn",
        "outputId": "db230472-92ea-43a5-d9c0-89978ba3e64b"
      },
      "outputs": [
        {
          "data": {
            "text/plain": [
              "Text(0.5, 1.0, 'mean_train_loss')"
            ]
          },
          "execution_count": 62,
          "metadata": {},
          "output_type": "execute_result"
        },
        {
          "data": {
            "image/png": "[encoded data removed]",
            "text/plain": [
              "<Figure size 640x480 with 1 Axes>"
            ]
          },
          "metadata": {},
          "output_type": "display_data"
        }
      ],
      "source": [
        "#plot for Vertical Flip\n",
        "df_all.plot(x=\"number\",y = ['mean_train_loss','V_flip_mean_train_loss'])\n",
        "plt.title(\"mean_train_loss\")\n"
      ]
    },
    {
      "cell_type": "code",
      "execution_count": null,
      "metadata": {
        "colab": {
          "base_uri": "https://localhost:8080/",
          "height": 490
        },
        "id": "0d6_4DkMJZd6",
        "outputId": "50ffab42-db7f-4380-fe11-e581aa7fb9f4"
      },
      "outputs": [
        {
          "data": {
            "text/plain": [
              "Text(0.5, 1.0, 'mean_eval_loss')"
            ]
          },
          "execution_count": 63,
          "metadata": {},
          "output_type": "execute_result"
        },
        {
          "data": {
            "image/png": "[encoded data removed]",
            "text/plain": [
              "<Figure size 640x480 with 1 Axes>"
            ]
          },
          "metadata": {},
          "output_type": "display_data"
        }
      ],
      "source": [
        "df_all.plot(x=\"number\",y = ['mean_eval_loss','V_flip_mean_eval_loss'])\n",
        "plt.title(\"mean_eval_loss\")"
      ]
    },
    {
      "cell_type": "markdown",
      "metadata": {
        "id": "T9B2Pp3ywDEf"
      },
      "source": [
        "### 12. Plot your accuracy curves\n",
        "\n",
        "TODO: You should implement this yourself. Use the `metrics_dict` returned by the training loop."
      ]
    },
    {
      "cell_type": "code",
      "execution_count": null,
      "metadata": {
        "id": "5GkdPLh8w3oi"
      },
      "outputs": [],
      "source": [
        "# TODO\n",
        "acc_list =[]\n",
        "metrics_dict\n",
        "for num in metrics_dict.keys():\n",
        "    acc_list.append((num, metrics_dict[num]['eval_accuracy'],metrics_dict[num]['train_accuracy']))\n",
        "dfa = pd.DataFrame(acc_list, columns =['number','eval_accuracy','train_accuracy'])"
      ]
    },
    {
      "cell_type": "code",
      "execution_count": null,
      "metadata": {
        "id": "GvNws3wRParO"
      },
      "outputs": [],
      "source": [
        "acc_list =[]\n",
        "metrics_dict_H\n",
        "for num in metrics_dict_H.keys():\n",
        "    acc_list.append((num, metrics_dict_H[num]['eval_accuracy'],metrics_dict_H[num]['train_accuracy']))\n",
        "dfa_H = pd.DataFrame(acc_list, columns =['number','H_flip_eval_accuracy','H_flip_train_accuracy'])"
      ]
    },
    {
      "cell_type": "code",
      "execution_count": null,
      "metadata": {
        "id": "G6tKJfogP2Hl"
      },
      "outputs": [],
      "source": [
        "acc_list =[]\n",
        "metrics_dict_V\n",
        "for num in metrics_dict_V.keys():\n",
        "    acc_list.append((num, metrics_dict_V[num]['eval_accuracy'],metrics_dict_V[num]['train_accuracy']))\n",
        "dfa_V = pd.DataFrame(acc_list, columns =['number','V_flip_eval_accuracy','V_flip_train_accuracy'])"
      ]
    },
    {
      "cell_type": "code",
      "execution_count": null,
      "metadata": {
        "colab": {
          "base_uri": "https://localhost:8080/",
          "height": 677
        },
        "id": "vTUvPuCrQrI3",
        "outputId": "a0845420-86da-4421-ca80-8139bc0bbdcd"
      },
      "outputs": [
        {
          "data": {
            "text/html": [
              "\n",
              "  <div id=\"df-3fadc31f-3d35-4673-b306-d06a7ee76f01\">\n",
              "    <div class=\"colab-df-container\">\n",
              "      <div>\n",
              "<style scoped>\n",
              "    .dataframe tbody tr th:only-of-type {\n",
              "        vertical-align: middle;\n",
              "    }\n",
              "\n",
              "    .dataframe tbody tr th {\n",
              "        vertical-align: top;\n",
              "    }\n",
              "\n",
              "    .dataframe thead th {\n",
              "        text-align: right;\n",
              "    }\n",
              "</style>\n",
              "<table border=\"1\" class=\"dataframe\">\n",
              "  <thead>\n",
              "    <tr style=\"text-align: right;\">\n",
              "      <th></th>\n",
              "      <th>number</th>\n",
              "      <th>eval_accuracy</th>\n",
              "      <th>train_accuracy</th>\n",
              "      <th>H_flip_eval_accuracy</th>\n",
              "      <th>H_flip_train_accuracy</th>\n",
              "      <th>V_flip_eval_accuracy</th>\n",
              "      <th>V_flip_train_accuracy</th>\n",
              "    </tr>\n",
              "  </thead>\n",
              "  <tbody>\n",
              "    <tr>\n",
              "      <th>0</th>\n",
              "      <td>100</td>\n",
              "      <td>0.790</td>\n",
              "      <td>0.8192</td>\n",
              "      <td>0.845</td>\n",
              "      <td>0.9502</td>\n",
              "      <td>0.844</td>\n",
              "      <td>0.9228</td>\n",
              "    </tr>\n",
              "    <tr>\n",
              "      <th>1</th>\n",
              "      <td>200</td>\n",
              "      <td>0.840</td>\n",
              "      <td>0.9172</td>\n",
              "      <td>0.870</td>\n",
              "      <td>0.9752</td>\n",
              "      <td>0.832</td>\n",
              "      <td>0.9398</td>\n",
              "    </tr>\n",
              "    <tr>\n",
              "      <th>2</th>\n",
              "      <td>300</td>\n",
              "      <td>0.838</td>\n",
              "      <td>0.9458</td>\n",
              "      <td>0.849</td>\n",
              "      <td>0.9846</td>\n",
              "      <td>0.830</td>\n",
              "      <td>0.9564</td>\n",
              "    </tr>\n",
              "    <tr>\n",
              "      <th>3</th>\n",
              "      <td>400</td>\n",
              "      <td>0.842</td>\n",
              "      <td>0.9596</td>\n",
              "      <td>0.849</td>\n",
              "      <td>0.9792</td>\n",
              "      <td>0.842</td>\n",
              "      <td>0.9782</td>\n",
              "    </tr>\n",
              "    <tr>\n",
              "      <th>4</th>\n",
              "      <td>500</td>\n",
              "      <td>0.847</td>\n",
              "      <td>0.9834</td>\n",
              "      <td>0.858</td>\n",
              "      <td>0.9962</td>\n",
              "      <td>0.832</td>\n",
              "      <td>0.9800</td>\n",
              "    </tr>\n",
              "    <tr>\n",
              "      <th>5</th>\n",
              "      <td>600</td>\n",
              "      <td>0.861</td>\n",
              "      <td>0.9858</td>\n",
              "      <td>0.862</td>\n",
              "      <td>0.9966</td>\n",
              "      <td>0.846</td>\n",
              "      <td>0.9930</td>\n",
              "    </tr>\n",
              "    <tr>\n",
              "      <th>6</th>\n",
              "      <td>700</td>\n",
              "      <td>0.855</td>\n",
              "      <td>0.9974</td>\n",
              "      <td>0.862</td>\n",
              "      <td>0.9984</td>\n",
              "      <td>0.840</td>\n",
              "      <td>0.9970</td>\n",
              "    </tr>\n",
              "    <tr>\n",
              "      <th>7</th>\n",
              "      <td>800</td>\n",
              "      <td>0.863</td>\n",
              "      <td>1.0000</td>\n",
              "      <td>0.856</td>\n",
              "      <td>1.0000</td>\n",
              "      <td>0.855</td>\n",
              "      <td>0.9974</td>\n",
              "    </tr>\n",
              "    <tr>\n",
              "      <th>8</th>\n",
              "      <td>900</td>\n",
              "      <td>0.860</td>\n",
              "      <td>1.0000</td>\n",
              "      <td>0.858</td>\n",
              "      <td>1.0000</td>\n",
              "      <td>0.853</td>\n",
              "      <td>0.9946</td>\n",
              "    </tr>\n",
              "    <tr>\n",
              "      <th>9</th>\n",
              "      <td>1000</td>\n",
              "      <td>0.860</td>\n",
              "      <td>1.0000</td>\n",
              "      <td>0.856</td>\n",
              "      <td>1.0000</td>\n",
              "      <td>0.857</td>\n",
              "      <td>0.9994</td>\n",
              "    </tr>\n",
              "    <tr>\n",
              "      <th>10</th>\n",
              "      <td>1100</td>\n",
              "      <td>0.858</td>\n",
              "      <td>1.0000</td>\n",
              "      <td>0.852</td>\n",
              "      <td>1.0000</td>\n",
              "      <td>0.843</td>\n",
              "      <td>1.0000</td>\n",
              "    </tr>\n",
              "    <tr>\n",
              "      <th>11</th>\n",
              "      <td>1200</td>\n",
              "      <td>0.858</td>\n",
              "      <td>1.0000</td>\n",
              "      <td>0.852</td>\n",
              "      <td>1.0000</td>\n",
              "      <td>0.855</td>\n",
              "      <td>1.0000</td>\n",
              "    </tr>\n",
              "    <tr>\n",
              "      <th>12</th>\n",
              "      <td>1300</td>\n",
              "      <td>0.865</td>\n",
              "      <td>1.0000</td>\n",
              "      <td>0.857</td>\n",
              "      <td>1.0000</td>\n",
              "      <td>0.850</td>\n",
              "      <td>1.0000</td>\n",
              "    </tr>\n",
              "    <tr>\n",
              "      <th>13</th>\n",
              "      <td>1400</td>\n",
              "      <td>0.861</td>\n",
              "      <td>1.0000</td>\n",
              "      <td>0.848</td>\n",
              "      <td>1.0000</td>\n",
              "      <td>0.853</td>\n",
              "      <td>1.0000</td>\n",
              "    </tr>\n",
              "    <tr>\n",
              "      <th>14</th>\n",
              "      <td>1500</td>\n",
              "      <td>0.861</td>\n",
              "      <td>1.0000</td>\n",
              "      <td>0.857</td>\n",
              "      <td>1.0000</td>\n",
              "      <td>0.850</td>\n",
              "      <td>1.0000</td>\n",
              "    </tr>\n",
              "    <tr>\n",
              "      <th>15</th>\n",
              "      <td>1600</td>\n",
              "      <td>0.861</td>\n",
              "      <td>1.0000</td>\n",
              "      <td>0.853</td>\n",
              "      <td>1.0000</td>\n",
              "      <td>0.858</td>\n",
              "      <td>1.0000</td>\n",
              "    </tr>\n",
              "    <tr>\n",
              "      <th>16</th>\n",
              "      <td>1700</td>\n",
              "      <td>0.861</td>\n",
              "      <td>1.0000</td>\n",
              "      <td>0.854</td>\n",
              "      <td>1.0000</td>\n",
              "      <td>0.864</td>\n",
              "      <td>1.0000</td>\n",
              "    </tr>\n",
              "    <tr>\n",
              "      <th>17</th>\n",
              "      <td>1800</td>\n",
              "      <td>0.860</td>\n",
              "      <td>1.0000</td>\n",
              "      <td>0.857</td>\n",
              "      <td>1.0000</td>\n",
              "      <td>0.854</td>\n",
              "      <td>1.0000</td>\n",
              "    </tr>\n",
              "    <tr>\n",
              "      <th>18</th>\n",
              "      <td>1900</td>\n",
              "      <td>0.861</td>\n",
              "      <td>1.0000</td>\n",
              "      <td>0.855</td>\n",
              "      <td>1.0000</td>\n",
              "      <td>0.856</td>\n",
              "      <td>1.0000</td>\n",
              "    </tr>\n",
              "    <tr>\n",
              "      <th>19</th>\n",
              "      <td>2000</td>\n",
              "      <td>0.860</td>\n",
              "      <td>1.0000</td>\n",
              "      <td>0.862</td>\n",
              "      <td>1.0000</td>\n",
              "      <td>0.866</td>\n",
              "      <td>1.0000</td>\n",
              "    </tr>\n",
              "  </tbody>\n",
              "</table>\n",
              "</div>\n",
              "      <button class=\"colab-df-convert\" onclick=\"convertToInteractive('df-3fadc31f-3d35-4673-b306-d06a7ee76f01')\"\n",
              "              title=\"Convert this dataframe to an interactive table.\"\n",
              "              style=\"display:none;\">\n",
              "        \n",
              "  <svg xmlns=\"http://www.w3.org/2000/svg\" height=\"24px\"viewBox=\"0 0 24 24\"\n",
              "       width=\"24px\">\n",
              "    <path d=\"M0 0h24v24H0V0z\" fill=\"none\"/>\n",
              "    <path d=\"M18.56 5.44l.94 2.06.94-2.06 2.06-.94-2.06-.94-.94-2.06-.94 2.06-2.06.94zm-11 1L8.5 8.5l.94-2.06 2.06-.94-2.06-.94L8.5 2.5l-.94 2.06-2.06.94zm10 10l.94 2.06.94-2.06 2.06-.94-2.06-.94-.94-2.06-.94 2.06-2.06.94z\"/><path d=\"M17.41 7.96l-1.37-1.37c-.4-.4-.92-.59-1.43-.59-.52 0-1.04.2-1.43.59L10.3 9.45l-7.72 7.72c-.78.78-.78 2.05 0 2.83L4 21.41c.39.39.9.59 1.41.59.51 0 1.02-.2 1.41-.59l7.78-7.78 2.81-2.81c.8-.78.8-2.07 0-2.86zM5.41 20L4 18.59l7.72-7.72 1.47 1.35L5.41 20z\"/>\n",
              "  </svg>\n",
              "      </button>\n",
              "      \n",
              "  <style>\n",
              "    .colab-df-container {\n",
              "      display:flex;\n",
              "      flex-wrap:wrap;\n",
              "      gap: 12px;\n",
              "    }\n",
              "\n",
              "    .colab-df-convert {\n",
              "      background-color: #E8F0FE;\n",
              "      border: none;\n",
              "      border-radius: 50%;\n",
              "      cursor: pointer;\n",
              "      display: none;\n",
              "      fill: #1967D2;\n",
              "      height: 32px;\n",
              "      padding: 0 0 0 0;\n",
              "      width: 32px;\n",
              "    }\n",
              "\n",
              "    .colab-df-convert:hover {\n",
              "      background-color: #E2EBFA;\n",
              "      box-shadow: 0px 1px 2px rgba(60, 64, 67, 0.3), 0px 1px 3px 1px rgba(60, 64, 67, 0.15);\n",
              "      fill: #174EA6;\n",
              "    }\n",
              "\n",
              "    [theme=dark] .colab-df-convert {\n",
              "      background-color: #3B4455;\n",
              "      fill: #D2E3FC;\n",
              "    }\n",
              "\n",
              "    [theme=dark] .colab-df-convert:hover {\n",
              "      background-color: #434B5C;\n",
              "      box-shadow: 0px 1px 3px 1px rgba(0, 0, 0, 0.15);\n",
              "      filter: drop-shadow(0px 1px 2px rgba(0, 0, 0, 0.3));\n",
              "      fill: #FFFFFF;\n",
              "    }\n",
              "  </style>\n",
              "\n",
              "      <script>\n",
              "        const buttonEl =\n",
              "          document.querySelector('#df-3fadc31f-3d35-4673-b306-d06a7ee76f01 button.colab-df-convert');\n",
              "        buttonEl.style.display =\n",
              "          google.colab.kernel.accessAllowed ? 'block' : 'none';\n",
              "\n",
              "        async function convertToInteractive(key) {\n",
              "          const element = document.querySelector('#df-3fadc31f-3d35-4673-b306-d06a7ee76f01');\n",
              "          const dataTable =\n",
              "            await google.colab.kernel.invokeFunction('convertToInteractive',\n",
              "                                                     [key], {});\n",
              "          if (!dataTable) return;\n",
              "\n",
              "          const docLinkHtml = 'Like what you see? Visit the ' +\n",
              "            '<a target=\"_blank\" href=https://colab.research.google.com/notebooks/data_table.ipynb>data table notebook</a>'\n",
              "            + ' to learn more about interactive tables.';\n",
              "          element.innerHTML = '';\n",
              "          dataTable['output_type'] = 'display_data';\n",
              "          await google.colab.output.renderOutput(dataTable, element);\n",
              "          const docLink = document.createElement('div');\n",
              "          docLink.innerHTML = docLinkHtml;\n",
              "          element.appendChild(docLink);\n",
              "        }\n",
              "      </script>\n",
              "    </div>\n",
              "  </div>\n",
              "  "
            ],
            "text/plain": [
              "    number  eval_accuracy  train_accuracy  H_flip_eval_accuracy  \\\n",
              "0      100          0.790          0.8192                 0.845   \n",
              "1      200          0.840          0.9172                 0.870   \n",
              "2      300          0.838          0.9458                 0.849   \n",
              "3      400          0.842          0.9596                 0.849   \n",
              "4      500          0.847          0.9834                 0.858   \n",
              "5      600          0.861          0.9858                 0.862   \n",
              "6      700          0.855          0.9974                 0.862   \n",
              "7      800          0.863          1.0000                 0.856   \n",
              "8      900          0.860          1.0000                 0.858   \n",
              "9     1000          0.860          1.0000                 0.856   \n",
              "10    1100          0.858          1.0000                 0.852   \n",
              "11    1200          0.858          1.0000                 0.852   \n",
              "12    1300          0.865          1.0000                 0.857   \n",
              "13    1400          0.861          1.0000                 0.848   \n",
              "14    1500          0.861          1.0000                 0.857   \n",
              "15    1600          0.861          1.0000                 0.853   \n",
              "16    1700          0.861          1.0000                 0.854   \n",
              "17    1800          0.860          1.0000                 0.857   \n",
              "18    1900          0.861          1.0000                 0.855   \n",
              "19    2000          0.860          1.0000                 0.862   \n",
              "\n",
              "    H_flip_train_accuracy  V_flip_eval_accuracy  V_flip_train_accuracy  \n",
              "0                  0.9502                 0.844                 0.9228  \n",
              "1                  0.9752                 0.832                 0.9398  \n",
              "2                  0.9846                 0.830                 0.9564  \n",
              "3                  0.9792                 0.842                 0.9782  \n",
              "4                  0.9962                 0.832                 0.9800  \n",
              "5                  0.9966                 0.846                 0.9930  \n",
              "6                  0.9984                 0.840                 0.9970  \n",
              "7                  1.0000                 0.855                 0.9974  \n",
              "8                  1.0000                 0.853                 0.9946  \n",
              "9                  1.0000                 0.857                 0.9994  \n",
              "10                 1.0000                 0.843                 1.0000  \n",
              "11                 1.0000                 0.855                 1.0000  \n",
              "12                 1.0000                 0.850                 1.0000  \n",
              "13                 1.0000                 0.853                 1.0000  \n",
              "14                 1.0000                 0.850                 1.0000  \n",
              "15                 1.0000                 0.858                 1.0000  \n",
              "16                 1.0000                 0.864                 1.0000  \n",
              "17                 1.0000                 0.854                 1.0000  \n",
              "18                 1.0000                 0.856                 1.0000  \n",
              "19                 1.0000                 0.866                 1.0000  "
            ]
          },
          "execution_count": 88,
          "metadata": {},
          "output_type": "execute_result"
        }
      ],
      "source": [
        "dfa_join = pd.merge(dfa, dfa_H, how='inner', on = 'number')\n",
        "dfa_all = pd.merge(dfa_join, dfa_V, how='inner', on = 'number')\n",
        "dfa_all"
      ]
    },
    {
      "cell_type": "code",
      "execution_count": null,
      "metadata": {
        "colab": {
          "base_uri": "https://localhost:8080/"
        },
        "id": "WpukVryMS-Ku",
        "outputId": "45d2b591-2461-477e-f8ed-5b6274ea446a"
      },
      "outputs": [
        {
          "data": {
            "text/plain": [
              "{100: {'mean_train_loss': 0.842326907813549,\n",
              "  'learning_rate': 0.09505000494999999,\n",
              "  'eval_loss': 0.5414284244179726,\n",
              "  'eval_accuracy': 0.7900000214576721,\n",
              "  'eval_conf_matrix': array([[ 72,   0,   5,   1,   0,   0,   7,   0,   1,   0],\n",
              "         [  0, 101,   1,   2,   0,   1,   1,   0,   0,   0],\n",
              "         [  2,   0,  98,   0,  11,   0,   2,   0,   1,   0],\n",
              "         [ 10,   4,   1,  73,   7,   0,   0,   0,   0,   0],\n",
              "         [  0,   0,  33,   4,  46,   0,   7,   1,   0,   0],\n",
              "         [  0,   0,   0,   0,   0,  79,   0,   9,   1,   4],\n",
              "         [ 19,   0,  35,   5,   7,   0,  25,   0,   2,   0],\n",
              "         [  0,   0,   0,   0,   0,   2,   0,  85,   0,  13],\n",
              "         [  1,   0,   1,   0,   1,   1,   4,   1, 102,   0],\n",
              "         [  0,   0,   0,   0,   0,   1,   0,   1,   0, 109]]),\n",
              "  'train_loss': 0.47104342132806776,\n",
              "  'train_accuracy': 0.8191999793052673,\n",
              "  'train_conf_matrix': array([[459,   0,  27,  10,   1,   1,  20,   0,   2,   0],\n",
              "         [  0, 441,   5,   5,   2,   0,   1,   2,   0,   0],\n",
              "         [  1,   0, 436,   2,  30,   0,  16,   1,   0,   0],\n",
              "         [ 36,  16,  17, 444,  15,   0,   7,   0,   0,   0],\n",
              "         [  1,   0, 141,  11, 338,   0,  42,   0,   0,   0],\n",
              "         [  0,   0,   0,   0,   0, 449,   0,  57,   0,   7],\n",
              "         [ 93,   0, 209,   8,  41,   0, 175,   0,   2,   0],\n",
              "         [  0,   0,   0,   0,   0,   2,   0, 435,   0,  52],\n",
              "         [  0,   0,   4,   0,   3,   0,   2,   4, 442,   0],\n",
              "         [  0,   0,   0,   0,   0,   0,   0,   8,   0, 477]]),\n",
              "  'mean_eval_loss': 0.5414284244179726},\n",
              " 200: {'mean_train_loss': 0.5871497262269258,\n",
              "  'learning_rate': 0.09005000994999993,\n",
              "  'eval_loss': 0.4561493322253227,\n",
              "  'eval_accuracy': 0.8399999737739563,\n",
              "  'eval_conf_matrix': array([[ 70,   0,   1,   1,   1,   0,  12,   0,   1,   0],\n",
              "         [  0, 102,   0,   2,   1,   0,   1,   0,   0,   0],\n",
              "         [  4,   0,  86,   1,  17,   0,   6,   0,   0,   0],\n",
              "         [  5,   1,   1,  80,   8,   0,   0,   0,   0,   0],\n",
              "         [  0,   1,  10,   2,  77,   0,   1,   0,   0,   0],\n",
              "         [  0,   0,   0,   0,   0,  86,   0,   5,   1,   1],\n",
              "         [ 15,   0,  12,   5,  19,   0,  42,   0,   0,   0],\n",
              "         [  0,   0,   0,   0,   0,   3,   0,  97,   0,   0],\n",
              "         [  2,   0,   1,   0,   5,   1,   2,   0, 100,   0],\n",
              "         [  0,   0,   0,   0,   0,   1,   0,  10,   0, 100]]),\n",
              "  'train_loss': 0.23487783670425416,\n",
              "  'train_accuracy': 0.9172000288963318,\n",
              "  'train_conf_matrix': array([[481,   0,   1,   2,   6,   0,  30,   0,   0,   0],\n",
              "         [  0, 451,   0,   4,   1,   0,   0,   0,   0,   0],\n",
              "         [  1,   0, 411,   0,  60,   0,  14,   0,   0,   0],\n",
              "         [ 10,   0,   1, 495,  17,   0,  12,   0,   0,   0],\n",
              "         [  0,   0,  10,   4, 506,   0,  13,   0,   0,   0],\n",
              "         [  0,   0,   0,   0,   0, 501,   0,  12,   0,   0],\n",
              "         [ 36,   0,  46,   5,  88,   0, 353,   0,   0,   0],\n",
              "         [  0,   0,   0,   0,   0,   0,   0, 484,   0,   5],\n",
              "         [  0,   0,   0,   0,   6,   0,   0,   0, 449,   0],\n",
              "         [  0,   0,   0,   0,   0,   0,   0,  30,   0, 455]]),\n",
              "  'mean_eval_loss': 0.49878887832164764},\n",
              " 300: {'mean_train_loss': 0.45689130504926045,\n",
              "  'learning_rate': 0.08505001494999989,\n",
              "  'eval_loss': 0.5283315181732178,\n",
              "  'eval_accuracy': 0.8379999995231628,\n",
              "  'eval_conf_matrix': array([[ 68,   0,   1,   0,   0,   0,  16,   0,   1,   0],\n",
              "         [  0, 103,   0,   1,   0,   0,   1,   0,   1,   0],\n",
              "         [  1,   0,  65,   1,  15,   0,  32,   0,   0,   0],\n",
              "         [  5,   0,   0,  82,   8,   0,   0,   0,   0,   0],\n",
              "         [  1,   0,   6,   3,  68,   0,  13,   0,   0,   0],\n",
              "         [  0,   0,   0,   0,   0,  87,   0,   3,   0,   3],\n",
              "         [ 10,   0,   4,   9,   5,   0,  64,   0,   1,   0],\n",
              "         [  0,   0,   0,   0,   0,   3,   0,  85,   0,  12],\n",
              "         [  0,   0,   0,   1,   1,   1,   2,   0, 106,   0],\n",
              "         [  0,   0,   0,   0,   0,   1,   0,   0,   0, 110]]),\n",
              "  'train_loss': 0.1467272501438856,\n",
              "  'train_accuracy': 0.9458000063896179,\n",
              "  'train_conf_matrix': array([[495,   0,   0,   0,   0,   0,  25,   0,   0,   0],\n",
              "         [  0, 455,   0,   1,   0,   0,   0,   0,   0,   0],\n",
              "         [  0,   0, 358,   0,  31,   0,  97,   0,   0,   0],\n",
              "         [  2,   1,   0, 522,   9,   0,   1,   0,   0,   0],\n",
              "         [  0,   0,   3,   2, 521,   0,   7,   0,   0,   0],\n",
              "         [  0,   0,   0,   0,   0, 510,   0,   3,   0,   0],\n",
              "         [ 12,   0,   3,   3,  16,   0, 494,   0,   0,   0],\n",
              "         [  0,   0,   0,   0,   0,   0,   0, 435,   0,  54],\n",
              "         [  0,   0,   0,   0,   1,   0,   0,   0, 454,   0],\n",
              "         [  0,   0,   0,   0,   0,   0,   0,   0,   0, 485]]),\n",
              "  'mean_eval_loss': 0.5086364249388377},\n",
              " 400: {'mean_train_loss': 0.36904584934003654,\n",
              "  'learning_rate': 0.08005001994999977,\n",
              "  'eval_loss': 0.674459382891655,\n",
              "  'eval_accuracy': 0.8420000076293945,\n",
              "  'eval_conf_matrix': array([[ 70,   0,   2,   1,   0,   0,  12,   0,   1,   0],\n",
              "         [  0, 104,   0,   1,   1,   0,   0,   0,   0,   0],\n",
              "         [  6,   0,  79,   1,   8,   0,  20,   0,   0,   0],\n",
              "         [  7,   5,   0,  78,   5,   0,   0,   0,   0,   0],\n",
              "         [  1,   1,   8,   3,  56,   0,  22,   0,   0,   0],\n",
              "         [  0,   0,   0,   0,   0,  91,   0,   2,   0,   0],\n",
              "         [ 14,   1,   8,   5,   4,   0,  60,   0,   1,   0],\n",
              "         [  0,   0,   0,   0,   0,   4,   0,  96,   0,   0],\n",
              "         [  3,   0,   0,   0,   1,   0,   3,   0, 104,   0],\n",
              "         [  0,   0,   0,   0,   0,   1,   0,   6,   0, 104]]),\n",
              "  'train_loss': 0.10921698547899723,\n",
              "  'train_accuracy': 0.9595999717712402,\n",
              "  'train_conf_matrix': array([[510,   0,   0,   0,   0,   0,  10,   0,   0,   0],\n",
              "         [  1, 455,   0,   0,   0,   0,   0,   0,   0,   0],\n",
              "         [  4,   0, 431,   0,  15,   0,  36,   0,   0,   0],\n",
              "         [  6,  26,   0, 497,   3,   0,   3,   0,   0,   0],\n",
              "         [  0,   0,   9,   4, 473,   0,  47,   0,   0,   0],\n",
              "         [  0,   0,   0,   0,   0, 513,   0,   0,   0,   0],\n",
              "         [ 18,   0,   3,   1,   3,   0, 503,   0,   0,   0],\n",
              "         [  0,   0,   0,   0,   0,   0,   0, 488,   1,   0],\n",
              "         [  0,   0,   0,   0,   0,   0,   1,   0, 454,   0],\n",
              "         [  0,   0,   0,   0,   0,   0,   0,  11,   0, 474]]),\n",
              "  'mean_eval_loss': 0.550092164427042},\n",
              " 500: {'mean_train_loss': 0.3101316544190049,\n",
              "  'learning_rate': 0.07505002494999956,\n",
              "  'eval_loss': 0.6734988391399384,\n",
              "  'eval_accuracy': 0.847000002861023,\n",
              "  'eval_conf_matrix': array([[ 66,   0,   2,   3,   0,   0,  14,   0,   1,   0],\n",
              "         [  0, 103,   0,   2,   1,   0,   0,   0,   0,   0],\n",
              "         [  0,   0,  83,   1,   9,   0,  21,   0,   0,   0],\n",
              "         [  3,   0,   0,  85,   7,   0,   0,   0,   0,   0],\n",
              "         [  0,   0,   9,   2,  66,   0,  14,   0,   0,   0],\n",
              "         [  0,   0,   0,   0,   0,  87,   0,   3,   0,   3],\n",
              "         [ 12,   0,  11,   8,   6,   0,  56,   0,   0,   0],\n",
              "         [  0,   0,   0,   0,   0,   3,   0,  89,   0,   8],\n",
              "         [  1,   0,   1,   0,   2,   0,   3,   0, 103,   1],\n",
              "         [  0,   0,   0,   0,   0,   0,   0,   2,   0, 109]]),\n",
              "  'train_loss': 0.04820467345416546,\n",
              "  'train_accuracy': 0.9833999872207642,\n",
              "  'train_conf_matrix': array([[511,   0,   1,   1,   0,   0,   7,   0,   0,   0],\n",
              "         [  0, 456,   0,   0,   0,   0,   0,   0,   0,   0],\n",
              "         [  0,   0, 460,   0,   3,   0,  23,   0,   0,   0],\n",
              "         [  0,   0,   0, 530,   5,   0,   0,   0,   0,   0],\n",
              "         [  0,   0,   3,   0, 522,   0,   8,   0,   0,   0],\n",
              "         [  0,   0,   0,   0,   0, 513,   0,   0,   0,   0],\n",
              "         [  3,   0,   8,   2,   7,   0, 508,   0,   0,   0],\n",
              "         [  0,   0,   0,   0,   0,   0,   0, 480,   0,   9],\n",
              "         [  0,   0,   0,   0,   0,   0,   3,   0, 452,   0],\n",
              "         [  0,   0,   0,   0,   0,   0,   0,   0,   0, 485]]),\n",
              "  'mean_eval_loss': 0.5747734993696213},\n",
              " 600: {'mean_train_loss': 0.2644468198204413,\n",
              "  'learning_rate': 0.07005002994999944,\n",
              "  'eval_loss': 0.7608092874288559,\n",
              "  'eval_accuracy': 0.8610000014305115,\n",
              "  'eval_conf_matrix': array([[ 73,   0,   3,   4,   0,   0,   5,   0,   1,   0],\n",
              "         [  0, 105,   0,   1,   0,   0,   0,   0,   0,   0],\n",
              "         [  2,   0,  92,   0,  14,   0,   6,   0,   0,   0],\n",
              "         [  2,   0,   0,  90,   3,   0,   0,   0,   0,   0],\n",
              "         [  0,   0,  13,   5,  69,   0,   3,   1,   0,   0],\n",
              "         [  0,   0,   0,   0,   0,  88,   0,   3,   0,   2],\n",
              "         [ 17,   0,  11,   9,  11,   0,  45,   0,   0,   0],\n",
              "         [  0,   0,   0,   0,   0,   4,   0,  88,   0,   8],\n",
              "         [  2,   0,   2,   0,   2,   0,   2,   0, 102,   1],\n",
              "         [  0,   0,   0,   0,   0,   0,   0,   2,   0, 109]]),\n",
              "  'train_loss': 0.04242857564240694,\n",
              "  'train_accuracy': 0.98580002784729,\n",
              "  'train_conf_matrix': array([[518,   0,   0,   0,   2,   0,   0,   0,   0,   0],\n",
              "         [  0, 455,   0,   1,   0,   0,   0,   0,   0,   0],\n",
              "         [  0,   0, 481,   0,   4,   0,   1,   0,   0,   0],\n",
              "         [  0,   0,   0, 534,   1,   0,   0,   0,   0,   0],\n",
              "         [  0,   0,   0,   6, 527,   0,   0,   0,   0,   0],\n",
              "         [  0,   0,   0,   0,   0, 513,   0,   0,   0,   0],\n",
              "         [ 22,   0,   2,   3,  15,   0, 486,   0,   0,   0],\n",
              "         [  0,   0,   0,   0,   0,   0,   0, 476,   0,  13],\n",
              "         [  0,   1,   0,   0,   0,   0,   0,   0, 454,   0],\n",
              "         [  0,   0,   0,   0,   0,   0,   0,   0,   0, 485]]),\n",
              "  'mean_eval_loss': 0.6057794640461603},\n",
              " 700: {'mean_train_loss': 0.2283290598766845,\n",
              "  'learning_rate': 0.06505003494999935,\n",
              "  'eval_loss': 0.9136343747377396,\n",
              "  'eval_accuracy': 0.8550000190734863,\n",
              "  'eval_conf_matrix': array([[ 65,   0,   3,   3,   0,   0,  14,   0,   1,   0],\n",
              "         [  0, 102,   0,   3,   0,   0,   1,   0,   0,   0],\n",
              "         [  1,   0,  81,   0,  18,   0,  14,   0,   0,   0],\n",
              "         [  1,   0,   0,  89,   5,   0,   0,   0,   0,   0],\n",
              "         [  0,   0,  11,   5,  72,   0,   3,   0,   0,   0],\n",
              "         [  0,   0,   0,   0,   0,  88,   0,   4,   0,   1],\n",
              "         [  8,   0,   9,   7,  11,   0,  57,   0,   1,   0],\n",
              "         [  0,   0,   0,   0,   0,   3,   0,  93,   0,   4],\n",
              "         [  2,   0,   2,   0,   2,   1,   0,   1, 102,   1],\n",
              "         [  0,   0,   0,   0,   0,   0,   0,   5,   0, 106]]),\n",
              "  'train_loss': 0.006661350361537188,\n",
              "  'train_accuracy': 0.9973999857902527,\n",
              "  'train_conf_matrix': array([[519,   0,   0,   1,   0,   0,   0,   0,   0,   0],\n",
              "         [  0, 456,   0,   0,   0,   0,   0,   0,   0,   0],\n",
              "         [  0,   0, 483,   0,   3,   0,   0,   0,   0,   0],\n",
              "         [  0,   0,   0, 535,   0,   0,   0,   0,   0,   0],\n",
              "         [  0,   0,   0,   0, 533,   0,   0,   0,   0,   0],\n",
              "         [  0,   0,   0,   0,   0, 513,   0,   0,   0,   0],\n",
              "         [  1,   0,   0,   1,   7,   0, 519,   0,   0,   0],\n",
              "         [  0,   0,   0,   0,   0,   0,   0, 489,   0,   0],\n",
              "         [  0,   0,   0,   0,   0,   0,   0,   0, 455,   0],\n",
              "         [  0,   0,   0,   0,   0,   0,   0,   0,   0, 485]]),\n",
              "  'mean_eval_loss': 0.6497587370021003},\n",
              " 800: {'mean_train_loss': 0.20007203182138256,\n",
              "  'learning_rate': 0.06005003994999934,\n",
              "  'eval_loss': 0.9600431472063065,\n",
              "  'eval_accuracy': 0.8629999756813049,\n",
              "  'eval_conf_matrix': array([[ 67,   0,   3,   2,   0,   0,  13,   0,   1,   0],\n",
              "         [  0, 103,   0,   2,   0,   0,   1,   0,   0,   0],\n",
              "         [  3,   0,  94,   0,   6,   0,  11,   0,   0,   0],\n",
              "         [  3,   0,   0,  87,   5,   0,   0,   0,   0,   0],\n",
              "         [  0,   0,  13,   4,  66,   0,   8,   0,   0,   0],\n",
              "         [  0,   0,   0,   0,   0,  89,   0,   3,   0,   1],\n",
              "         [ 11,   0,  12,   7,   4,   0,  58,   0,   1,   0],\n",
              "         [  0,   0,   0,   0,   0,   3,   0,  91,   0,   6],\n",
              "         [  1,   0,   2,   0,   2,   2,   0,   1, 102,   1],\n",
              "         [  0,   0,   0,   0,   0,   0,   0,   5,   0, 106]]),\n",
              "  'train_loss': 0.0002095081810693955,\n",
              "  'train_accuracy': 1.0,\n",
              "  'train_conf_matrix': array([[520,   0,   0,   0,   0,   0,   0,   0,   0,   0],\n",
              "         [  0, 456,   0,   0,   0,   0,   0,   0,   0,   0],\n",
              "         [  0,   0, 486,   0,   0,   0,   0,   0,   0,   0],\n",
              "         [  0,   0,   0, 535,   0,   0,   0,   0,   0,   0],\n",
              "         [  0,   0,   0,   0, 533,   0,   0,   0,   0,   0],\n",
              "         [  0,   0,   0,   0,   0, 513,   0,   0,   0,   0],\n",
              "         [  0,   0,   0,   0,   0,   0, 528,   0,   0,   0],\n",
              "         [  0,   0,   0,   0,   0,   0,   0, 489,   0,   0],\n",
              "         [  0,   0,   0,   0,   0,   0,   0,   0, 455,   0],\n",
              "         [  0,   0,   0,   0,   0,   0,   0,   0,   0, 485]]),\n",
              "  'mean_eval_loss': 0.688544288277626},\n",
              " 900: {'mean_train_loss': 0.17788198698822977,\n",
              "  'learning_rate': 0.055050044949999356,\n",
              "  'eval_loss': 0.9818057864904404,\n",
              "  'eval_accuracy': 0.8600000143051147,\n",
              "  'eval_conf_matrix': array([[ 67,   0,   3,   2,   0,   0,  13,   0,   1,   0],\n",
              "         [  0, 103,   0,   2,   0,   0,   1,   0,   0,   0],\n",
              "         [  3,   0,  91,   0,  11,   0,   9,   0,   0,   0],\n",
              "         [  4,   0,   0,  85,   6,   0,   0,   0,   0,   0],\n",
              "         [  0,   0,  14,   3,  68,   0,   6,   0,   0,   0],\n",
              "         [  0,   0,   0,   0,   0,  89,   0,   3,   0,   1],\n",
              "         [ 11,   0,  12,   7,   5,   0,  57,   0,   1,   0],\n",
              "         [  0,   0,   0,   0,   0,   3,   0,  93,   0,   4],\n",
              "         [  2,   0,   2,   0,   2,   2,   0,   1, 101,   1],\n",
              "         [  0,   0,   0,   0,   0,   0,   0,   5,   0, 106]]),\n",
              "  'train_loss': 0.0001009304307444836,\n",
              "  'train_accuracy': 1.0,\n",
              "  'train_conf_matrix': array([[520,   0,   0,   0,   0,   0,   0,   0,   0,   0],\n",
              "         [  0, 456,   0,   0,   0,   0,   0,   0,   0,   0],\n",
              "         [  0,   0, 486,   0,   0,   0,   0,   0,   0,   0],\n",
              "         [  0,   0,   0, 535,   0,   0,   0,   0,   0,   0],\n",
              "         [  0,   0,   0,   0, 533,   0,   0,   0,   0,   0],\n",
              "         [  0,   0,   0,   0,   0, 513,   0,   0,   0,   0],\n",
              "         [  0,   0,   0,   0,   0,   0, 528,   0,   0,   0],\n",
              "         [  0,   0,   0,   0,   0,   0,   0, 489,   0,   0],\n",
              "         [  0,   0,   0,   0,   0,   0,   0,   0, 455,   0],\n",
              "         [  0,   0,   0,   0,   0,   0,   0,   0,   0, 485]]),\n",
              "  'mean_eval_loss': 0.721128899190161},\n",
              " 1000: {'mean_train_loss': 0.16011077778684193,\n",
              "  'learning_rate': 0.050050049949999446,\n",
              "  'eval_loss': 1.0026489794254303,\n",
              "  'eval_accuracy': 0.8600000143051147,\n",
              "  'eval_conf_matrix': array([[ 66,   0,   3,   3,   0,   0,  13,   0,   1,   0],\n",
              "         [  0, 103,   0,   2,   0,   0,   1,   0,   0,   0],\n",
              "         [  3,   0,  91,   0,  10,   0,  10,   0,   0,   0],\n",
              "         [  3,   0,   0,  86,   6,   0,   0,   0,   0,   0],\n",
              "         [  0,   0,  12,   4,  66,   0,   9,   0,   0,   0],\n",
              "         [  0,   0,   0,   0,   0,  89,   0,   3,   0,   1],\n",
              "         [ 11,   0,  11,   7,   5,   0,  58,   0,   1,   0],\n",
              "         [  0,   0,   0,   0,   0,   3,   0,  93,   0,   4],\n",
              "         [  1,   0,   2,   0,   1,   2,   1,   1, 102,   1],\n",
              "         [  0,   0,   0,   0,   0,   0,   0,   5,   0, 106]]),\n",
              "  'train_loss': 6.886938681418541e-05,\n",
              "  'train_accuracy': 1.0,\n",
              "  'train_conf_matrix': array([[520,   0,   0,   0,   0,   0,   0,   0,   0,   0],\n",
              "         [  0, 456,   0,   0,   0,   0,   0,   0,   0,   0],\n",
              "         [  0,   0, 486,   0,   0,   0,   0,   0,   0,   0],\n",
              "         [  0,   0,   0, 535,   0,   0,   0,   0,   0,   0],\n",
              "         [  0,   0,   0,   0, 533,   0,   0,   0,   0,   0],\n",
              "         [  0,   0,   0,   0,   0, 513,   0,   0,   0,   0],\n",
              "         [  0,   0,   0,   0,   0,   0, 528,   0,   0,   0],\n",
              "         [  0,   0,   0,   0,   0,   0,   0, 489,   0,   0],\n",
              "         [  0,   0,   0,   0,   0,   0,   0,   0, 455,   0],\n",
              "         [  0,   0,   0,   0,   0,   0,   0,   0,   0, 485]]),\n",
              "  'mean_eval_loss': 0.7492809072136879},\n",
              " 1100: {'mean_train_loss': 0.14556636214137886,\n",
              "  'learning_rate': 0.045050054949999536,\n",
              "  'eval_loss': 1.016273409128189,\n",
              "  'eval_accuracy': 0.8579999804496765,\n",
              "  'eval_conf_matrix': array([[ 66,   0,   3,   3,   0,   0,  13,   0,   1,   0],\n",
              "         [  0, 103,   0,   2,   0,   0,   1,   0,   0,   0],\n",
              "         [  3,   0,  91,   0,  11,   0,   9,   0,   0,   0],\n",
              "         [  3,   0,   0,  86,   6,   0,   0,   0,   0,   0],\n",
              "         [  0,   0,  13,   3,  67,   0,   8,   0,   0,   0],\n",
              "         [  0,   0,   0,   0,   0,  89,   0,   3,   0,   1],\n",
              "         [ 11,   0,  11,   7,   5,   0,  58,   0,   1,   0],\n",
              "         [  0,   0,   0,   0,   0,   3,   0,  90,   0,   7],\n",
              "         [  1,   0,   2,   0,   1,   2,   1,   1, 102,   1],\n",
              "         [  0,   0,   0,   0,   0,   0,   0,   5,   0, 106]]),\n",
              "  'train_loss': 5.447855592137785e-05,\n",
              "  'train_accuracy': 1.0,\n",
              "  'train_conf_matrix': array([[520,   0,   0,   0,   0,   0,   0,   0,   0,   0],\n",
              "         [  0, 456,   0,   0,   0,   0,   0,   0,   0,   0],\n",
              "         [  0,   0, 486,   0,   0,   0,   0,   0,   0,   0],\n",
              "         [  0,   0,   0, 535,   0,   0,   0,   0,   0,   0],\n",
              "         [  0,   0,   0,   0, 533,   0,   0,   0,   0,   0],\n",
              "         [  0,   0,   0,   0,   0, 513,   0,   0,   0,   0],\n",
              "         [  0,   0,   0,   0,   0,   0, 528,   0,   0,   0],\n",
              "         [  0,   0,   0,   0,   0,   0,   0, 489,   0,   0],\n",
              "         [  0,   0,   0,   0,   0,   0,   0,   0, 455,   0],\n",
              "         [  0,   0,   0,   0,   0,   0,   0,   0,   0, 485]]),\n",
              "  'mean_eval_loss': 0.7735529528422789},\n",
              " 1200: {'mean_train_loss': 0.13345520170851766,\n",
              "  'learning_rate': 0.04005005994999966,\n",
              "  'eval_loss': 0.953270211815834,\n",
              "  'eval_accuracy': 0.8579999804496765,\n",
              "  'eval_conf_matrix': array([[ 66,   0,   3,   3,   0,   0,  13,   0,   1,   0],\n",
              "         [  0, 104,   0,   1,   0,   0,   1,   0,   0,   0],\n",
              "         [  3,   0,  89,   0,  13,   0,   9,   0,   0,   0],\n",
              "         [  4,   1,   0,  84,   6,   0,   0,   0,   0,   0],\n",
              "         [  0,   0,  12,   3,  67,   0,   9,   0,   0,   0],\n",
              "         [  0,   0,   0,   0,   0,  90,   0,   2,   0,   1],\n",
              "         [ 11,   0,  10,   8,   6,   0,  58,   0,   0,   0],\n",
              "         [  0,   0,   0,   0,   0,   4,   0,  92,   0,   4],\n",
              "         [  1,   0,   1,   1,   2,   2,   0,   1, 102,   1],\n",
              "         [  0,   0,   0,   0,   0,   1,   0,   4,   0, 106]]),\n",
              "  'train_loss': 0.00016224689279624726,\n",
              "  'train_accuracy': 1.0,\n",
              "  'train_conf_matrix': array([[520,   0,   0,   0,   0,   0,   0,   0,   0,   0],\n",
              "         [  0, 456,   0,   0,   0,   0,   0,   0,   0,   0],\n",
              "         [  0,   0, 486,   0,   0,   0,   0,   0,   0,   0],\n",
              "         [  0,   0,   0, 535,   0,   0,   0,   0,   0,   0],\n",
              "         [  0,   0,   0,   0, 533,   0,   0,   0,   0,   0],\n",
              "         [  0,   0,   0,   0,   0, 513,   0,   0,   0,   0],\n",
              "         [  0,   0,   0,   0,   0,   0, 528,   0,   0,   0],\n",
              "         [  0,   0,   0,   0,   0,   0,   0, 489,   0,   0],\n",
              "         [  0,   0,   0,   0,   0,   0,   0,   0, 455,   0],\n",
              "         [  0,   0,   0,   0,   0,   0,   0,   0,   0, 485]]),\n",
              "  'mean_eval_loss': 0.7885293910900751},\n",
              " 1300: {'mean_train_loss': 0.12320635371521908,\n",
              "  'learning_rate': 0.03505006494999977,\n",
              "  'eval_loss': 0.9389262646436691,\n",
              "  'eval_accuracy': 0.8650000095367432,\n",
              "  'eval_conf_matrix': array([[ 67,   0,   3,   3,   0,   0,  12,   0,   1,   0],\n",
              "         [  0, 103,   0,   2,   0,   0,   1,   0,   0,   0],\n",
              "         [  3,   0,  92,   0,   9,   0,  10,   0,   0,   0],\n",
              "         [  4,   0,   0,  85,   6,   0,   0,   0,   0,   0],\n",
              "         [  0,   0,  14,   3,  67,   0,   7,   0,   0,   0],\n",
              "         [  0,   0,   0,   0,   0,  89,   0,   3,   0,   1],\n",
              "         [ 11,   0,  11,   7,   4,   0,  59,   0,   1,   0],\n",
              "         [  0,   0,   0,   0,   0,   3,   0,  93,   0,   4],\n",
              "         [  1,   0,   2,   0,   2,   1,   0,   1, 103,   1],\n",
              "         [  0,   0,   0,   0,   0,   0,   0,   4,   0, 107]]),\n",
              "  'train_loss': 7.747484050923958e-05,\n",
              "  'train_accuracy': 1.0,\n",
              "  'train_conf_matrix': array([[520,   0,   0,   0,   0,   0,   0,   0,   0,   0],\n",
              "         [  0, 456,   0,   0,   0,   0,   0,   0,   0,   0],\n",
              "         [  0,   0, 486,   0,   0,   0,   0,   0,   0,   0],\n",
              "         [  0,   0,   0, 535,   0,   0,   0,   0,   0,   0],\n",
              "         [  0,   0,   0,   0, 533,   0,   0,   0,   0,   0],\n",
              "         [  0,   0,   0,   0,   0, 513,   0,   0,   0,   0],\n",
              "         [  0,   0,   0,   0,   0,   0, 528,   0,   0,   0],\n",
              "         [  0,   0,   0,   0,   0,   0,   0, 489,   0,   0],\n",
              "         [  0,   0,   0,   0,   0,   0,   0,   0, 455,   0],\n",
              "         [  0,   0,   0,   0,   0,   0,   0,   0,   0, 485]]),\n",
              "  'mean_eval_loss': 0.8000983813634286},\n",
              " 1400: {'mean_train_loss': 0.1144152718010004,\n",
              "  'learning_rate': 0.030050069949999845,\n",
              "  'eval_loss': 0.9572390913963318,\n",
              "  'eval_accuracy': 0.8610000014305115,\n",
              "  'eval_conf_matrix': array([[ 66,   0,   3,   3,   0,   0,  13,   0,   1,   0],\n",
              "         [  0, 103,   0,   2,   0,   0,   1,   0,   0,   0],\n",
              "         [  3,   0,  91,   0,  11,   0,   9,   0,   0,   0],\n",
              "         [  4,   0,   0,  85,   6,   0,   0,   0,   0,   0],\n",
              "         [  0,   0,  14,   3,  67,   0,   7,   0,   0,   0],\n",
              "         [  0,   0,   0,   0,   0,  89,   0,   3,   0,   1],\n",
              "         [ 11,   0,  11,   7,   5,   0,  58,   0,   1,   0],\n",
              "         [  0,   0,   0,   0,   0,   3,   0,  93,   0,   4],\n",
              "         [  1,   0,   2,   0,   2,   1,   0,   1, 103,   1],\n",
              "         [  0,   0,   0,   0,   0,   0,   0,   5,   0, 106]]),\n",
              "  'train_loss': 5.858476142748259e-05,\n",
              "  'train_accuracy': 1.0,\n",
              "  'train_conf_matrix': array([[520,   0,   0,   0,   0,   0,   0,   0,   0,   0],\n",
              "         [  0, 456,   0,   0,   0,   0,   0,   0,   0,   0],\n",
              "         [  0,   0, 486,   0,   0,   0,   0,   0,   0,   0],\n",
              "         [  0,   0,   0, 535,   0,   0,   0,   0,   0,   0],\n",
              "         [  0,   0,   0,   0, 533,   0,   0,   0,   0,   0],\n",
              "         [  0,   0,   0,   0,   0, 513,   0,   0,   0,   0],\n",
              "         [  0,   0,   0,   0,   0,   0, 528,   0,   0,   0],\n",
              "         [  0,   0,   0,   0,   0,   0,   0, 489,   0,   0],\n",
              "         [  0,   0,   0,   0,   0,   0,   0,   0, 455,   0],\n",
              "         [  0,   0,   0,   0,   0,   0,   0,   0,   0, 485]]),\n",
              "  'mean_eval_loss': 0.8113227177943502},\n",
              " 1500: {'mean_train_loss': 0.10679564954925203,\n",
              "  'learning_rate': 0.025050074949999862,\n",
              "  'eval_loss': 0.9720157980918884,\n",
              "  'eval_accuracy': 0.8610000014305115,\n",
              "  'eval_conf_matrix': array([[ 65,   0,   3,   3,   0,   0,  14,   0,   1,   0],\n",
              "         [  0, 103,   0,   2,   0,   0,   1,   0,   0,   0],\n",
              "         [  3,   0,  92,   0,  10,   0,   9,   0,   0,   0],\n",
              "         [  4,   0,   0,  85,   6,   0,   0,   0,   0,   0],\n",
              "         [  0,   0,  14,   3,  67,   0,   7,   0,   0,   0],\n",
              "         [  0,   0,   0,   0,   0,  89,   0,   3,   0,   1],\n",
              "         [ 11,   0,  11,   7,   5,   0,  58,   0,   1,   0],\n",
              "         [  0,   0,   0,   0,   0,   3,   0,  93,   0,   4],\n",
              "         [  1,   0,   2,   0,   2,   1,   0,   1, 103,   1],\n",
              "         [  0,   0,   0,   0,   0,   0,   0,   5,   0, 106]]),\n",
              "  'train_loss': 5.1435605928418224e-05,\n",
              "  'train_accuracy': 1.0,\n",
              "  'train_conf_matrix': array([[520,   0,   0,   0,   0,   0,   0,   0,   0,   0],\n",
              "         [  0, 456,   0,   0,   0,   0,   0,   0,   0,   0],\n",
              "         [  0,   0, 486,   0,   0,   0,   0,   0,   0,   0],\n",
              "         [  0,   0,   0, 535,   0,   0,   0,   0,   0,   0],\n",
              "         [  0,   0,   0,   0, 533,   0,   0,   0,   0,   0],\n",
              "         [  0,   0,   0,   0,   0, 513,   0,   0,   0,   0],\n",
              "         [  0,   0,   0,   0,   0,   0, 528,   0,   0,   0],\n",
              "         [  0,   0,   0,   0,   0,   0,   0, 489,   0,   0],\n",
              "         [  0,   0,   0,   0,   0,   0,   0,   0, 455,   0],\n",
              "         [  0,   0,   0,   0,   0,   0,   0,   0,   0, 485]]),\n",
              "  'mean_eval_loss': 0.8220355898141861},\n",
              " 1600: {'mean_train_loss': 0.10012681377114858,\n",
              "  'learning_rate': 0.02005007994999987,\n",
              "  'eval_loss': 0.9829556345939636,\n",
              "  'eval_accuracy': 0.8610000014305115,\n",
              "  'eval_conf_matrix': array([[ 67,   0,   3,   3,   0,   0,  12,   0,   1,   0],\n",
              "         [  0, 103,   0,   2,   0,   0,   1,   0,   0,   0],\n",
              "         [  3,   0,  92,   0,  10,   0,   9,   0,   0,   0],\n",
              "         [  3,   0,   0,  86,   6,   0,   0,   0,   0,   0],\n",
              "         [  0,   0,  14,   3,  67,   0,   7,   0,   0,   0],\n",
              "         [  0,   0,   0,   0,   0,  89,   0,   3,   0,   1],\n",
              "         [ 11,   0,  11,   7,   5,   0,  58,   0,   1,   0],\n",
              "         [  0,   0,   0,   0,   0,   3,   0,  91,   0,   6],\n",
              "         [  2,   0,   2,   0,   2,   1,   0,   1, 102,   1],\n",
              "         [  0,   0,   0,   0,   0,   0,   0,   5,   0, 106]]),\n",
              "  'train_loss': 4.720006627394469e-05,\n",
              "  'train_accuracy': 1.0,\n",
              "  'train_conf_matrix': array([[520,   0,   0,   0,   0,   0,   0,   0,   0,   0],\n",
              "         [  0, 456,   0,   0,   0,   0,   0,   0,   0,   0],\n",
              "         [  0,   0, 486,   0,   0,   0,   0,   0,   0,   0],\n",
              "         [  0,   0,   0, 535,   0,   0,   0,   0,   0,   0],\n",
              "         [  0,   0,   0,   0, 533,   0,   0,   0,   0,   0],\n",
              "         [  0,   0,   0,   0,   0, 513,   0,   0,   0,   0],\n",
              "         [  0,   0,   0,   0,   0,   0, 528,   0,   0,   0],\n",
              "         [  0,   0,   0,   0,   0,   0,   0, 489,   0,   0],\n",
              "         [  0,   0,   0,   0,   0,   0,   0,   0, 455,   0],\n",
              "         [  0,   0,   0,   0,   0,   0,   0,   0,   0, 485]]),\n",
              "  'mean_eval_loss': 0.8320930926129222},\n",
              " 1700: {'mean_train_loss': 0.09424255304171525,\n",
              "  'learning_rate': 0.015050084949999864,\n",
              "  'eval_loss': 0.9868001788854599,\n",
              "  'eval_accuracy': 0.8610000014305115,\n",
              "  'eval_conf_matrix': array([[ 67,   0,   3,   3,   0,   0,  12,   0,   1,   0],\n",
              "         [  0, 103,   0,   2,   0,   0,   1,   0,   0,   0],\n",
              "         [  3,   0,  90,   0,  12,   0,   9,   0,   0,   0],\n",
              "         [  3,   0,   0,  86,   6,   0,   0,   0,   0,   0],\n",
              "         [  0,   0,  14,   3,  67,   0,   7,   0,   0,   0],\n",
              "         [  0,   0,   0,   0,   0,  89,   0,   3,   0,   1],\n",
              "         [ 11,   0,  11,   7,   5,   0,  58,   0,   1,   0],\n",
              "         [  0,   0,   0,   0,   0,   3,   0,  94,   0,   3],\n",
              "         [  2,   0,   2,   0,   2,   1,   0,   1, 102,   1],\n",
              "         [  0,   0,   0,   0,   0,   1,   0,   5,   0, 105]]),\n",
              "  'train_loss': 4.2357021538919073e-05,\n",
              "  'train_accuracy': 1.0,\n",
              "  'train_conf_matrix': array([[520,   0,   0,   0,   0,   0,   0,   0,   0,   0],\n",
              "         [  0, 456,   0,   0,   0,   0,   0,   0,   0,   0],\n",
              "         [  0,   0, 486,   0,   0,   0,   0,   0,   0,   0],\n",
              "         [  0,   0,   0, 535,   0,   0,   0,   0,   0,   0],\n",
              "         [  0,   0,   0,   0, 533,   0,   0,   0,   0,   0],\n",
              "         [  0,   0,   0,   0,   0, 513,   0,   0,   0,   0],\n",
              "         [  0,   0,   0,   0,   0,   0, 528,   0,   0,   0],\n",
              "         [  0,   0,   0,   0,   0,   0,   0, 489,   0,   0],\n",
              "         [  0,   0,   0,   0,   0,   0,   0,   0, 455,   0],\n",
              "         [  0,   0,   0,   0,   0,   0,   0,   0,   0, 485]]),\n",
              "  'mean_eval_loss': 0.8411935094524833},\n",
              " 1800: {'mean_train_loss': 0.08901211962980293,\n",
              "  'learning_rate': 0.010050089949999917,\n",
              "  'eval_loss': 0.9942409247159958,\n",
              "  'eval_accuracy': 0.8600000143051147,\n",
              "  'eval_conf_matrix': array([[ 67,   0,   3,   3,   0,   0,  12,   0,   1,   0],\n",
              "         [  0, 103,   0,   2,   0,   0,   1,   0,   0,   0],\n",
              "         [  3,   0,  90,   0,  12,   0,   9,   0,   0,   0],\n",
              "         [  3,   0,   0,  86,   6,   0,   0,   0,   0,   0],\n",
              "         [  0,   0,  14,   3,  67,   0,   7,   0,   0,   0],\n",
              "         [  0,   0,   0,   0,   0,  89,   0,   3,   0,   1],\n",
              "         [ 11,   0,  11,   7,   5,   0,  58,   0,   1,   0],\n",
              "         [  0,   0,   0,   0,   0,   3,   0,  92,   0,   5],\n",
              "         [  2,   0,   2,   0,   2,   1,   0,   1, 102,   1],\n",
              "         [  0,   0,   0,   0,   0,   0,   0,   5,   0, 106]]),\n",
              "  'train_loss': 3.964278512285091e-05,\n",
              "  'train_accuracy': 1.0,\n",
              "  'train_conf_matrix': array([[520,   0,   0,   0,   0,   0,   0,   0,   0,   0],\n",
              "         [  0, 456,   0,   0,   0,   0,   0,   0,   0,   0],\n",
              "         [  0,   0, 486,   0,   0,   0,   0,   0,   0,   0],\n",
              "         [  0,   0,   0, 535,   0,   0,   0,   0,   0,   0],\n",
              "         [  0,   0,   0,   0, 533,   0,   0,   0,   0,   0],\n",
              "         [  0,   0,   0,   0,   0, 513,   0,   0,   0,   0],\n",
              "         [  0,   0,   0,   0,   0,   0, 528,   0,   0,   0],\n",
              "         [  0,   0,   0,   0,   0,   0,   0, 489,   0,   0],\n",
              "         [  0,   0,   0,   0,   0,   0,   0,   0, 455,   0],\n",
              "         [  0,   0,   0,   0,   0,   0,   0,   0,   0, 485]]),\n",
              "  'mean_eval_loss': 0.8496961436337895},\n",
              " 1900: {'mean_train_loss': 0.08433267324343481,\n",
              "  'learning_rate': 0.005050094949999962,\n",
              "  'eval_loss': 0.9907541424036026,\n",
              "  'eval_accuracy': 0.8610000014305115,\n",
              "  'eval_conf_matrix': array([[ 66,   0,   3,   3,   0,   0,  13,   0,   1,   0],\n",
              "         [  0, 103,   0,   2,   0,   0,   1,   0,   0,   0],\n",
              "         [  2,   0,  90,   0,  12,   0,   9,   0,   1,   0],\n",
              "         [  3,   0,   0,  86,   6,   0,   0,   0,   0,   0],\n",
              "         [  0,   0,  14,   3,  67,   0,   7,   0,   0,   0],\n",
              "         [  0,   0,   0,   0,   0,  89,   0,   3,   0,   1],\n",
              "         [ 11,   0,  10,   7,   5,   0,  59,   0,   1,   0],\n",
              "         [  0,   0,   0,   0,   0,   3,   0,  91,   0,   6],\n",
              "         [  1,   0,   1,   0,   2,   1,   0,   1, 104,   1],\n",
              "         [  0,   0,   0,   0,   0,   0,   0,   5,   0, 106]]),\n",
              "  'train_loss': 4.015472877654247e-05,\n",
              "  'train_accuracy': 1.0,\n",
              "  'train_conf_matrix': array([[520,   0,   0,   0,   0,   0,   0,   0,   0,   0],\n",
              "         [  0, 456,   0,   0,   0,   0,   0,   0,   0,   0],\n",
              "         [  0,   0, 486,   0,   0,   0,   0,   0,   0,   0],\n",
              "         [  0,   0,   0, 535,   0,   0,   0,   0,   0,   0],\n",
              "         [  0,   0,   0,   0, 533,   0,   0,   0,   0,   0],\n",
              "         [  0,   0,   0,   0,   0, 513,   0,   0,   0,   0],\n",
              "         [  0,   0,   0,   0,   0,   0, 528,   0,   0,   0],\n",
              "         [  0,   0,   0,   0,   0,   0,   0, 489,   0,   0],\n",
              "         [  0,   0,   0,   0,   0,   0,   0,   0, 455,   0],\n",
              "         [  0,   0,   0,   0,   0,   0,   0,   0,   0, 485]]),\n",
              "  'mean_eval_loss': 0.8571202488322007},\n",
              " 2000: {'mean_train_loss': 0.08012037969331323,\n",
              "  'learning_rate': 5.009994999999962e-05,\n",
              "  'eval_loss': 1.0057965368032455,\n",
              "  'eval_accuracy': 0.8600000143051147,\n",
              "  'eval_conf_matrix': array([[ 66,   0,   3,   3,   0,   0,  13,   0,   1,   0],\n",
              "         [  0, 103,   0,   2,   0,   0,   1,   0,   0,   0],\n",
              "         [  3,   0,  90,   0,  12,   0,   9,   0,   0,   0],\n",
              "         [  4,   0,   0,  85,   6,   0,   0,   0,   0,   0],\n",
              "         [  0,   0,  13,   3,  68,   0,   7,   0,   0,   0],\n",
              "         [  0,   0,   0,   0,   0,  89,   0,   3,   0,   1],\n",
              "         [ 11,   0,  11,   7,   5,   0,  58,   0,   1,   0],\n",
              "         [  0,   0,   0,   0,   0,   3,   0,  93,   0,   4],\n",
              "         [  2,   0,   2,   0,   2,   1,   0,   1, 102,   1],\n",
              "         [  0,   0,   0,   0,   0,   0,   0,   5,   0, 106]]),\n",
              "  'train_loss': 3.7431747114169414e-05,\n",
              "  'train_accuracy': 1.0,\n",
              "  'train_conf_matrix': array([[520,   0,   0,   0,   0,   0,   0,   0,   0,   0],\n",
              "         [  0, 456,   0,   0,   0,   0,   0,   0,   0,   0],\n",
              "         [  0,   0, 486,   0,   0,   0,   0,   0,   0,   0],\n",
              "         [  0,   0,   0, 535,   0,   0,   0,   0,   0,   0],\n",
              "         [  0,   0,   0,   0, 533,   0,   0,   0,   0,   0],\n",
              "         [  0,   0,   0,   0,   0, 513,   0,   0,   0,   0],\n",
              "         [  0,   0,   0,   0,   0,   0, 528,   0,   0,   0],\n",
              "         [  0,   0,   0,   0,   0,   0,   0, 489,   0,   0],\n",
              "         [  0,   0,   0,   0,   0,   0,   0,   0, 455,   0],\n",
              "         [  0,   0,   0,   0,   0,   0,   0,   0,   0, 485]]),\n",
              "  'mean_eval_loss': 0.8645540632307529}}"
            ]
          },
          "execution_count": 79,
          "metadata": {},
          "output_type": "execute_result"
        }
      ],
      "source": [
        "metrics_dict"
      ]
    },
    {
      "cell_type": "code",
      "execution_count": null,
      "metadata": {
        "colab": {
          "base_uri": "https://localhost:8080/"
        },
        "id": "gk7x_dXYTFvD",
        "outputId": "fb82f464-c289-4f54-ca17-47ee4e224ed0"
      },
      "outputs": [
        {
          "data": {
            "text/plain": [
              "dict_keys([100, 200, 300, 400, 500, 600, 700, 800, 900, 1000, 1100, 1200, 1300, 1400, 1500, 1600, 1700, 1800, 1900, 2000])"
            ]
          },
          "execution_count": 80,
          "metadata": {},
          "output_type": "execute_result"
        }
      ],
      "source": [
        "metrics_dict[100]['eval_accuracy']"
      ]
    },
    {
      "cell_type": "code",
      "execution_count": null,
      "metadata": {
        "colab": {
          "base_uri": "https://localhost:8080/"
        },
        "id": "FnTTPys8VZut",
        "outputId": "7108b526-cef2-4d61-fc39-204cf18ff643"
      },
      "outputs": [
        {
          "data": {
            "text/plain": [
              "0.7900000214576721"
            ]
          },
          "execution_count": 81,
          "metadata": {},
          "output_type": "execute_result"
        }
      ],
      "source": [
        "metrics_dict[100]['eval_accuracy']"
      ]
    },
    {
      "cell_type": "code",
      "execution_count": null,
      "metadata": {
        "colab": {
          "base_uri": "https://localhost:8080/",
          "height": 490
        },
        "id": "47zGyVP1WGnd",
        "outputId": "1f07bd78-d34b-4d9d-957b-c52f8b8fd219"
      },
      "outputs": [
        {
          "data": {
            "text/plain": [
              "Text(0.5, 1.0, 'Training accuracy')"
            ]
          },
          "execution_count": 89,
          "metadata": {},
          "output_type": "execute_result"
        },
        {
          "data": {
            "image/png": "[encoded data removed]",
            "text/plain": [
              "<Figure size 640x480 with 1 Axes>"
            ]
          },
          "metadata": {},
          "output_type": "display_data"
        }
      ],
      "source": [
        "dfa_all.plot(x=\"number\",y = ['train_accuracy','H_flip_train_accuracy'])\n",
        "plt.title(\"Training accuracy\")"
      ]
    },
    {
      "cell_type": "code",
      "execution_count": null,
      "metadata": {
        "colab": {
          "base_uri": "https://localhost:8080/",
          "height": 490
        },
        "id": "xL55GcyUXj4C",
        "outputId": "ec6790a2-3fb1-434d-9f9a-6b4dd678527f"
      },
      "outputs": [
        {
          "data": {
            "text/plain": [
              "Text(0.5, 1.0, 'Eval accuracy')"
            ]
          },
          "execution_count": 90,
          "metadata": {},
          "output_type": "execute_result"
        },
        {
          "data": {
            "image/png": "[encoded data removed]",
            "text/plain": [
              "<Figure size 640x480 with 1 Axes>"
            ]
          },
          "metadata": {},
          "output_type": "display_data"
        }
      ],
      "source": [
        "dfa_all.plot(x=\"number\",y = ['eval_accuracy','H_flip_eval_accuracy'])\n",
        "plt.title(\"Eval accuracy\")"
      ]
    },
    {
      "cell_type": "code",
      "execution_count": null,
      "metadata": {
        "colab": {
          "base_uri": "https://localhost:8080/",
          "height": 490
        },
        "id": "D9djRLijXuzS",
        "outputId": "49b23a13-216d-46d7-9fa5-c150500151a1"
      },
      "outputs": [
        {
          "data": {
            "text/plain": [
              "Text(0.5, 1.0, 'Training accuracy')"
            ]
          },
          "execution_count": 91,
          "metadata": {},
          "output_type": "execute_result"
        },
        {
          "data": {
            "image/png": "[encoded data removed]",
            "text/plain": [
              "<Figure size 640x480 with 1 Axes>"
            ]
          },
          "metadata": {},
          "output_type": "display_data"
        }
      ],
      "source": [
        "dfa_all.plot(x=\"number\",y = ['train_accuracy','V_flip_train_accuracy'])\n",
        "plt.title(\"Training accuracy\")"
      ]
    },
    {
      "cell_type": "code",
      "execution_count": null,
      "metadata": {
        "colab": {
          "base_uri": "https://localhost:8080/",
          "height": 490
        },
        "id": "lP6ziIm5ZDp3",
        "outputId": "40b770e5-f56e-41e1-fb02-e1042e6ca10f"
      },
      "outputs": [
        {
          "data": {
            "text/plain": [
              "Text(0.5, 1.0, 'Eval accuracy')"
            ]
          },
          "execution_count": 92,
          "metadata": {},
          "output_type": "execute_result"
        },
        {
          "data": {
            "image/png": "[encoded data removed]",
            "text/plain": [
              "<Figure size 640x480 with 1 Axes>"
            ]
          },
          "metadata": {},
          "output_type": "display_data"
        }
      ],
      "source": [
        "dfa_all.plot(x=\"number\",y = ['eval_accuracy','V_flip_eval_accuracy'])\n",
        "plt.title(\"Eval accuracy\")"
      ]
    }
  ],
  "metadata": {
    "accelerator": "GPU",
    "colab": {
      "provenance": []
    },
    "gpuClass": "standard",
    "kernelspec": {
      "display_name": "Python 3",
      "name": "python3"
    },
    "language_info": {
      "name": "python"
    }
  },
  "nbformat": 4,
  "nbformat_minor": 0
}
